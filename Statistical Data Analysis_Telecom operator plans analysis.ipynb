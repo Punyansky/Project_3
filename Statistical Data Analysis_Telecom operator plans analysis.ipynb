{
 "cells": [
  {
   "cell_type": "markdown",
   "id": "52978b1a",
   "metadata": {},
   "source": [
    "# \"Statistical Data Analysis\" Project 3"
   ]
  },
  {
   "cell_type": "markdown",
   "id": "691de145",
   "metadata": {},
   "source": [
    "#### Step 1. Open the data file and study the general information\n",
    "#### Step 2. Prepare the data\n",
    "\n",
    "    Convert the data to the necessary types\n",
    "    Find and eliminate errors in the data\n",
    "\n",
    "Explain what errors you found and how you removed them. Note: many calls have a duration of 0.0 minutes. These might be missed calls. Whether or not to preprocess these values is up to you; assess how much their absence would affect the results of your analysis.\n",
    "For each user, find:\n",
    "\n",
    "    The number of calls made and minutes used per month\n",
    "    The number of text messages sent per month\n",
    "    The volume of data per month\n",
    "    The monthly revenue from each user (subtract the free package limit from the total number of calls, text messages, and data; multiply the result by the calling plan value; add the monthly charge depending on the calling plan)\n",
    "\n",
    "#### Step 3. Analyze the data\n",
    "Describe the customers' behavior. Find the minutes, texts, and volume of data the users of each plan require per month. Calculate the mean, dispersion, and standard deviation. Plot histograms. Describe the distributions.\n",
    "Step 4. Test the hypotheses\n",
    "\n",
    "    The average revenue from users of Ultimate and Surf calling plans differs.\n",
    "    The average revenue from users in NY-NJ area is different from that of the users from other regions.\n",
    "\n",
    "You decide what alpha value to use.\n",
    "Explain:\n",
    "\n",
    "    How you formulated the null and alternative hypotheses.\n",
    "    What criterion you used to test the hypotheses and why.\n",
    "\n",
    "#### Step 5. Write an overall conclusion\n",
    "Format: Complete the task in Jupyter Notebook. Put the programming code in code cells and text explanations in markdown cells, then apply formatting and headings."
   ]
  },
  {
   "cell_type": "markdown",
   "id": "592adf82",
   "metadata": {},
   "source": [
    "####  1. Opening the data file and studying the general information"
   ]
  },
  {
   "cell_type": "code",
   "execution_count": 1,
   "id": "f914d917",
   "metadata": {},
   "outputs": [],
   "source": [
    "import pandas as pd\n",
    "import numpy as np\n",
    "import datetime\n",
    "import math\n",
    "from functools import reduce\n",
    "from scipy import stats as st\n",
    "import matplotlib.pyplot as plt\n",
    "import seaborn as sns"
   ]
  },
  {
   "cell_type": "code",
   "execution_count": 2,
   "id": "7087f3d8",
   "metadata": {},
   "outputs": [],
   "source": [
    "try:\n",
    "    calls = pd.read_csv('megaline_calls.csv')\n",
    "    internet = pd.read_csv('megaline_internet.csv')\n",
    "    messages = pd.read_csv('megaline_messages.csv')\n",
    "    plans = pd.read_csv('megaline_plans.csv')\n",
    "    users = pd.read_csv('megaline_users.csv')\n",
    "\n",
    "except:\n",
    "    calls = pd.read_csv('/datasets/megaline_calls.csv')\n",
    "    internet = pd.read_csv('/datasets/megaline_internet.csv')\n",
    "    messages = pd.read_csv('/datasets/megaline_messages.csv')\n",
    "    plans = pd.read_csv('/datasets/megaline_plans.csv')\n",
    "    users = pd.read_csv('/datasets/megaline_users.csv')\n"
   ]
  },
  {
   "cell_type": "code",
   "execution_count": 3,
   "id": "bcebf8a9",
   "metadata": {},
   "outputs": [
    {
     "name": "stdout",
     "output_type": "stream",
     "text": [
      "<class 'pandas.core.frame.DataFrame'>\n",
      "RangeIndex: 137735 entries, 0 to 137734\n",
      "Data columns (total 4 columns):\n",
      " #   Column     Non-Null Count   Dtype  \n",
      "---  ------     --------------   -----  \n",
      " 0   id         137735 non-null  object \n",
      " 1   user_id    137735 non-null  int64  \n",
      " 2   call_date  137735 non-null  object \n",
      " 3   duration   137735 non-null  float64\n",
      "dtypes: float64(1), int64(1), object(2)\n",
      "memory usage: 4.2+ MB\n"
     ]
    }
   ],
   "source": [
    "calls.info()\n"
   ]
  },
  {
   "cell_type": "code",
   "execution_count": 4,
   "id": "bd3f79ba",
   "metadata": {
    "scrolled": true
   },
   "outputs": [
    {
     "data": {
      "text/html": [
       "<div>\n",
       "<style scoped>\n",
       "    .dataframe tbody tr th:only-of-type {\n",
       "        vertical-align: middle;\n",
       "    }\n",
       "\n",
       "    .dataframe tbody tr th {\n",
       "        vertical-align: top;\n",
       "    }\n",
       "\n",
       "    .dataframe thead th {\n",
       "        text-align: right;\n",
       "    }\n",
       "</style>\n",
       "<table border=\"1\" class=\"dataframe\">\n",
       "  <thead>\n",
       "    <tr style=\"text-align: right;\">\n",
       "      <th></th>\n",
       "      <th>id</th>\n",
       "      <th>user_id</th>\n",
       "      <th>call_date</th>\n",
       "      <th>duration</th>\n",
       "    </tr>\n",
       "  </thead>\n",
       "  <tbody>\n",
       "    <tr>\n",
       "      <th>0</th>\n",
       "      <td>1000_93</td>\n",
       "      <td>1000</td>\n",
       "      <td>2018-12-27</td>\n",
       "      <td>8.52</td>\n",
       "    </tr>\n",
       "    <tr>\n",
       "      <th>1</th>\n",
       "      <td>1000_145</td>\n",
       "      <td>1000</td>\n",
       "      <td>2018-12-27</td>\n",
       "      <td>13.66</td>\n",
       "    </tr>\n",
       "    <tr>\n",
       "      <th>2</th>\n",
       "      <td>1000_247</td>\n",
       "      <td>1000</td>\n",
       "      <td>2018-12-27</td>\n",
       "      <td>14.48</td>\n",
       "    </tr>\n",
       "    <tr>\n",
       "      <th>3</th>\n",
       "      <td>1000_309</td>\n",
       "      <td>1000</td>\n",
       "      <td>2018-12-28</td>\n",
       "      <td>5.76</td>\n",
       "    </tr>\n",
       "    <tr>\n",
       "      <th>4</th>\n",
       "      <td>1000_380</td>\n",
       "      <td>1000</td>\n",
       "      <td>2018-12-30</td>\n",
       "      <td>4.22</td>\n",
       "    </tr>\n",
       "  </tbody>\n",
       "</table>\n",
       "</div>"
      ],
      "text/plain": [
       "         id  user_id   call_date  duration\n",
       "0   1000_93     1000  2018-12-27      8.52\n",
       "1  1000_145     1000  2018-12-27     13.66\n",
       "2  1000_247     1000  2018-12-27     14.48\n",
       "3  1000_309     1000  2018-12-28      5.76\n",
       "4  1000_380     1000  2018-12-30      4.22"
      ]
     },
     "execution_count": 4,
     "metadata": {},
     "output_type": "execute_result"
    }
   ],
   "source": [
    "calls.head()"
   ]
  },
  {
   "cell_type": "markdown",
   "id": "ead4b052",
   "metadata": {},
   "source": [
    "Here we should convert call_data from object to **datetime** format and  duration to **int**"
   ]
  },
  {
   "cell_type": "code",
   "execution_count": 5,
   "id": "bb567b93",
   "metadata": {},
   "outputs": [
    {
     "name": "stdout",
     "output_type": "stream",
     "text": [
      "<class 'pandas.core.frame.DataFrame'>\n",
      "RangeIndex: 104825 entries, 0 to 104824\n",
      "Data columns (total 4 columns):\n",
      " #   Column        Non-Null Count   Dtype  \n",
      "---  ------        --------------   -----  \n",
      " 0   id            104825 non-null  object \n",
      " 1   user_id       104825 non-null  int64  \n",
      " 2   session_date  104825 non-null  object \n",
      " 3   mb_used       104825 non-null  float64\n",
      "dtypes: float64(1), int64(1), object(2)\n",
      "memory usage: 3.2+ MB\n"
     ]
    }
   ],
   "source": [
    "internet.info()\n"
   ]
  },
  {
   "cell_type": "code",
   "execution_count": 6,
   "id": "f7400192",
   "metadata": {
    "scrolled": true
   },
   "outputs": [
    {
     "data": {
      "text/html": [
       "<div>\n",
       "<style scoped>\n",
       "    .dataframe tbody tr th:only-of-type {\n",
       "        vertical-align: middle;\n",
       "    }\n",
       "\n",
       "    .dataframe tbody tr th {\n",
       "        vertical-align: top;\n",
       "    }\n",
       "\n",
       "    .dataframe thead th {\n",
       "        text-align: right;\n",
       "    }\n",
       "</style>\n",
       "<table border=\"1\" class=\"dataframe\">\n",
       "  <thead>\n",
       "    <tr style=\"text-align: right;\">\n",
       "      <th></th>\n",
       "      <th>id</th>\n",
       "      <th>user_id</th>\n",
       "      <th>session_date</th>\n",
       "      <th>mb_used</th>\n",
       "    </tr>\n",
       "  </thead>\n",
       "  <tbody>\n",
       "    <tr>\n",
       "      <th>0</th>\n",
       "      <td>1000_13</td>\n",
       "      <td>1000</td>\n",
       "      <td>2018-12-29</td>\n",
       "      <td>89.86</td>\n",
       "    </tr>\n",
       "    <tr>\n",
       "      <th>1</th>\n",
       "      <td>1000_204</td>\n",
       "      <td>1000</td>\n",
       "      <td>2018-12-31</td>\n",
       "      <td>0.00</td>\n",
       "    </tr>\n",
       "    <tr>\n",
       "      <th>2</th>\n",
       "      <td>1000_379</td>\n",
       "      <td>1000</td>\n",
       "      <td>2018-12-28</td>\n",
       "      <td>660.40</td>\n",
       "    </tr>\n",
       "    <tr>\n",
       "      <th>3</th>\n",
       "      <td>1000_413</td>\n",
       "      <td>1000</td>\n",
       "      <td>2018-12-26</td>\n",
       "      <td>270.99</td>\n",
       "    </tr>\n",
       "    <tr>\n",
       "      <th>4</th>\n",
       "      <td>1000_442</td>\n",
       "      <td>1000</td>\n",
       "      <td>2018-12-27</td>\n",
       "      <td>880.22</td>\n",
       "    </tr>\n",
       "  </tbody>\n",
       "</table>\n",
       "</div>"
      ],
      "text/plain": [
       "         id  user_id session_date  mb_used\n",
       "0   1000_13     1000   2018-12-29    89.86\n",
       "1  1000_204     1000   2018-12-31     0.00\n",
       "2  1000_379     1000   2018-12-28   660.40\n",
       "3  1000_413     1000   2018-12-26   270.99\n",
       "4  1000_442     1000   2018-12-27   880.22"
      ]
     },
     "execution_count": 6,
     "metadata": {},
     "output_type": "execute_result"
    }
   ],
   "source": [
    "internet.head()"
   ]
  },
  {
   "cell_type": "markdown",
   "id": "4caeebd8",
   "metadata": {},
   "source": [
    "Here we should convert session_date from object to **datetime** "
   ]
  },
  {
   "cell_type": "code",
   "execution_count": 7,
   "id": "5d04d7e2",
   "metadata": {},
   "outputs": [
    {
     "name": "stdout",
     "output_type": "stream",
     "text": [
      "<class 'pandas.core.frame.DataFrame'>\n",
      "RangeIndex: 76051 entries, 0 to 76050\n",
      "Data columns (total 3 columns):\n",
      " #   Column        Non-Null Count  Dtype \n",
      "---  ------        --------------  ----- \n",
      " 0   id            76051 non-null  object\n",
      " 1   user_id       76051 non-null  int64 \n",
      " 2   message_date  76051 non-null  object\n",
      "dtypes: int64(1), object(2)\n",
      "memory usage: 1.7+ MB\n"
     ]
    }
   ],
   "source": [
    "messages.info()\n"
   ]
  },
  {
   "cell_type": "code",
   "execution_count": 8,
   "id": "33ea5af2",
   "metadata": {},
   "outputs": [
    {
     "data": {
      "text/html": [
       "<div>\n",
       "<style scoped>\n",
       "    .dataframe tbody tr th:only-of-type {\n",
       "        vertical-align: middle;\n",
       "    }\n",
       "\n",
       "    .dataframe tbody tr th {\n",
       "        vertical-align: top;\n",
       "    }\n",
       "\n",
       "    .dataframe thead th {\n",
       "        text-align: right;\n",
       "    }\n",
       "</style>\n",
       "<table border=\"1\" class=\"dataframe\">\n",
       "  <thead>\n",
       "    <tr style=\"text-align: right;\">\n",
       "      <th></th>\n",
       "      <th>id</th>\n",
       "      <th>user_id</th>\n",
       "      <th>message_date</th>\n",
       "    </tr>\n",
       "  </thead>\n",
       "  <tbody>\n",
       "    <tr>\n",
       "      <th>0</th>\n",
       "      <td>1000_125</td>\n",
       "      <td>1000</td>\n",
       "      <td>2018-12-27</td>\n",
       "    </tr>\n",
       "    <tr>\n",
       "      <th>1</th>\n",
       "      <td>1000_160</td>\n",
       "      <td>1000</td>\n",
       "      <td>2018-12-31</td>\n",
       "    </tr>\n",
       "    <tr>\n",
       "      <th>2</th>\n",
       "      <td>1000_223</td>\n",
       "      <td>1000</td>\n",
       "      <td>2018-12-31</td>\n",
       "    </tr>\n",
       "    <tr>\n",
       "      <th>3</th>\n",
       "      <td>1000_251</td>\n",
       "      <td>1000</td>\n",
       "      <td>2018-12-27</td>\n",
       "    </tr>\n",
       "    <tr>\n",
       "      <th>4</th>\n",
       "      <td>1000_255</td>\n",
       "      <td>1000</td>\n",
       "      <td>2018-12-26</td>\n",
       "    </tr>\n",
       "  </tbody>\n",
       "</table>\n",
       "</div>"
      ],
      "text/plain": [
       "         id  user_id message_date\n",
       "0  1000_125     1000   2018-12-27\n",
       "1  1000_160     1000   2018-12-31\n",
       "2  1000_223     1000   2018-12-31\n",
       "3  1000_251     1000   2018-12-27\n",
       "4  1000_255     1000   2018-12-26"
      ]
     },
     "execution_count": 8,
     "metadata": {},
     "output_type": "execute_result"
    }
   ],
   "source": [
    "messages.head()"
   ]
  },
  {
   "cell_type": "markdown",
   "id": "ef683d21",
   "metadata": {},
   "source": [
    "Here we should convert message_date from object to **datetime** "
   ]
  },
  {
   "cell_type": "code",
   "execution_count": 9,
   "id": "47d4ec88",
   "metadata": {},
   "outputs": [
    {
     "name": "stdout",
     "output_type": "stream",
     "text": [
      "<class 'pandas.core.frame.DataFrame'>\n",
      "RangeIndex: 2 entries, 0 to 1\n",
      "Data columns (total 8 columns):\n",
      " #   Column                 Non-Null Count  Dtype  \n",
      "---  ------                 --------------  -----  \n",
      " 0   messages_included      2 non-null      int64  \n",
      " 1   mb_per_month_included  2 non-null      int64  \n",
      " 2   minutes_included       2 non-null      int64  \n",
      " 3   usd_monthly_pay        2 non-null      int64  \n",
      " 4   usd_per_gb             2 non-null      int64  \n",
      " 5   usd_per_message        2 non-null      float64\n",
      " 6   usd_per_minute         2 non-null      float64\n",
      " 7   plan_name              2 non-null      object \n",
      "dtypes: float64(2), int64(5), object(1)\n",
      "memory usage: 256.0+ bytes\n"
     ]
    }
   ],
   "source": [
    "plans.info()\n"
   ]
  },
  {
   "cell_type": "code",
   "execution_count": 10,
   "id": "f4267eba",
   "metadata": {},
   "outputs": [
    {
     "data": {
      "text/html": [
       "<div>\n",
       "<style scoped>\n",
       "    .dataframe tbody tr th:only-of-type {\n",
       "        vertical-align: middle;\n",
       "    }\n",
       "\n",
       "    .dataframe tbody tr th {\n",
       "        vertical-align: top;\n",
       "    }\n",
       "\n",
       "    .dataframe thead th {\n",
       "        text-align: right;\n",
       "    }\n",
       "</style>\n",
       "<table border=\"1\" class=\"dataframe\">\n",
       "  <thead>\n",
       "    <tr style=\"text-align: right;\">\n",
       "      <th></th>\n",
       "      <th>messages_included</th>\n",
       "      <th>mb_per_month_included</th>\n",
       "      <th>minutes_included</th>\n",
       "      <th>usd_monthly_pay</th>\n",
       "      <th>usd_per_gb</th>\n",
       "      <th>usd_per_message</th>\n",
       "      <th>usd_per_minute</th>\n",
       "      <th>plan_name</th>\n",
       "    </tr>\n",
       "  </thead>\n",
       "  <tbody>\n",
       "    <tr>\n",
       "      <th>0</th>\n",
       "      <td>50</td>\n",
       "      <td>15360</td>\n",
       "      <td>500</td>\n",
       "      <td>20</td>\n",
       "      <td>10</td>\n",
       "      <td>0.03</td>\n",
       "      <td>0.03</td>\n",
       "      <td>surf</td>\n",
       "    </tr>\n",
       "    <tr>\n",
       "      <th>1</th>\n",
       "      <td>1000</td>\n",
       "      <td>30720</td>\n",
       "      <td>3000</td>\n",
       "      <td>70</td>\n",
       "      <td>7</td>\n",
       "      <td>0.01</td>\n",
       "      <td>0.01</td>\n",
       "      <td>ultimate</td>\n",
       "    </tr>\n",
       "  </tbody>\n",
       "</table>\n",
       "</div>"
      ],
      "text/plain": [
       "   messages_included  mb_per_month_included  minutes_included  \\\n",
       "0                 50                  15360               500   \n",
       "1               1000                  30720              3000   \n",
       "\n",
       "   usd_monthly_pay  usd_per_gb  usd_per_message  usd_per_minute plan_name  \n",
       "0               20          10             0.03            0.03      surf  \n",
       "1               70           7             0.01            0.01  ultimate  "
      ]
     },
     "execution_count": 10,
     "metadata": {},
     "output_type": "execute_result"
    }
   ],
   "source": [
    "plans.head()"
   ]
  },
  {
   "cell_type": "code",
   "execution_count": 11,
   "id": "f308b1f5",
   "metadata": {},
   "outputs": [
    {
     "name": "stdout",
     "output_type": "stream",
     "text": [
      "<class 'pandas.core.frame.DataFrame'>\n",
      "RangeIndex: 500 entries, 0 to 499\n",
      "Data columns (total 8 columns):\n",
      " #   Column      Non-Null Count  Dtype \n",
      "---  ------      --------------  ----- \n",
      " 0   user_id     500 non-null    int64 \n",
      " 1   first_name  500 non-null    object\n",
      " 2   last_name   500 non-null    object\n",
      " 3   age         500 non-null    int64 \n",
      " 4   city        500 non-null    object\n",
      " 5   reg_date    500 non-null    object\n",
      " 6   plan        500 non-null    object\n",
      " 7   churn_date  34 non-null     object\n",
      "dtypes: int64(2), object(6)\n",
      "memory usage: 31.4+ KB\n"
     ]
    }
   ],
   "source": [
    "users.info()"
   ]
  },
  {
   "cell_type": "code",
   "execution_count": 12,
   "id": "e8d456c4",
   "metadata": {
    "scrolled": true
   },
   "outputs": [
    {
     "data": {
      "text/html": [
       "<div>\n",
       "<style scoped>\n",
       "    .dataframe tbody tr th:only-of-type {\n",
       "        vertical-align: middle;\n",
       "    }\n",
       "\n",
       "    .dataframe tbody tr th {\n",
       "        vertical-align: top;\n",
       "    }\n",
       "\n",
       "    .dataframe thead th {\n",
       "        text-align: right;\n",
       "    }\n",
       "</style>\n",
       "<table border=\"1\" class=\"dataframe\">\n",
       "  <thead>\n",
       "    <tr style=\"text-align: right;\">\n",
       "      <th></th>\n",
       "      <th>user_id</th>\n",
       "      <th>first_name</th>\n",
       "      <th>last_name</th>\n",
       "      <th>age</th>\n",
       "      <th>city</th>\n",
       "      <th>reg_date</th>\n",
       "      <th>plan</th>\n",
       "      <th>churn_date</th>\n",
       "    </tr>\n",
       "  </thead>\n",
       "  <tbody>\n",
       "    <tr>\n",
       "      <th>0</th>\n",
       "      <td>1000</td>\n",
       "      <td>Anamaria</td>\n",
       "      <td>Bauer</td>\n",
       "      <td>45</td>\n",
       "      <td>Atlanta-Sandy Springs-Roswell, GA MSA</td>\n",
       "      <td>2018-12-24</td>\n",
       "      <td>ultimate</td>\n",
       "      <td>NaN</td>\n",
       "    </tr>\n",
       "    <tr>\n",
       "      <th>1</th>\n",
       "      <td>1001</td>\n",
       "      <td>Mickey</td>\n",
       "      <td>Wilkerson</td>\n",
       "      <td>28</td>\n",
       "      <td>Seattle-Tacoma-Bellevue, WA MSA</td>\n",
       "      <td>2018-08-13</td>\n",
       "      <td>surf</td>\n",
       "      <td>NaN</td>\n",
       "    </tr>\n",
       "    <tr>\n",
       "      <th>2</th>\n",
       "      <td>1002</td>\n",
       "      <td>Carlee</td>\n",
       "      <td>Hoffman</td>\n",
       "      <td>36</td>\n",
       "      <td>Las Vegas-Henderson-Paradise, NV MSA</td>\n",
       "      <td>2018-10-21</td>\n",
       "      <td>surf</td>\n",
       "      <td>NaN</td>\n",
       "    </tr>\n",
       "    <tr>\n",
       "      <th>3</th>\n",
       "      <td>1003</td>\n",
       "      <td>Reynaldo</td>\n",
       "      <td>Jenkins</td>\n",
       "      <td>52</td>\n",
       "      <td>Tulsa, OK MSA</td>\n",
       "      <td>2018-01-28</td>\n",
       "      <td>surf</td>\n",
       "      <td>NaN</td>\n",
       "    </tr>\n",
       "    <tr>\n",
       "      <th>4</th>\n",
       "      <td>1004</td>\n",
       "      <td>Leonila</td>\n",
       "      <td>Thompson</td>\n",
       "      <td>40</td>\n",
       "      <td>Seattle-Tacoma-Bellevue, WA MSA</td>\n",
       "      <td>2018-05-23</td>\n",
       "      <td>surf</td>\n",
       "      <td>NaN</td>\n",
       "    </tr>\n",
       "  </tbody>\n",
       "</table>\n",
       "</div>"
      ],
      "text/plain": [
       "   user_id first_name  last_name  age                                   city  \\\n",
       "0     1000   Anamaria      Bauer   45  Atlanta-Sandy Springs-Roswell, GA MSA   \n",
       "1     1001     Mickey  Wilkerson   28        Seattle-Tacoma-Bellevue, WA MSA   \n",
       "2     1002     Carlee    Hoffman   36   Las Vegas-Henderson-Paradise, NV MSA   \n",
       "3     1003   Reynaldo    Jenkins   52                          Tulsa, OK MSA   \n",
       "4     1004    Leonila   Thompson   40        Seattle-Tacoma-Bellevue, WA MSA   \n",
       "\n",
       "     reg_date      plan churn_date  \n",
       "0  2018-12-24  ultimate        NaN  \n",
       "1  2018-08-13      surf        NaN  \n",
       "2  2018-10-21      surf        NaN  \n",
       "3  2018-01-28      surf        NaN  \n",
       "4  2018-05-23      surf        NaN  "
      ]
     },
     "execution_count": 12,
     "metadata": {},
     "output_type": "execute_result"
    }
   ],
   "source": [
    "users.head()"
   ]
  },
  {
   "cell_type": "markdown",
   "id": "35d67cd8",
   "metadata": {},
   "source": [
    "####  2. Preparing the data"
   ]
  },
  {
   "cell_type": "code",
   "execution_count": 13,
   "id": "1d2d3b56",
   "metadata": {
    "scrolled": true
   },
   "outputs": [
    {
     "data": {
      "text/html": [
       "<div>\n",
       "<style scoped>\n",
       "    .dataframe tbody tr th:only-of-type {\n",
       "        vertical-align: middle;\n",
       "    }\n",
       "\n",
       "    .dataframe tbody tr th {\n",
       "        vertical-align: top;\n",
       "    }\n",
       "\n",
       "    .dataframe thead th {\n",
       "        text-align: right;\n",
       "    }\n",
       "</style>\n",
       "<table border=\"1\" class=\"dataframe\">\n",
       "  <thead>\n",
       "    <tr style=\"text-align: right;\">\n",
       "      <th></th>\n",
       "      <th>id</th>\n",
       "      <th>user_id</th>\n",
       "      <th>call_date</th>\n",
       "      <th>duration</th>\n",
       "    </tr>\n",
       "  </thead>\n",
       "  <tbody>\n",
       "    <tr>\n",
       "      <th>0</th>\n",
       "      <td>1000_93</td>\n",
       "      <td>1000</td>\n",
       "      <td>2018-12-27</td>\n",
       "      <td>9</td>\n",
       "    </tr>\n",
       "    <tr>\n",
       "      <th>1</th>\n",
       "      <td>1000_145</td>\n",
       "      <td>1000</td>\n",
       "      <td>2018-12-27</td>\n",
       "      <td>14</td>\n",
       "    </tr>\n",
       "    <tr>\n",
       "      <th>2</th>\n",
       "      <td>1000_247</td>\n",
       "      <td>1000</td>\n",
       "      <td>2018-12-27</td>\n",
       "      <td>15</td>\n",
       "    </tr>\n",
       "    <tr>\n",
       "      <th>3</th>\n",
       "      <td>1000_309</td>\n",
       "      <td>1000</td>\n",
       "      <td>2018-12-28</td>\n",
       "      <td>6</td>\n",
       "    </tr>\n",
       "    <tr>\n",
       "      <th>4</th>\n",
       "      <td>1000_380</td>\n",
       "      <td>1000</td>\n",
       "      <td>2018-12-30</td>\n",
       "      <td>5</td>\n",
       "    </tr>\n",
       "    <tr>\n",
       "      <th>...</th>\n",
       "      <td>...</td>\n",
       "      <td>...</td>\n",
       "      <td>...</td>\n",
       "      <td>...</td>\n",
       "    </tr>\n",
       "    <tr>\n",
       "      <th>137730</th>\n",
       "      <td>1499_199</td>\n",
       "      <td>1499</td>\n",
       "      <td>2018-11-21</td>\n",
       "      <td>9</td>\n",
       "    </tr>\n",
       "    <tr>\n",
       "      <th>137731</th>\n",
       "      <td>1499_200</td>\n",
       "      <td>1499</td>\n",
       "      <td>2018-10-20</td>\n",
       "      <td>11</td>\n",
       "    </tr>\n",
       "    <tr>\n",
       "      <th>137732</th>\n",
       "      <td>1499_201</td>\n",
       "      <td>1499</td>\n",
       "      <td>2018-09-21</td>\n",
       "      <td>9</td>\n",
       "    </tr>\n",
       "    <tr>\n",
       "      <th>137733</th>\n",
       "      <td>1499_202</td>\n",
       "      <td>1499</td>\n",
       "      <td>2018-10-10</td>\n",
       "      <td>1</td>\n",
       "    </tr>\n",
       "    <tr>\n",
       "      <th>137734</th>\n",
       "      <td>1499_203</td>\n",
       "      <td>1499</td>\n",
       "      <td>2018-12-29</td>\n",
       "      <td>14</td>\n",
       "    </tr>\n",
       "  </tbody>\n",
       "</table>\n",
       "<p>137735 rows × 4 columns</p>\n",
       "</div>"
      ],
      "text/plain": [
       "              id  user_id  call_date  duration\n",
       "0        1000_93     1000 2018-12-27         9\n",
       "1       1000_145     1000 2018-12-27        14\n",
       "2       1000_247     1000 2018-12-27        15\n",
       "3       1000_309     1000 2018-12-28         6\n",
       "4       1000_380     1000 2018-12-30         5\n",
       "...          ...      ...        ...       ...\n",
       "137730  1499_199     1499 2018-11-21         9\n",
       "137731  1499_200     1499 2018-10-20        11\n",
       "137732  1499_201     1499 2018-09-21         9\n",
       "137733  1499_202     1499 2018-10-10         1\n",
       "137734  1499_203     1499 2018-12-29        14\n",
       "\n",
       "[137735 rows x 4 columns]"
      ]
     },
     "execution_count": 13,
     "metadata": {},
     "output_type": "execute_result"
    }
   ],
   "source": [
    "calls['call_date'] = pd.to_datetime(calls['call_date'])\n",
    "calls['duration'] = [math.ceil(number) for number in calls['duration']]\n",
    "calls['duration'] = calls['duration'].astype(int)\n",
    "calls"
   ]
  },
  {
   "cell_type": "markdown",
   "id": "3c97d277",
   "metadata": {},
   "source": [
    "We converting **call_date** to **datetime** and **call_duration** from float to **int** data type"
   ]
  },
  {
   "cell_type": "code",
   "execution_count": 14,
   "id": "7813efec",
   "metadata": {},
   "outputs": [
    {
     "data": {
      "text/plain": [
       "0         2018-12-29\n",
       "1         2018-12-31\n",
       "2         2018-12-28\n",
       "3         2018-12-26\n",
       "4         2018-12-27\n",
       "             ...    \n",
       "104820    2018-10-20\n",
       "104821    2018-12-30\n",
       "104822    2018-09-22\n",
       "104823    2018-12-07\n",
       "104824    2018-12-24\n",
       "Name: session_date, Length: 104825, dtype: object"
      ]
     },
     "execution_count": 14,
     "metadata": {},
     "output_type": "execute_result"
    }
   ],
   "source": [
    "internet['session_date']"
   ]
  },
  {
   "cell_type": "code",
   "execution_count": 15,
   "id": "3cb26edf",
   "metadata": {},
   "outputs": [],
   "source": [
    "\n",
    "internet['session_date'] = pd.to_datetime(internet['session_date'])\n",
    "internet['month'] = internet['session_date'].dt.month\n",
    "internet['year'] = internet['session_date'].dt.year "
   ]
  },
  {
   "cell_type": "markdown",
   "id": "affc660e",
   "metadata": {},
   "source": [
    "We converting **session_date** column to **datetime** and adding **month**, **year** columns to the internet dataset"
   ]
  },
  {
   "cell_type": "code",
   "execution_count": 16,
   "id": "1338784c",
   "metadata": {
    "scrolled": false
   },
   "outputs": [
    {
     "data": {
      "text/html": [
       "<div>\n",
       "<style scoped>\n",
       "    .dataframe tbody tr th:only-of-type {\n",
       "        vertical-align: middle;\n",
       "    }\n",
       "\n",
       "    .dataframe tbody tr th {\n",
       "        vertical-align: top;\n",
       "    }\n",
       "\n",
       "    .dataframe thead th {\n",
       "        text-align: right;\n",
       "    }\n",
       "</style>\n",
       "<table border=\"1\" class=\"dataframe\">\n",
       "  <thead>\n",
       "    <tr style=\"text-align: right;\">\n",
       "      <th></th>\n",
       "      <th>id</th>\n",
       "      <th>user_id</th>\n",
       "      <th>session_date</th>\n",
       "      <th>mb_used</th>\n",
       "      <th>month</th>\n",
       "      <th>year</th>\n",
       "    </tr>\n",
       "  </thead>\n",
       "  <tbody>\n",
       "    <tr>\n",
       "      <th>0</th>\n",
       "      <td>1000_13</td>\n",
       "      <td>1000</td>\n",
       "      <td>2018-12-29</td>\n",
       "      <td>89.86</td>\n",
       "      <td>12</td>\n",
       "      <td>2018</td>\n",
       "    </tr>\n",
       "    <tr>\n",
       "      <th>1</th>\n",
       "      <td>1000_204</td>\n",
       "      <td>1000</td>\n",
       "      <td>2018-12-31</td>\n",
       "      <td>0.00</td>\n",
       "      <td>12</td>\n",
       "      <td>2018</td>\n",
       "    </tr>\n",
       "    <tr>\n",
       "      <th>2</th>\n",
       "      <td>1000_379</td>\n",
       "      <td>1000</td>\n",
       "      <td>2018-12-28</td>\n",
       "      <td>660.40</td>\n",
       "      <td>12</td>\n",
       "      <td>2018</td>\n",
       "    </tr>\n",
       "    <tr>\n",
       "      <th>3</th>\n",
       "      <td>1000_413</td>\n",
       "      <td>1000</td>\n",
       "      <td>2018-12-26</td>\n",
       "      <td>270.99</td>\n",
       "      <td>12</td>\n",
       "      <td>2018</td>\n",
       "    </tr>\n",
       "    <tr>\n",
       "      <th>4</th>\n",
       "      <td>1000_442</td>\n",
       "      <td>1000</td>\n",
       "      <td>2018-12-27</td>\n",
       "      <td>880.22</td>\n",
       "      <td>12</td>\n",
       "      <td>2018</td>\n",
       "    </tr>\n",
       "  </tbody>\n",
       "</table>\n",
       "</div>"
      ],
      "text/plain": [
       "         id  user_id session_date  mb_used  month  year\n",
       "0   1000_13     1000   2018-12-29    89.86     12  2018\n",
       "1  1000_204     1000   2018-12-31     0.00     12  2018\n",
       "2  1000_379     1000   2018-12-28   660.40     12  2018\n",
       "3  1000_413     1000   2018-12-26   270.99     12  2018\n",
       "4  1000_442     1000   2018-12-27   880.22     12  2018"
      ]
     },
     "execution_count": 16,
     "metadata": {},
     "output_type": "execute_result"
    }
   ],
   "source": [
    "internet.head()"
   ]
  },
  {
   "cell_type": "code",
   "execution_count": 17,
   "id": "f0a66c7d",
   "metadata": {},
   "outputs": [
    {
     "name": "stdout",
     "output_type": "stream",
     "text": [
      "<class 'pandas.core.frame.DataFrame'>\n",
      "RangeIndex: 104825 entries, 0 to 104824\n",
      "Data columns (total 6 columns):\n",
      " #   Column        Non-Null Count   Dtype         \n",
      "---  ------        --------------   -----         \n",
      " 0   id            104825 non-null  object        \n",
      " 1   user_id       104825 non-null  int64         \n",
      " 2   session_date  104825 non-null  datetime64[ns]\n",
      " 3   mb_used       104825 non-null  float64       \n",
      " 4   month         104825 non-null  int64         \n",
      " 5   year          104825 non-null  int64         \n",
      "dtypes: datetime64[ns](1), float64(1), int64(3), object(1)\n",
      "memory usage: 4.8+ MB\n"
     ]
    }
   ],
   "source": [
    "internet.info()"
   ]
  },
  {
   "cell_type": "code",
   "execution_count": 18,
   "id": "817bf383",
   "metadata": {
    "scrolled": true
   },
   "outputs": [
    {
     "data": {
      "text/plain": [
       "array([2018], dtype=int64)"
      ]
     },
     "execution_count": 18,
     "metadata": {},
     "output_type": "execute_result"
    }
   ],
   "source": [
    "internet['year'].unique()"
   ]
  },
  {
   "cell_type": "markdown",
   "id": "e68c0b02",
   "metadata": {},
   "source": [
    "We shol check if we talking about **one year** period"
   ]
  },
  {
   "cell_type": "code",
   "execution_count": 19,
   "id": "f32a922f",
   "metadata": {},
   "outputs": [
    {
     "data": {
      "text/html": [
       "<div>\n",
       "<style scoped>\n",
       "    .dataframe tbody tr th:only-of-type {\n",
       "        vertical-align: middle;\n",
       "    }\n",
       "\n",
       "    .dataframe tbody tr th {\n",
       "        vertical-align: top;\n",
       "    }\n",
       "\n",
       "    .dataframe thead th {\n",
       "        text-align: right;\n",
       "    }\n",
       "</style>\n",
       "<table border=\"1\" class=\"dataframe\">\n",
       "  <thead>\n",
       "    <tr style=\"text-align: right;\">\n",
       "      <th></th>\n",
       "      <th>user_id</th>\n",
       "      <th>month</th>\n",
       "      <th>mb_used</th>\n",
       "      <th>gb_used</th>\n",
       "    </tr>\n",
       "  </thead>\n",
       "  <tbody>\n",
       "    <tr>\n",
       "      <th>0</th>\n",
       "      <td>1000</td>\n",
       "      <td>12</td>\n",
       "      <td>1901.47</td>\n",
       "      <td>2</td>\n",
       "    </tr>\n",
       "    <tr>\n",
       "      <th>1</th>\n",
       "      <td>1001</td>\n",
       "      <td>8</td>\n",
       "      <td>6919.15</td>\n",
       "      <td>7</td>\n",
       "    </tr>\n",
       "    <tr>\n",
       "      <th>2</th>\n",
       "      <td>1001</td>\n",
       "      <td>9</td>\n",
       "      <td>13314.82</td>\n",
       "      <td>14</td>\n",
       "    </tr>\n",
       "    <tr>\n",
       "      <th>3</th>\n",
       "      <td>1001</td>\n",
       "      <td>10</td>\n",
       "      <td>22330.49</td>\n",
       "      <td>22</td>\n",
       "    </tr>\n",
       "    <tr>\n",
       "      <th>4</th>\n",
       "      <td>1001</td>\n",
       "      <td>11</td>\n",
       "      <td>18504.30</td>\n",
       "      <td>19</td>\n",
       "    </tr>\n",
       "    <tr>\n",
       "      <th>...</th>\n",
       "      <td>...</td>\n",
       "      <td>...</td>\n",
       "      <td>...</td>\n",
       "      <td>...</td>\n",
       "    </tr>\n",
       "    <tr>\n",
       "      <th>2272</th>\n",
       "      <td>1498</td>\n",
       "      <td>12</td>\n",
       "      <td>23137.69</td>\n",
       "      <td>23</td>\n",
       "    </tr>\n",
       "    <tr>\n",
       "      <th>2273</th>\n",
       "      <td>1499</td>\n",
       "      <td>9</td>\n",
       "      <td>12984.76</td>\n",
       "      <td>13</td>\n",
       "    </tr>\n",
       "    <tr>\n",
       "      <th>2274</th>\n",
       "      <td>1499</td>\n",
       "      <td>10</td>\n",
       "      <td>19492.43</td>\n",
       "      <td>20</td>\n",
       "    </tr>\n",
       "    <tr>\n",
       "      <th>2275</th>\n",
       "      <td>1499</td>\n",
       "      <td>11</td>\n",
       "      <td>16813.83</td>\n",
       "      <td>17</td>\n",
       "    </tr>\n",
       "    <tr>\n",
       "      <th>2276</th>\n",
       "      <td>1499</td>\n",
       "      <td>12</td>\n",
       "      <td>22059.21</td>\n",
       "      <td>22</td>\n",
       "    </tr>\n",
       "  </tbody>\n",
       "</table>\n",
       "<p>2277 rows × 4 columns</p>\n",
       "</div>"
      ],
      "text/plain": [
       "      user_id  month   mb_used  gb_used\n",
       "0        1000     12   1901.47        2\n",
       "1        1001      8   6919.15        7\n",
       "2        1001      9  13314.82       14\n",
       "3        1001     10  22330.49       22\n",
       "4        1001     11  18504.30       19\n",
       "...       ...    ...       ...      ...\n",
       "2272     1498     12  23137.69       23\n",
       "2273     1499      9  12984.76       13\n",
       "2274     1499     10  19492.43       20\n",
       "2275     1499     11  16813.83       17\n",
       "2276     1499     12  22059.21       22\n",
       "\n",
       "[2277 rows x 4 columns]"
      ]
     },
     "execution_count": 19,
     "metadata": {},
     "output_type": "execute_result"
    }
   ],
   "source": [
    "mb_to_gb = 1/1024\n",
    "how_gb_used = internet.pivot_table(index = ['user_id','month'], values = 'mb_used', aggfunc ='sum').reset_index()\n",
    "how_gb_used['gb_used'] = how_gb_used['mb_used'] * mb_to_gb\n",
    "how_gb_used['gb_used'] = [math.ceil(number) for number in how_gb_used['gb_used']]\n",
    "how_gb_used\n"
   ]
  },
  {
   "cell_type": "markdown",
   "id": "bd124ada",
   "metadata": {},
   "source": [
    "We making new dataset named **how_gb_used**, converting **Mb** to **Gb** and **rounding** up the gigabytes"
   ]
  },
  {
   "cell_type": "code",
   "execution_count": 20,
   "id": "490f3c8d",
   "metadata": {},
   "outputs": [
    {
     "name": "stdout",
     "output_type": "stream",
     "text": [
      "<class 'pandas.core.frame.DataFrame'>\n",
      "RangeIndex: 2277 entries, 0 to 2276\n",
      "Data columns (total 4 columns):\n",
      " #   Column   Non-Null Count  Dtype  \n",
      "---  ------   --------------  -----  \n",
      " 0   user_id  2277 non-null   int64  \n",
      " 1   month    2277 non-null   int64  \n",
      " 2   mb_used  2277 non-null   float64\n",
      " 3   gb_used  2277 non-null   int64  \n",
      "dtypes: float64(1), int64(3)\n",
      "memory usage: 71.3 KB\n"
     ]
    }
   ],
   "source": [
    "how_gb_used.info()"
   ]
  },
  {
   "cell_type": "code",
   "execution_count": 21,
   "id": "52a169b7",
   "metadata": {},
   "outputs": [
    {
     "data": {
      "text/html": [
       "<div>\n",
       "<style scoped>\n",
       "    .dataframe tbody tr th:only-of-type {\n",
       "        vertical-align: middle;\n",
       "    }\n",
       "\n",
       "    .dataframe tbody tr th {\n",
       "        vertical-align: top;\n",
       "    }\n",
       "\n",
       "    .dataframe thead th {\n",
       "        text-align: right;\n",
       "    }\n",
       "</style>\n",
       "<table border=\"1\" class=\"dataframe\">\n",
       "  <thead>\n",
       "    <tr style=\"text-align: right;\">\n",
       "      <th></th>\n",
       "      <th>user_id</th>\n",
       "      <th>month</th>\n",
       "      <th>mb_used</th>\n",
       "      <th>gb_used</th>\n",
       "    </tr>\n",
       "  </thead>\n",
       "  <tbody>\n",
       "    <tr>\n",
       "      <th>0</th>\n",
       "      <td>1000</td>\n",
       "      <td>12</td>\n",
       "      <td>1901.47</td>\n",
       "      <td>2</td>\n",
       "    </tr>\n",
       "    <tr>\n",
       "      <th>1</th>\n",
       "      <td>1001</td>\n",
       "      <td>8</td>\n",
       "      <td>6919.15</td>\n",
       "      <td>7</td>\n",
       "    </tr>\n",
       "    <tr>\n",
       "      <th>2</th>\n",
       "      <td>1001</td>\n",
       "      <td>9</td>\n",
       "      <td>13314.82</td>\n",
       "      <td>14</td>\n",
       "    </tr>\n",
       "    <tr>\n",
       "      <th>3</th>\n",
       "      <td>1001</td>\n",
       "      <td>10</td>\n",
       "      <td>22330.49</td>\n",
       "      <td>22</td>\n",
       "    </tr>\n",
       "    <tr>\n",
       "      <th>4</th>\n",
       "      <td>1001</td>\n",
       "      <td>11</td>\n",
       "      <td>18504.30</td>\n",
       "      <td>19</td>\n",
       "    </tr>\n",
       "    <tr>\n",
       "      <th>...</th>\n",
       "      <td>...</td>\n",
       "      <td>...</td>\n",
       "      <td>...</td>\n",
       "      <td>...</td>\n",
       "    </tr>\n",
       "    <tr>\n",
       "      <th>2272</th>\n",
       "      <td>1498</td>\n",
       "      <td>12</td>\n",
       "      <td>23137.69</td>\n",
       "      <td>23</td>\n",
       "    </tr>\n",
       "    <tr>\n",
       "      <th>2273</th>\n",
       "      <td>1499</td>\n",
       "      <td>9</td>\n",
       "      <td>12984.76</td>\n",
       "      <td>13</td>\n",
       "    </tr>\n",
       "    <tr>\n",
       "      <th>2274</th>\n",
       "      <td>1499</td>\n",
       "      <td>10</td>\n",
       "      <td>19492.43</td>\n",
       "      <td>20</td>\n",
       "    </tr>\n",
       "    <tr>\n",
       "      <th>2275</th>\n",
       "      <td>1499</td>\n",
       "      <td>11</td>\n",
       "      <td>16813.83</td>\n",
       "      <td>17</td>\n",
       "    </tr>\n",
       "    <tr>\n",
       "      <th>2276</th>\n",
       "      <td>1499</td>\n",
       "      <td>12</td>\n",
       "      <td>22059.21</td>\n",
       "      <td>22</td>\n",
       "    </tr>\n",
       "  </tbody>\n",
       "</table>\n",
       "<p>2277 rows × 4 columns</p>\n",
       "</div>"
      ],
      "text/plain": [
       "      user_id  month   mb_used  gb_used\n",
       "0        1000     12   1901.47        2\n",
       "1        1001      8   6919.15        7\n",
       "2        1001      9  13314.82       14\n",
       "3        1001     10  22330.49       22\n",
       "4        1001     11  18504.30       19\n",
       "...       ...    ...       ...      ...\n",
       "2272     1498     12  23137.69       23\n",
       "2273     1499      9  12984.76       13\n",
       "2274     1499     10  19492.43       20\n",
       "2275     1499     11  16813.83       17\n",
       "2276     1499     12  22059.21       22\n",
       "\n",
       "[2277 rows x 4 columns]"
      ]
     },
     "execution_count": 21,
     "metadata": {},
     "output_type": "execute_result"
    }
   ],
   "source": [
    "how_gb_used"
   ]
  },
  {
   "cell_type": "code",
   "execution_count": 22,
   "id": "3a1d4804",
   "metadata": {},
   "outputs": [
    {
     "data": {
      "text/plain": [
       "0       2018-12-27\n",
       "1       2018-12-31\n",
       "2       2018-12-31\n",
       "3       2018-12-27\n",
       "4       2018-12-26\n",
       "           ...    \n",
       "76046   2018-12-24\n",
       "76047   2018-12-24\n",
       "76048   2018-12-31\n",
       "76049   2018-12-24\n",
       "76050   2018-12-23\n",
       "Name: message_date, Length: 76051, dtype: datetime64[ns]"
      ]
     },
     "execution_count": 22,
     "metadata": {},
     "output_type": "execute_result"
    }
   ],
   "source": [
    "messages['message_date'] = pd.to_datetime(messages['message_date'])\n",
    "messages['message_date']"
   ]
  },
  {
   "cell_type": "markdown",
   "id": "ac0b57b5",
   "metadata": {},
   "source": [
    "We converting **message_date** to **datetime** fotmat"
   ]
  },
  {
   "cell_type": "code",
   "execution_count": 23,
   "id": "6d443e17",
   "metadata": {},
   "outputs": [
    {
     "data": {
      "text/html": [
       "<div>\n",
       "<style scoped>\n",
       "    .dataframe tbody tr th:only-of-type {\n",
       "        vertical-align: middle;\n",
       "    }\n",
       "\n",
       "    .dataframe tbody tr th {\n",
       "        vertical-align: top;\n",
       "    }\n",
       "\n",
       "    .dataframe thead th {\n",
       "        text-align: right;\n",
       "    }\n",
       "</style>\n",
       "<table border=\"1\" class=\"dataframe\">\n",
       "  <thead>\n",
       "    <tr style=\"text-align: right;\">\n",
       "      <th></th>\n",
       "      <th>messages_included</th>\n",
       "      <th>mb_per_month_included</th>\n",
       "      <th>minutes_included</th>\n",
       "      <th>usd_monthly_pay</th>\n",
       "      <th>usd_per_gb</th>\n",
       "      <th>usd_per_message</th>\n",
       "      <th>usd_per_minute</th>\n",
       "      <th>plan_name</th>\n",
       "    </tr>\n",
       "  </thead>\n",
       "  <tbody>\n",
       "    <tr>\n",
       "      <th>0</th>\n",
       "      <td>50</td>\n",
       "      <td>15360</td>\n",
       "      <td>500</td>\n",
       "      <td>20</td>\n",
       "      <td>10</td>\n",
       "      <td>0.03</td>\n",
       "      <td>0.03</td>\n",
       "      <td>surf</td>\n",
       "    </tr>\n",
       "    <tr>\n",
       "      <th>1</th>\n",
       "      <td>1000</td>\n",
       "      <td>30720</td>\n",
       "      <td>3000</td>\n",
       "      <td>70</td>\n",
       "      <td>7</td>\n",
       "      <td>0.01</td>\n",
       "      <td>0.01</td>\n",
       "      <td>ultimate</td>\n",
       "    </tr>\n",
       "  </tbody>\n",
       "</table>\n",
       "</div>"
      ],
      "text/plain": [
       "   messages_included  mb_per_month_included  minutes_included  \\\n",
       "0                 50                  15360               500   \n",
       "1               1000                  30720              3000   \n",
       "\n",
       "   usd_monthly_pay  usd_per_gb  usd_per_message  usd_per_minute plan_name  \n",
       "0               20          10             0.03            0.03      surf  \n",
       "1               70           7             0.01            0.01  ultimate  "
      ]
     },
     "execution_count": 23,
     "metadata": {},
     "output_type": "execute_result"
    }
   ],
   "source": [
    "plans.head()"
   ]
  },
  {
   "cell_type": "code",
   "execution_count": 24,
   "id": "7fad5764",
   "metadata": {},
   "outputs": [
    {
     "data": {
      "text/html": [
       "<div>\n",
       "<style scoped>\n",
       "    .dataframe tbody tr th:only-of-type {\n",
       "        vertical-align: middle;\n",
       "    }\n",
       "\n",
       "    .dataframe tbody tr th {\n",
       "        vertical-align: top;\n",
       "    }\n",
       "\n",
       "    .dataframe thead th {\n",
       "        text-align: right;\n",
       "    }\n",
       "</style>\n",
       "<table border=\"1\" class=\"dataframe\">\n",
       "  <thead>\n",
       "    <tr style=\"text-align: right;\">\n",
       "      <th></th>\n",
       "      <th>messages_included</th>\n",
       "      <th>mb_per_month_included</th>\n",
       "      <th>minutes_included</th>\n",
       "      <th>usd_monthly_pay</th>\n",
       "      <th>usd_per_gb</th>\n",
       "      <th>usd_per_message</th>\n",
       "      <th>usd_per_minute</th>\n",
       "      <th>plan_name</th>\n",
       "      <th>plan_name_id</th>\n",
       "    </tr>\n",
       "  </thead>\n",
       "  <tbody>\n",
       "    <tr>\n",
       "      <th>0</th>\n",
       "      <td>50</td>\n",
       "      <td>15360</td>\n",
       "      <td>500</td>\n",
       "      <td>20</td>\n",
       "      <td>10</td>\n",
       "      <td>0.03</td>\n",
       "      <td>0.03</td>\n",
       "      <td>surf</td>\n",
       "      <td>0</td>\n",
       "    </tr>\n",
       "    <tr>\n",
       "      <th>1</th>\n",
       "      <td>1000</td>\n",
       "      <td>30720</td>\n",
       "      <td>3000</td>\n",
       "      <td>70</td>\n",
       "      <td>7</td>\n",
       "      <td>0.01</td>\n",
       "      <td>0.01</td>\n",
       "      <td>ultimate</td>\n",
       "      <td>1</td>\n",
       "    </tr>\n",
       "  </tbody>\n",
       "</table>\n",
       "</div>"
      ],
      "text/plain": [
       "   messages_included  mb_per_month_included  minutes_included  \\\n",
       "0                 50                  15360               500   \n",
       "1               1000                  30720              3000   \n",
       "\n",
       "   usd_monthly_pay  usd_per_gb  usd_per_message  usd_per_minute plan_name  \\\n",
       "0               20          10             0.03            0.03      surf   \n",
       "1               70           7             0.01            0.01  ultimate   \n",
       "\n",
       "   plan_name_id  \n",
       "0             0  \n",
       "1             1  "
      ]
     },
     "execution_count": 24,
     "metadata": {},
     "output_type": "execute_result"
    }
   ],
   "source": [
    "def plan_id(plan_name):\n",
    "    if plan_name == 'surf':\n",
    "        return 0\n",
    "    elif plan_name == 'ultimate':\n",
    "        return 1\n",
    "    return 2\n",
    "plans['plan_name_id'] = plans['plan_name'].apply(plan_id)\n",
    "plans                              "
   ]
  },
  {
   "cell_type": "markdown",
   "id": "6cf2f560",
   "metadata": {},
   "source": [
    "We adding new column **plan_name_id** there we define **Surf plan = 0** and **Ultimate plan = 1**"
   ]
  },
  {
   "cell_type": "code",
   "execution_count": 25,
   "id": "cc3888b9",
   "metadata": {
    "scrolled": true
   },
   "outputs": [
    {
     "data": {
      "text/html": [
       "<div>\n",
       "<style scoped>\n",
       "    .dataframe tbody tr th:only-of-type {\n",
       "        vertical-align: middle;\n",
       "    }\n",
       "\n",
       "    .dataframe tbody tr th {\n",
       "        vertical-align: top;\n",
       "    }\n",
       "\n",
       "    .dataframe thead th {\n",
       "        text-align: right;\n",
       "    }\n",
       "</style>\n",
       "<table border=\"1\" class=\"dataframe\">\n",
       "  <thead>\n",
       "    <tr style=\"text-align: right;\">\n",
       "      <th></th>\n",
       "      <th>user_id</th>\n",
       "      <th>first_name</th>\n",
       "      <th>last_name</th>\n",
       "      <th>age</th>\n",
       "      <th>city</th>\n",
       "      <th>reg_date</th>\n",
       "      <th>plan</th>\n",
       "      <th>churn_date</th>\n",
       "      <th>plan_name_id</th>\n",
       "    </tr>\n",
       "  </thead>\n",
       "  <tbody>\n",
       "    <tr>\n",
       "      <th>0</th>\n",
       "      <td>1000</td>\n",
       "      <td>Anamaria</td>\n",
       "      <td>Bauer</td>\n",
       "      <td>45</td>\n",
       "      <td>Atlanta-Sandy Springs-Roswell, GA MSA</td>\n",
       "      <td>2018-12-24</td>\n",
       "      <td>ultimate</td>\n",
       "      <td>2019-01-01</td>\n",
       "      <td>1</td>\n",
       "    </tr>\n",
       "    <tr>\n",
       "      <th>1</th>\n",
       "      <td>1001</td>\n",
       "      <td>Mickey</td>\n",
       "      <td>Wilkerson</td>\n",
       "      <td>28</td>\n",
       "      <td>Seattle-Tacoma-Bellevue, WA MSA</td>\n",
       "      <td>2018-08-13</td>\n",
       "      <td>surf</td>\n",
       "      <td>2019-01-01</td>\n",
       "      <td>0</td>\n",
       "    </tr>\n",
       "    <tr>\n",
       "      <th>2</th>\n",
       "      <td>1002</td>\n",
       "      <td>Carlee</td>\n",
       "      <td>Hoffman</td>\n",
       "      <td>36</td>\n",
       "      <td>Las Vegas-Henderson-Paradise, NV MSA</td>\n",
       "      <td>2018-10-21</td>\n",
       "      <td>surf</td>\n",
       "      <td>2019-01-01</td>\n",
       "      <td>0</td>\n",
       "    </tr>\n",
       "    <tr>\n",
       "      <th>3</th>\n",
       "      <td>1003</td>\n",
       "      <td>Reynaldo</td>\n",
       "      <td>Jenkins</td>\n",
       "      <td>52</td>\n",
       "      <td>Tulsa, OK MSA</td>\n",
       "      <td>2018-01-28</td>\n",
       "      <td>surf</td>\n",
       "      <td>2019-01-01</td>\n",
       "      <td>0</td>\n",
       "    </tr>\n",
       "    <tr>\n",
       "      <th>4</th>\n",
       "      <td>1004</td>\n",
       "      <td>Leonila</td>\n",
       "      <td>Thompson</td>\n",
       "      <td>40</td>\n",
       "      <td>Seattle-Tacoma-Bellevue, WA MSA</td>\n",
       "      <td>2018-05-23</td>\n",
       "      <td>surf</td>\n",
       "      <td>2019-01-01</td>\n",
       "      <td>0</td>\n",
       "    </tr>\n",
       "    <tr>\n",
       "      <th>...</th>\n",
       "      <td>...</td>\n",
       "      <td>...</td>\n",
       "      <td>...</td>\n",
       "      <td>...</td>\n",
       "      <td>...</td>\n",
       "      <td>...</td>\n",
       "      <td>...</td>\n",
       "      <td>...</td>\n",
       "      <td>...</td>\n",
       "    </tr>\n",
       "    <tr>\n",
       "      <th>495</th>\n",
       "      <td>1495</td>\n",
       "      <td>Fidel</td>\n",
       "      <td>Sharpe</td>\n",
       "      <td>67</td>\n",
       "      <td>New York-Newark-Jersey City, NY-NJ-PA MSA</td>\n",
       "      <td>2018-09-04</td>\n",
       "      <td>surf</td>\n",
       "      <td>2019-01-01</td>\n",
       "      <td>0</td>\n",
       "    </tr>\n",
       "    <tr>\n",
       "      <th>496</th>\n",
       "      <td>1496</td>\n",
       "      <td>Ariel</td>\n",
       "      <td>Shepherd</td>\n",
       "      <td>49</td>\n",
       "      <td>New Orleans-Metairie, LA MSA</td>\n",
       "      <td>2018-02-20</td>\n",
       "      <td>surf</td>\n",
       "      <td>2019-01-01</td>\n",
       "      <td>0</td>\n",
       "    </tr>\n",
       "    <tr>\n",
       "      <th>497</th>\n",
       "      <td>1497</td>\n",
       "      <td>Donte</td>\n",
       "      <td>Barrera</td>\n",
       "      <td>49</td>\n",
       "      <td>Los Angeles-Long Beach-Anaheim, CA MSA</td>\n",
       "      <td>2018-12-10</td>\n",
       "      <td>ultimate</td>\n",
       "      <td>2019-01-01</td>\n",
       "      <td>1</td>\n",
       "    </tr>\n",
       "    <tr>\n",
       "      <th>498</th>\n",
       "      <td>1498</td>\n",
       "      <td>Scot</td>\n",
       "      <td>Williamson</td>\n",
       "      <td>51</td>\n",
       "      <td>New York-Newark-Jersey City, NY-NJ-PA MSA</td>\n",
       "      <td>2018-02-04</td>\n",
       "      <td>surf</td>\n",
       "      <td>2019-01-01</td>\n",
       "      <td>0</td>\n",
       "    </tr>\n",
       "    <tr>\n",
       "      <th>499</th>\n",
       "      <td>1499</td>\n",
       "      <td>Shena</td>\n",
       "      <td>Dickson</td>\n",
       "      <td>37</td>\n",
       "      <td>Orlando-Kissimmee-Sanford, FL MSA</td>\n",
       "      <td>2018-05-06</td>\n",
       "      <td>surf</td>\n",
       "      <td>2019-01-01</td>\n",
       "      <td>0</td>\n",
       "    </tr>\n",
       "  </tbody>\n",
       "</table>\n",
       "<p>500 rows × 9 columns</p>\n",
       "</div>"
      ],
      "text/plain": [
       "     user_id first_name   last_name  age  \\\n",
       "0       1000   Anamaria       Bauer   45   \n",
       "1       1001     Mickey   Wilkerson   28   \n",
       "2       1002     Carlee     Hoffman   36   \n",
       "3       1003   Reynaldo     Jenkins   52   \n",
       "4       1004    Leonila    Thompson   40   \n",
       "..       ...        ...         ...  ...   \n",
       "495     1495      Fidel      Sharpe   67   \n",
       "496     1496      Ariel    Shepherd   49   \n",
       "497     1497      Donte     Barrera   49   \n",
       "498     1498       Scot  Williamson   51   \n",
       "499     1499      Shena     Dickson   37   \n",
       "\n",
       "                                          city   reg_date      plan  \\\n",
       "0        Atlanta-Sandy Springs-Roswell, GA MSA 2018-12-24  ultimate   \n",
       "1              Seattle-Tacoma-Bellevue, WA MSA 2018-08-13      surf   \n",
       "2         Las Vegas-Henderson-Paradise, NV MSA 2018-10-21      surf   \n",
       "3                                Tulsa, OK MSA 2018-01-28      surf   \n",
       "4              Seattle-Tacoma-Bellevue, WA MSA 2018-05-23      surf   \n",
       "..                                         ...        ...       ...   \n",
       "495  New York-Newark-Jersey City, NY-NJ-PA MSA 2018-09-04      surf   \n",
       "496               New Orleans-Metairie, LA MSA 2018-02-20      surf   \n",
       "497     Los Angeles-Long Beach-Anaheim, CA MSA 2018-12-10  ultimate   \n",
       "498  New York-Newark-Jersey City, NY-NJ-PA MSA 2018-02-04      surf   \n",
       "499          Orlando-Kissimmee-Sanford, FL MSA 2018-05-06      surf   \n",
       "\n",
       "    churn_date  plan_name_id  \n",
       "0   2019-01-01             1  \n",
       "1   2019-01-01             0  \n",
       "2   2019-01-01             0  \n",
       "3   2019-01-01             0  \n",
       "4   2019-01-01             0  \n",
       "..         ...           ...  \n",
       "495 2019-01-01             0  \n",
       "496 2019-01-01             0  \n",
       "497 2019-01-01             1  \n",
       "498 2019-01-01             0  \n",
       "499 2019-01-01             0  \n",
       "\n",
       "[500 rows x 9 columns]"
      ]
     },
     "execution_count": 25,
     "metadata": {},
     "output_type": "execute_result"
    }
   ],
   "source": [
    "users['reg_date'] = pd.to_datetime(users['reg_date'])\n",
    "users['plan_name_id'] = users['plan'].apply(plan_id)\n",
    "users['churn_date'] = users['churn_date'].fillna(value='01/01/2019')\n",
    "users['churn_date'] = pd.to_datetime(users['churn_date'])\n",
    "users"
   ]
  },
  {
   "cell_type": "markdown",
   "id": "860911a8",
   "metadata": {},
   "source": [
    "We converting **reg_date** colump to **datetime** format, adding **plan_name_id column** to **users** dataset and filling **missing values** in the **churn_date** column with **01/01/2019**(users contract mast be longer, but for this project its ok to be this way), and also converting  **churn_date** to **datetime**."
   ]
  },
  {
   "cell_type": "code",
   "execution_count": 26,
   "id": "41acfa04",
   "metadata": {},
   "outputs": [
    {
     "data": {
      "text/html": [
       "<div>\n",
       "<style scoped>\n",
       "    .dataframe tbody tr th:only-of-type {\n",
       "        vertical-align: middle;\n",
       "    }\n",
       "\n",
       "    .dataframe tbody tr th {\n",
       "        vertical-align: top;\n",
       "    }\n",
       "\n",
       "    .dataframe thead th {\n",
       "        text-align: right;\n",
       "    }\n",
       "</style>\n",
       "<table border=\"1\" class=\"dataframe\">\n",
       "  <thead>\n",
       "    <tr style=\"text-align: right;\">\n",
       "      <th></th>\n",
       "      <th>user_id</th>\n",
       "      <th>first_name</th>\n",
       "      <th>last_name</th>\n",
       "      <th>age</th>\n",
       "      <th>city</th>\n",
       "      <th>reg_date</th>\n",
       "      <th>plan</th>\n",
       "      <th>churn_date</th>\n",
       "      <th>plan_name_id</th>\n",
       "    </tr>\n",
       "  </thead>\n",
       "  <tbody>\n",
       "  </tbody>\n",
       "</table>\n",
       "</div>"
      ],
      "text/plain": [
       "Empty DataFrame\n",
       "Columns: [user_id, first_name, last_name, age, city, reg_date, plan, churn_date, plan_name_id]\n",
       "Index: []"
      ]
     },
     "execution_count": 26,
     "metadata": {},
     "output_type": "execute_result"
    }
   ],
   "source": [
    "users.query('age < 18')\n"
   ]
  },
  {
   "cell_type": "code",
   "execution_count": 27,
   "id": "4903d2fc",
   "metadata": {},
   "outputs": [
    {
     "name": "stdout",
     "output_type": "stream",
     "text": [
      "['Atlanta-Sandy Springs-Roswell, GA MSA' 'Seattle-Tacoma-Bellevue, WA MSA'\n",
      " 'Las Vegas-Henderson-Paradise, NV MSA' 'Tulsa, OK MSA'\n",
      " 'Dallas-Fort Worth-Arlington, TX MSA'\n",
      " 'San Francisco-Oakland-Berkeley, CA MSA' 'Grand Rapids-Kentwood, MI MSA'\n",
      " 'Orlando-Kissimmee-Sanford, FL MSA'\n",
      " 'San Jose-Sunnyvale-Santa Clara, CA MSA' 'Cleveland-Elyria, OH MSA'\n",
      " 'Chicago-Naperville-Elgin, IL-IN-WI MSA' 'Knoxville, TN MSA'\n",
      " 'New York-Newark-Jersey City, NY-NJ-PA MSA' 'Pittsburgh, PA MSA'\n",
      " 'Fresno, CA MSA' 'Washington-Arlington-Alexandria, DC-VA-MD-WV MSA'\n",
      " 'Indianapolis-Carmel-Anderson, IN MSA' 'Jacksonville, FL MSA'\n",
      " 'Los Angeles-Long Beach-Anaheim, CA MSA'\n",
      " 'Omaha-Council Bluffs, NE-IA MSA'\n",
      " 'Houston-The Woodlands-Sugar Land, TX MSA'\n",
      " 'Philadelphia-Camden-Wilmington, PA-NJ-DE-MD MSA'\n",
      " 'Tampa-St. Petersburg-Clearwater, FL MSA' 'Birmingham-Hoover, AL MSA'\n",
      " 'Oklahoma City, OK MSA' 'Charlotte-Concord-Gastonia, NC-SC MSA'\n",
      " 'Denver-Aurora-Lakewood, CO MSA'\n",
      " 'Nashville-Davidson–Murfreesboro–Franklin, TN MSA' 'Columbus, OH MSA'\n",
      " 'Albuquerque, NM MSA' 'Boston-Cambridge-Newton, MA-NH MSA'\n",
      " 'Miami-Fort Lauderdale-West Palm Beach, FL MSA'\n",
      " 'San Diego-Chula Vista-Carlsbad, CA MSA' 'Phoenix-Mesa-Chandler, AZ MSA'\n",
      " 'Portland-Vancouver-Hillsboro, OR-WA MSA' 'Cincinnati, OH-KY-IN MSA'\n",
      " 'Columbia, SC MSA' 'San Antonio-New Braunfels, TX MSA'\n",
      " 'Buffalo-Cheektowaga, NY MSA' 'Memphis, TN-MS-AR MSA'\n",
      " 'Riverside-San Bernardino-Ontario, CA MSA'\n",
      " 'Louisville/Jefferson County, KY-IN MSA'\n",
      " 'Albany-Schenectady-Troy, NY MSA' 'Providence-Warwick, RI-MA MSA'\n",
      " 'Salt Lake City, UT MSA' 'Urban Honolulu, HI MSA' 'El Paso, TX MSA'\n",
      " 'New Haven-Milford, CT MSA' 'North Port-Sarasota-Bradenton, FL MSA'\n",
      " 'Baton Rouge, LA MSA' 'New Orleans-Metairie, LA MSA'\n",
      " 'Bridgeport-Stamford-Norwalk, CT MSA'\n",
      " 'Virginia Beach-Norfolk-Newport News, VA-NC MSA'\n",
      " 'Baltimore-Columbia-Towson, MD MSA' 'Milwaukee-Waukesha, WI MSA'\n",
      " 'Oxnard-Thousand Oaks-Ventura, CA MSA'\n",
      " 'Sacramento–Roseville–Folsom, CA MSA'\n",
      " 'Austin-Round Rock-Georgetown, TX MSA' 'Richmond, VA MSA'\n",
      " 'St. Louis, MO-IL MSA' 'Minneapolis-St. Paul-Bloomington, MN-WI MSA'\n",
      " 'Dayton-Kettering, OH MSA' 'Bakersfield, CA MSA'\n",
      " 'Detroit-Warren-Dearborn, MI MSA' 'Kansas City, MO-KS MSA'\n",
      " 'Charleston-North Charleston, SC MSA' 'Rochester, NY MSA'\n",
      " 'Raleigh-Cary, NC MSA' 'Colorado Springs, CO MSA'\n",
      " 'Greensboro-High Point, NC MSA' 'Tucson, AZ MSA' 'Stockton, CA MSA'\n",
      " 'Cape Coral-Fort Myers, FL MSA']\n"
     ]
    }
   ],
   "source": [
    "print(users['city'].unique())"
   ]
  },
  {
   "cell_type": "code",
   "execution_count": 28,
   "id": "7aa3cc12",
   "metadata": {},
   "outputs": [
    {
     "name": "stdout",
     "output_type": "stream",
     "text": [
      "              id  user_id session_date  mb_used  month  year\n",
      "1       1000_204     1000   2018-12-31      0.0     12  2018\n",
      "14       1001_26     1001   2018-09-17      0.0      9  2018\n",
      "16       1001_28     1001   2018-10-17      0.0     10  2018\n",
      "34       1001_54     1001   2018-09-02      0.0      9  2018\n",
      "43       1001_77     1001   2018-10-31      0.0     10  2018\n",
      "...          ...      ...          ...      ...    ...   ...\n",
      "104797  1499_192     1499   2018-09-19      0.0      9  2018\n",
      "104804  1499_199     1499   2018-12-09      0.0     12  2018\n",
      "104816  1499_211     1499   2018-09-26      0.0      9  2018\n",
      "104817  1499_212     1499   2018-09-11      0.0      9  2018\n",
      "104823  1499_218     1499   2018-12-07      0.0     12  2018\n",
      "\n",
      "[13747 rows x 6 columns]\n"
     ]
    }
   ],
   "source": [
    "print(internet.query('mb_used == 0'))"
   ]
  },
  {
   "cell_type": "code",
   "execution_count": 29,
   "id": "72cafc22",
   "metadata": {
    "scrolled": true
   },
   "outputs": [
    {
     "name": "stdout",
     "output_type": "stream",
     "text": [
      "              id  user_id  call_date  duration\n",
      "19        1001_4     1001 2018-12-05         0\n",
      "25       1001_13     1001 2018-12-24         0\n",
      "31       1001_30     1001 2018-10-17         0\n",
      "32       1001_31     1001 2018-11-03         0\n",
      "34       1001_35     1001 2018-12-21         0\n",
      "...          ...      ...        ...       ...\n",
      "137714  1499_183     1499 2018-11-10         0\n",
      "137715  1499_184     1499 2018-09-15         0\n",
      "137720  1499_189     1499 2018-12-27         0\n",
      "137722  1499_191     1499 2018-12-24         0\n",
      "137725  1499_194     1499 2018-10-31         0\n",
      "\n",
      "[26834 rows x 4 columns]\n"
     ]
    }
   ],
   "source": [
    "print(calls.query('duration == 0'))"
   ]
  },
  {
   "cell_type": "markdown",
   "id": "c1ff231c",
   "metadata": {},
   "source": [
    "**We chaked few more fings but cant cee anyfing that needs to be fixed right now**"
   ]
  },
  {
   "cell_type": "markdown",
   "id": "1da8d4b9",
   "metadata": {},
   "source": [
    " #### The number of calls made and minutes used per month"
   ]
  },
  {
   "cell_type": "code",
   "execution_count": 30,
   "id": "da0733c6",
   "metadata": {},
   "outputs": [],
   "source": [
    "calls['month'] = calls['call_date'].dt.month"
   ]
  },
  {
   "cell_type": "code",
   "execution_count": 31,
   "id": "0577685b",
   "metadata": {},
   "outputs": [],
   "source": [
    "\n",
    "monthly_calls = calls.groupby(['user_id','month'])['id'].count().reset_index()\n",
    "\n",
    "\n"
   ]
  },
  {
   "cell_type": "code",
   "execution_count": 32,
   "id": "b873e179",
   "metadata": {},
   "outputs": [
    {
     "data": {
      "text/html": [
       "<div>\n",
       "<style scoped>\n",
       "    .dataframe tbody tr th:only-of-type {\n",
       "        vertical-align: middle;\n",
       "    }\n",
       "\n",
       "    .dataframe tbody tr th {\n",
       "        vertical-align: top;\n",
       "    }\n",
       "\n",
       "    .dataframe thead th {\n",
       "        text-align: right;\n",
       "    }\n",
       "</style>\n",
       "<table border=\"1\" class=\"dataframe\">\n",
       "  <thead>\n",
       "    <tr style=\"text-align: right;\">\n",
       "      <th></th>\n",
       "      <th>user_id</th>\n",
       "      <th>month</th>\n",
       "      <th>id</th>\n",
       "    </tr>\n",
       "  </thead>\n",
       "  <tbody>\n",
       "    <tr>\n",
       "      <th>0</th>\n",
       "      <td>1000</td>\n",
       "      <td>12</td>\n",
       "      <td>16</td>\n",
       "    </tr>\n",
       "    <tr>\n",
       "      <th>1</th>\n",
       "      <td>1001</td>\n",
       "      <td>8</td>\n",
       "      <td>27</td>\n",
       "    </tr>\n",
       "    <tr>\n",
       "      <th>2</th>\n",
       "      <td>1001</td>\n",
       "      <td>9</td>\n",
       "      <td>49</td>\n",
       "    </tr>\n",
       "    <tr>\n",
       "      <th>3</th>\n",
       "      <td>1001</td>\n",
       "      <td>10</td>\n",
       "      <td>65</td>\n",
       "    </tr>\n",
       "    <tr>\n",
       "      <th>4</th>\n",
       "      <td>1001</td>\n",
       "      <td>11</td>\n",
       "      <td>64</td>\n",
       "    </tr>\n",
       "    <tr>\n",
       "      <th>...</th>\n",
       "      <td>...</td>\n",
       "      <td>...</td>\n",
       "      <td>...</td>\n",
       "    </tr>\n",
       "    <tr>\n",
       "      <th>2253</th>\n",
       "      <td>1498</td>\n",
       "      <td>12</td>\n",
       "      <td>39</td>\n",
       "    </tr>\n",
       "    <tr>\n",
       "      <th>2254</th>\n",
       "      <td>1499</td>\n",
       "      <td>9</td>\n",
       "      <td>41</td>\n",
       "    </tr>\n",
       "    <tr>\n",
       "      <th>2255</th>\n",
       "      <td>1499</td>\n",
       "      <td>10</td>\n",
       "      <td>53</td>\n",
       "    </tr>\n",
       "    <tr>\n",
       "      <th>2256</th>\n",
       "      <td>1499</td>\n",
       "      <td>11</td>\n",
       "      <td>45</td>\n",
       "    </tr>\n",
       "    <tr>\n",
       "      <th>2257</th>\n",
       "      <td>1499</td>\n",
       "      <td>12</td>\n",
       "      <td>65</td>\n",
       "    </tr>\n",
       "  </tbody>\n",
       "</table>\n",
       "<p>2258 rows × 3 columns</p>\n",
       "</div>"
      ],
      "text/plain": [
       "      user_id  month  id\n",
       "0        1000     12  16\n",
       "1        1001      8  27\n",
       "2        1001      9  49\n",
       "3        1001     10  65\n",
       "4        1001     11  64\n",
       "...       ...    ...  ..\n",
       "2253     1498     12  39\n",
       "2254     1499      9  41\n",
       "2255     1499     10  53\n",
       "2256     1499     11  45\n",
       "2257     1499     12  65\n",
       "\n",
       "[2258 rows x 3 columns]"
      ]
     },
     "execution_count": 32,
     "metadata": {},
     "output_type": "execute_result"
    }
   ],
   "source": [
    "monthly_calls"
   ]
  },
  {
   "cell_type": "code",
   "execution_count": 33,
   "id": "700115d7",
   "metadata": {},
   "outputs": [
    {
     "data": {
      "text/plain": [
       "user_id  month\n",
       "1000     12       124\n",
       "1001     8        182\n",
       "         9        315\n",
       "         10       393\n",
       "         11       426\n",
       "                 ... \n",
       "1498     12       339\n",
       "1499     9        346\n",
       "         10       385\n",
       "         11       308\n",
       "         12       496\n",
       "Name: duration, Length: 2258, dtype: int32"
      ]
     },
     "execution_count": 33,
     "metadata": {},
     "output_type": "execute_result"
    }
   ],
   "source": [
    "calls_lenght = calls.groupby(['user_id','month'])['duration'].sum()\n",
    "\n",
    "calls_lenght"
   ]
  },
  {
   "cell_type": "markdown",
   "id": "6c98ccf2",
   "metadata": {},
   "source": [
    "#### The number of text messages sent per month"
   ]
  },
  {
   "cell_type": "code",
   "execution_count": 34,
   "id": "2171b077",
   "metadata": {
    "scrolled": true
   },
   "outputs": [
    {
     "data": {
      "text/html": [
       "<div>\n",
       "<style scoped>\n",
       "    .dataframe tbody tr th:only-of-type {\n",
       "        vertical-align: middle;\n",
       "    }\n",
       "\n",
       "    .dataframe tbody tr th {\n",
       "        vertical-align: top;\n",
       "    }\n",
       "\n",
       "    .dataframe thead th {\n",
       "        text-align: right;\n",
       "    }\n",
       "</style>\n",
       "<table border=\"1\" class=\"dataframe\">\n",
       "  <thead>\n",
       "    <tr style=\"text-align: right;\">\n",
       "      <th></th>\n",
       "      <th></th>\n",
       "      <th>id</th>\n",
       "      <th>message_date</th>\n",
       "    </tr>\n",
       "    <tr>\n",
       "      <th>user_id</th>\n",
       "      <th>month</th>\n",
       "      <th></th>\n",
       "      <th></th>\n",
       "    </tr>\n",
       "  </thead>\n",
       "  <tbody>\n",
       "    <tr>\n",
       "      <th>1000</th>\n",
       "      <th>12</th>\n",
       "      <td>11</td>\n",
       "      <td>11</td>\n",
       "    </tr>\n",
       "    <tr>\n",
       "      <th rowspan=\"4\" valign=\"top\">1001</th>\n",
       "      <th>8</th>\n",
       "      <td>30</td>\n",
       "      <td>30</td>\n",
       "    </tr>\n",
       "    <tr>\n",
       "      <th>9</th>\n",
       "      <td>44</td>\n",
       "      <td>44</td>\n",
       "    </tr>\n",
       "    <tr>\n",
       "      <th>10</th>\n",
       "      <td>53</td>\n",
       "      <td>53</td>\n",
       "    </tr>\n",
       "    <tr>\n",
       "      <th>11</th>\n",
       "      <td>36</td>\n",
       "      <td>36</td>\n",
       "    </tr>\n",
       "    <tr>\n",
       "      <th>...</th>\n",
       "      <th>...</th>\n",
       "      <td>...</td>\n",
       "      <td>...</td>\n",
       "    </tr>\n",
       "    <tr>\n",
       "      <th rowspan=\"4\" valign=\"top\">1496</th>\n",
       "      <th>9</th>\n",
       "      <td>21</td>\n",
       "      <td>21</td>\n",
       "    </tr>\n",
       "    <tr>\n",
       "      <th>10</th>\n",
       "      <td>18</td>\n",
       "      <td>18</td>\n",
       "    </tr>\n",
       "    <tr>\n",
       "      <th>11</th>\n",
       "      <td>13</td>\n",
       "      <td>13</td>\n",
       "    </tr>\n",
       "    <tr>\n",
       "      <th>12</th>\n",
       "      <td>11</td>\n",
       "      <td>11</td>\n",
       "    </tr>\n",
       "    <tr>\n",
       "      <th>1497</th>\n",
       "      <th>12</th>\n",
       "      <td>50</td>\n",
       "      <td>50</td>\n",
       "    </tr>\n",
       "  </tbody>\n",
       "</table>\n",
       "<p>1806 rows × 2 columns</p>\n",
       "</div>"
      ],
      "text/plain": [
       "               id  message_date\n",
       "user_id month                  \n",
       "1000    12     11            11\n",
       "1001    8      30            30\n",
       "        9      44            44\n",
       "        10     53            53\n",
       "        11     36            36\n",
       "...            ..           ...\n",
       "1496    9      21            21\n",
       "        10     18            18\n",
       "        11     13            13\n",
       "        12     11            11\n",
       "1497    12     50            50\n",
       "\n",
       "[1806 rows x 2 columns]"
      ]
     },
     "execution_count": 34,
     "metadata": {},
     "output_type": "execute_result"
    }
   ],
   "source": [
    "messages['month'] = messages['message_date'].dt.month\n",
    "monthly_messages = messages.groupby(['user_id','month']).count()\n",
    "\n",
    "monthly_messages"
   ]
  },
  {
   "cell_type": "markdown",
   "id": "097eedd0",
   "metadata": {},
   "source": [
    "#### The volume of data per month"
   ]
  },
  {
   "cell_type": "markdown",
   "id": "faff2f07",
   "metadata": {},
   "source": [
    "Previesly we made it in  **how_gb_used**"
   ]
  },
  {
   "cell_type": "markdown",
   "id": "107c6c21",
   "metadata": {},
   "source": [
    "###  Now we starting to merge all datasets into one in case to calculate the monthly revenue from each user "
   ]
  },
  {
   "cell_type": "code",
   "execution_count": 35,
   "id": "618a981c",
   "metadata": {},
   "outputs": [],
   "source": [
    "data_frames = [calls_lenght ,monthly_messages, how_gb_used]\n",
    "user_usege = reduce(lambda left,right: pd.merge(left,right,on=['user_id', 'month'], how= 'outer'),data_frames)\n",
    "user_usege.rename(columns = {\"message_date\": \"messegess\"}, inplace = True)\n"
   ]
  },
  {
   "cell_type": "code",
   "execution_count": 36,
   "id": "c4d38bc0",
   "metadata": {},
   "outputs": [
    {
     "data": {
      "text/html": [
       "<div>\n",
       "<style scoped>\n",
       "    .dataframe tbody tr th:only-of-type {\n",
       "        vertical-align: middle;\n",
       "    }\n",
       "\n",
       "    .dataframe tbody tr th {\n",
       "        vertical-align: top;\n",
       "    }\n",
       "\n",
       "    .dataframe thead th {\n",
       "        text-align: right;\n",
       "    }\n",
       "</style>\n",
       "<table border=\"1\" class=\"dataframe\">\n",
       "  <thead>\n",
       "    <tr style=\"text-align: right;\">\n",
       "      <th></th>\n",
       "      <th>user_id</th>\n",
       "      <th>month</th>\n",
       "      <th>duration</th>\n",
       "      <th>id</th>\n",
       "      <th>messegess</th>\n",
       "      <th>mb_used</th>\n",
       "      <th>gb_used</th>\n",
       "    </tr>\n",
       "  </thead>\n",
       "  <tbody>\n",
       "    <tr>\n",
       "      <th>0</th>\n",
       "      <td>1000</td>\n",
       "      <td>12</td>\n",
       "      <td>124.0</td>\n",
       "      <td>11.0</td>\n",
       "      <td>11.0</td>\n",
       "      <td>1901.47</td>\n",
       "      <td>2.0</td>\n",
       "    </tr>\n",
       "    <tr>\n",
       "      <th>1</th>\n",
       "      <td>1001</td>\n",
       "      <td>8</td>\n",
       "      <td>182.0</td>\n",
       "      <td>30.0</td>\n",
       "      <td>30.0</td>\n",
       "      <td>6919.15</td>\n",
       "      <td>7.0</td>\n",
       "    </tr>\n",
       "    <tr>\n",
       "      <th>2</th>\n",
       "      <td>1001</td>\n",
       "      <td>9</td>\n",
       "      <td>315.0</td>\n",
       "      <td>44.0</td>\n",
       "      <td>44.0</td>\n",
       "      <td>13314.82</td>\n",
       "      <td>14.0</td>\n",
       "    </tr>\n",
       "    <tr>\n",
       "      <th>3</th>\n",
       "      <td>1001</td>\n",
       "      <td>10</td>\n",
       "      <td>393.0</td>\n",
       "      <td>53.0</td>\n",
       "      <td>53.0</td>\n",
       "      <td>22330.49</td>\n",
       "      <td>22.0</td>\n",
       "    </tr>\n",
       "    <tr>\n",
       "      <th>4</th>\n",
       "      <td>1001</td>\n",
       "      <td>11</td>\n",
       "      <td>426.0</td>\n",
       "      <td>36.0</td>\n",
       "      <td>36.0</td>\n",
       "      <td>18504.30</td>\n",
       "      <td>19.0</td>\n",
       "    </tr>\n",
       "    <tr>\n",
       "      <th>...</th>\n",
       "      <td>...</td>\n",
       "      <td>...</td>\n",
       "      <td>...</td>\n",
       "      <td>...</td>\n",
       "      <td>...</td>\n",
       "      <td>...</td>\n",
       "      <td>...</td>\n",
       "    </tr>\n",
       "    <tr>\n",
       "      <th>2288</th>\n",
       "      <td>1349</td>\n",
       "      <td>12</td>\n",
       "      <td>NaN</td>\n",
       "      <td>61.0</td>\n",
       "      <td>61.0</td>\n",
       "      <td>13039.91</td>\n",
       "      <td>13.0</td>\n",
       "    </tr>\n",
       "    <tr>\n",
       "      <th>2289</th>\n",
       "      <td>1361</td>\n",
       "      <td>5</td>\n",
       "      <td>NaN</td>\n",
       "      <td>2.0</td>\n",
       "      <td>2.0</td>\n",
       "      <td>1519.69</td>\n",
       "      <td>2.0</td>\n",
       "    </tr>\n",
       "    <tr>\n",
       "      <th>2290</th>\n",
       "      <td>1482</td>\n",
       "      <td>10</td>\n",
       "      <td>NaN</td>\n",
       "      <td>2.0</td>\n",
       "      <td>2.0</td>\n",
       "      <td>NaN</td>\n",
       "      <td>NaN</td>\n",
       "    </tr>\n",
       "    <tr>\n",
       "      <th>2291</th>\n",
       "      <td>1108</td>\n",
       "      <td>12</td>\n",
       "      <td>NaN</td>\n",
       "      <td>NaN</td>\n",
       "      <td>NaN</td>\n",
       "      <td>233.17</td>\n",
       "      <td>1.0</td>\n",
       "    </tr>\n",
       "    <tr>\n",
       "      <th>2292</th>\n",
       "      <td>1311</td>\n",
       "      <td>6</td>\n",
       "      <td>NaN</td>\n",
       "      <td>NaN</td>\n",
       "      <td>NaN</td>\n",
       "      <td>1498.83</td>\n",
       "      <td>2.0</td>\n",
       "    </tr>\n",
       "  </tbody>\n",
       "</table>\n",
       "<p>2293 rows × 7 columns</p>\n",
       "</div>"
      ],
      "text/plain": [
       "      user_id  month  duration    id  messegess   mb_used  gb_used\n",
       "0        1000     12     124.0  11.0       11.0   1901.47      2.0\n",
       "1        1001      8     182.0  30.0       30.0   6919.15      7.0\n",
       "2        1001      9     315.0  44.0       44.0  13314.82     14.0\n",
       "3        1001     10     393.0  53.0       53.0  22330.49     22.0\n",
       "4        1001     11     426.0  36.0       36.0  18504.30     19.0\n",
       "...       ...    ...       ...   ...        ...       ...      ...\n",
       "2288     1349     12       NaN  61.0       61.0  13039.91     13.0\n",
       "2289     1361      5       NaN   2.0        2.0   1519.69      2.0\n",
       "2290     1482     10       NaN   2.0        2.0       NaN      NaN\n",
       "2291     1108     12       NaN   NaN        NaN    233.17      1.0\n",
       "2292     1311      6       NaN   NaN        NaN   1498.83      2.0\n",
       "\n",
       "[2293 rows x 7 columns]"
      ]
     },
     "execution_count": 36,
     "metadata": {},
     "output_type": "execute_result"
    }
   ],
   "source": [
    "user_usege"
   ]
  },
  {
   "cell_type": "code",
   "execution_count": 37,
   "id": "339cc82a",
   "metadata": {},
   "outputs": [
    {
     "data": {
      "text/html": [
       "<div>\n",
       "<style scoped>\n",
       "    .dataframe tbody tr th:only-of-type {\n",
       "        vertical-align: middle;\n",
       "    }\n",
       "\n",
       "    .dataframe tbody tr th {\n",
       "        vertical-align: top;\n",
       "    }\n",
       "\n",
       "    .dataframe thead th {\n",
       "        text-align: right;\n",
       "    }\n",
       "</style>\n",
       "<table border=\"1\" class=\"dataframe\">\n",
       "  <thead>\n",
       "    <tr style=\"text-align: right;\">\n",
       "      <th></th>\n",
       "      <th>user_id</th>\n",
       "      <th>month</th>\n",
       "      <th>duration</th>\n",
       "      <th>id</th>\n",
       "      <th>messegess</th>\n",
       "      <th>mb_used</th>\n",
       "      <th>gb_used</th>\n",
       "      <th>first_name</th>\n",
       "      <th>last_name</th>\n",
       "      <th>age</th>\n",
       "      <th>city</th>\n",
       "      <th>reg_date</th>\n",
       "      <th>plan</th>\n",
       "      <th>churn_date</th>\n",
       "      <th>plan_name_id</th>\n",
       "    </tr>\n",
       "  </thead>\n",
       "  <tbody>\n",
       "    <tr>\n",
       "      <th>0</th>\n",
       "      <td>1000</td>\n",
       "      <td>12.0</td>\n",
       "      <td>124.0</td>\n",
       "      <td>11.0</td>\n",
       "      <td>11.0</td>\n",
       "      <td>1901.47</td>\n",
       "      <td>2.0</td>\n",
       "      <td>Anamaria</td>\n",
       "      <td>Bauer</td>\n",
       "      <td>45</td>\n",
       "      <td>Atlanta-Sandy Springs-Roswell, GA MSA</td>\n",
       "      <td>2018-12-24</td>\n",
       "      <td>ultimate</td>\n",
       "      <td>2019-01-01</td>\n",
       "      <td>1</td>\n",
       "    </tr>\n",
       "    <tr>\n",
       "      <th>1</th>\n",
       "      <td>1001</td>\n",
       "      <td>8.0</td>\n",
       "      <td>182.0</td>\n",
       "      <td>30.0</td>\n",
       "      <td>30.0</td>\n",
       "      <td>6919.15</td>\n",
       "      <td>7.0</td>\n",
       "      <td>Mickey</td>\n",
       "      <td>Wilkerson</td>\n",
       "      <td>28</td>\n",
       "      <td>Seattle-Tacoma-Bellevue, WA MSA</td>\n",
       "      <td>2018-08-13</td>\n",
       "      <td>surf</td>\n",
       "      <td>2019-01-01</td>\n",
       "      <td>0</td>\n",
       "    </tr>\n",
       "    <tr>\n",
       "      <th>2</th>\n",
       "      <td>1001</td>\n",
       "      <td>9.0</td>\n",
       "      <td>315.0</td>\n",
       "      <td>44.0</td>\n",
       "      <td>44.0</td>\n",
       "      <td>13314.82</td>\n",
       "      <td>14.0</td>\n",
       "      <td>Mickey</td>\n",
       "      <td>Wilkerson</td>\n",
       "      <td>28</td>\n",
       "      <td>Seattle-Tacoma-Bellevue, WA MSA</td>\n",
       "      <td>2018-08-13</td>\n",
       "      <td>surf</td>\n",
       "      <td>2019-01-01</td>\n",
       "      <td>0</td>\n",
       "    </tr>\n",
       "    <tr>\n",
       "      <th>3</th>\n",
       "      <td>1001</td>\n",
       "      <td>10.0</td>\n",
       "      <td>393.0</td>\n",
       "      <td>53.0</td>\n",
       "      <td>53.0</td>\n",
       "      <td>22330.49</td>\n",
       "      <td>22.0</td>\n",
       "      <td>Mickey</td>\n",
       "      <td>Wilkerson</td>\n",
       "      <td>28</td>\n",
       "      <td>Seattle-Tacoma-Bellevue, WA MSA</td>\n",
       "      <td>2018-08-13</td>\n",
       "      <td>surf</td>\n",
       "      <td>2019-01-01</td>\n",
       "      <td>0</td>\n",
       "    </tr>\n",
       "    <tr>\n",
       "      <th>4</th>\n",
       "      <td>1001</td>\n",
       "      <td>11.0</td>\n",
       "      <td>426.0</td>\n",
       "      <td>36.0</td>\n",
       "      <td>36.0</td>\n",
       "      <td>18504.30</td>\n",
       "      <td>19.0</td>\n",
       "      <td>Mickey</td>\n",
       "      <td>Wilkerson</td>\n",
       "      <td>28</td>\n",
       "      <td>Seattle-Tacoma-Bellevue, WA MSA</td>\n",
       "      <td>2018-08-13</td>\n",
       "      <td>surf</td>\n",
       "      <td>2019-01-01</td>\n",
       "      <td>0</td>\n",
       "    </tr>\n",
       "    <tr>\n",
       "      <th>...</th>\n",
       "      <td>...</td>\n",
       "      <td>...</td>\n",
       "      <td>...</td>\n",
       "      <td>...</td>\n",
       "      <td>...</td>\n",
       "      <td>...</td>\n",
       "      <td>...</td>\n",
       "      <td>...</td>\n",
       "      <td>...</td>\n",
       "      <td>...</td>\n",
       "      <td>...</td>\n",
       "      <td>...</td>\n",
       "      <td>...</td>\n",
       "      <td>...</td>\n",
       "      <td>...</td>\n",
       "    </tr>\n",
       "    <tr>\n",
       "      <th>2298</th>\n",
       "      <td>1307</td>\n",
       "      <td>NaN</td>\n",
       "      <td>NaN</td>\n",
       "      <td>NaN</td>\n",
       "      <td>NaN</td>\n",
       "      <td>NaN</td>\n",
       "      <td>NaN</td>\n",
       "      <td>Kristopher</td>\n",
       "      <td>Lang</td>\n",
       "      <td>28</td>\n",
       "      <td>Boston-Cambridge-Newton, MA-NH MSA</td>\n",
       "      <td>2018-12-31</td>\n",
       "      <td>surf</td>\n",
       "      <td>2019-01-01</td>\n",
       "      <td>0</td>\n",
       "    </tr>\n",
       "    <tr>\n",
       "      <th>2299</th>\n",
       "      <td>1319</td>\n",
       "      <td>NaN</td>\n",
       "      <td>NaN</td>\n",
       "      <td>NaN</td>\n",
       "      <td>NaN</td>\n",
       "      <td>NaN</td>\n",
       "      <td>NaN</td>\n",
       "      <td>Eliseo</td>\n",
       "      <td>Carson</td>\n",
       "      <td>21</td>\n",
       "      <td>Colorado Springs, CO MSA</td>\n",
       "      <td>2018-06-17</td>\n",
       "      <td>surf</td>\n",
       "      <td>2019-01-01</td>\n",
       "      <td>0</td>\n",
       "    </tr>\n",
       "    <tr>\n",
       "      <th>2300</th>\n",
       "      <td>1378</td>\n",
       "      <td>NaN</td>\n",
       "      <td>NaN</td>\n",
       "      <td>NaN</td>\n",
       "      <td>NaN</td>\n",
       "      <td>NaN</td>\n",
       "      <td>NaN</td>\n",
       "      <td>Mckinley</td>\n",
       "      <td>Clayton</td>\n",
       "      <td>22</td>\n",
       "      <td>Denver-Aurora-Lakewood, CO MSA</td>\n",
       "      <td>2018-12-17</td>\n",
       "      <td>surf</td>\n",
       "      <td>2019-01-01</td>\n",
       "      <td>0</td>\n",
       "    </tr>\n",
       "    <tr>\n",
       "      <th>2301</th>\n",
       "      <td>1463</td>\n",
       "      <td>NaN</td>\n",
       "      <td>NaN</td>\n",
       "      <td>NaN</td>\n",
       "      <td>NaN</td>\n",
       "      <td>NaN</td>\n",
       "      <td>NaN</td>\n",
       "      <td>Dinorah</td>\n",
       "      <td>Simmons</td>\n",
       "      <td>30</td>\n",
       "      <td>Atlanta-Sandy Springs-Roswell, GA MSA</td>\n",
       "      <td>2018-11-27</td>\n",
       "      <td>ultimate</td>\n",
       "      <td>2019-01-01</td>\n",
       "      <td>1</td>\n",
       "    </tr>\n",
       "    <tr>\n",
       "      <th>2302</th>\n",
       "      <td>1473</td>\n",
       "      <td>NaN</td>\n",
       "      <td>NaN</td>\n",
       "      <td>NaN</td>\n",
       "      <td>NaN</td>\n",
       "      <td>NaN</td>\n",
       "      <td>NaN</td>\n",
       "      <td>Kirk</td>\n",
       "      <td>Velez</td>\n",
       "      <td>61</td>\n",
       "      <td>Louisville/Jefferson County, KY-IN MSA</td>\n",
       "      <td>2018-12-31</td>\n",
       "      <td>surf</td>\n",
       "      <td>2019-01-01</td>\n",
       "      <td>0</td>\n",
       "    </tr>\n",
       "  </tbody>\n",
       "</table>\n",
       "<p>2303 rows × 15 columns</p>\n",
       "</div>"
      ],
      "text/plain": [
       "      user_id  month  duration    id  messegess   mb_used  gb_used  \\\n",
       "0        1000   12.0     124.0  11.0       11.0   1901.47      2.0   \n",
       "1        1001    8.0     182.0  30.0       30.0   6919.15      7.0   \n",
       "2        1001    9.0     315.0  44.0       44.0  13314.82     14.0   \n",
       "3        1001   10.0     393.0  53.0       53.0  22330.49     22.0   \n",
       "4        1001   11.0     426.0  36.0       36.0  18504.30     19.0   \n",
       "...       ...    ...       ...   ...        ...       ...      ...   \n",
       "2298     1307    NaN       NaN   NaN        NaN       NaN      NaN   \n",
       "2299     1319    NaN       NaN   NaN        NaN       NaN      NaN   \n",
       "2300     1378    NaN       NaN   NaN        NaN       NaN      NaN   \n",
       "2301     1463    NaN       NaN   NaN        NaN       NaN      NaN   \n",
       "2302     1473    NaN       NaN   NaN        NaN       NaN      NaN   \n",
       "\n",
       "      first_name  last_name  age                                    city  \\\n",
       "0       Anamaria      Bauer   45   Atlanta-Sandy Springs-Roswell, GA MSA   \n",
       "1         Mickey  Wilkerson   28         Seattle-Tacoma-Bellevue, WA MSA   \n",
       "2         Mickey  Wilkerson   28         Seattle-Tacoma-Bellevue, WA MSA   \n",
       "3         Mickey  Wilkerson   28         Seattle-Tacoma-Bellevue, WA MSA   \n",
       "4         Mickey  Wilkerson   28         Seattle-Tacoma-Bellevue, WA MSA   \n",
       "...          ...        ...  ...                                     ...   \n",
       "2298  Kristopher       Lang   28      Boston-Cambridge-Newton, MA-NH MSA   \n",
       "2299      Eliseo     Carson   21                Colorado Springs, CO MSA   \n",
       "2300    Mckinley    Clayton   22          Denver-Aurora-Lakewood, CO MSA   \n",
       "2301     Dinorah    Simmons   30   Atlanta-Sandy Springs-Roswell, GA MSA   \n",
       "2302        Kirk      Velez   61  Louisville/Jefferson County, KY-IN MSA   \n",
       "\n",
       "       reg_date      plan churn_date  plan_name_id  \n",
       "0    2018-12-24  ultimate 2019-01-01             1  \n",
       "1    2018-08-13      surf 2019-01-01             0  \n",
       "2    2018-08-13      surf 2019-01-01             0  \n",
       "3    2018-08-13      surf 2019-01-01             0  \n",
       "4    2018-08-13      surf 2019-01-01             0  \n",
       "...         ...       ...        ...           ...  \n",
       "2298 2018-12-31      surf 2019-01-01             0  \n",
       "2299 2018-06-17      surf 2019-01-01             0  \n",
       "2300 2018-12-17      surf 2019-01-01             0  \n",
       "2301 2018-11-27  ultimate 2019-01-01             1  \n",
       "2302 2018-12-31      surf 2019-01-01             0  \n",
       "\n",
       "[2303 rows x 15 columns]"
      ]
     },
     "execution_count": 37,
     "metadata": {},
     "output_type": "execute_result"
    }
   ],
   "source": [
    "data_frames_1 = [user_usege ,users]\n",
    "user_usege = reduce(lambda left,right: pd.merge(left,right,on=['user_id'], how= 'outer'),data_frames_1)\n",
    "user_usege"
   ]
  },
  {
   "cell_type": "markdown",
   "id": "d74b6f78",
   "metadata": {},
   "source": [
    "### Here \"0\" means that user did not use this sertein service in this month and we filling NaN with \"0\""
   ]
  },
  {
   "cell_type": "code",
   "execution_count": 38,
   "id": "08f9a154",
   "metadata": {},
   "outputs": [
    {
     "data": {
      "text/html": [
       "<div>\n",
       "<style scoped>\n",
       "    .dataframe tbody tr th:only-of-type {\n",
       "        vertical-align: middle;\n",
       "    }\n",
       "\n",
       "    .dataframe tbody tr th {\n",
       "        vertical-align: top;\n",
       "    }\n",
       "\n",
       "    .dataframe thead th {\n",
       "        text-align: right;\n",
       "    }\n",
       "</style>\n",
       "<table border=\"1\" class=\"dataframe\">\n",
       "  <thead>\n",
       "    <tr style=\"text-align: right;\">\n",
       "      <th></th>\n",
       "      <th>user_id</th>\n",
       "      <th>month</th>\n",
       "      <th>duration</th>\n",
       "      <th>id</th>\n",
       "      <th>messegess</th>\n",
       "      <th>mb_used</th>\n",
       "      <th>gb_used</th>\n",
       "      <th>first_name</th>\n",
       "      <th>last_name</th>\n",
       "      <th>age</th>\n",
       "      <th>city</th>\n",
       "      <th>reg_date</th>\n",
       "      <th>plan</th>\n",
       "      <th>churn_date</th>\n",
       "      <th>plan_name_id</th>\n",
       "    </tr>\n",
       "  </thead>\n",
       "  <tbody>\n",
       "    <tr>\n",
       "      <th>0</th>\n",
       "      <td>1000</td>\n",
       "      <td>12.0</td>\n",
       "      <td>124.0</td>\n",
       "      <td>11.0</td>\n",
       "      <td>11.0</td>\n",
       "      <td>1901.47</td>\n",
       "      <td>2.0</td>\n",
       "      <td>Anamaria</td>\n",
       "      <td>Bauer</td>\n",
       "      <td>45</td>\n",
       "      <td>Atlanta-Sandy Springs-Roswell, GA MSA</td>\n",
       "      <td>2018-12-24</td>\n",
       "      <td>ultimate</td>\n",
       "      <td>2019-01-01</td>\n",
       "      <td>1</td>\n",
       "    </tr>\n",
       "    <tr>\n",
       "      <th>1</th>\n",
       "      <td>1001</td>\n",
       "      <td>8.0</td>\n",
       "      <td>182.0</td>\n",
       "      <td>30.0</td>\n",
       "      <td>30.0</td>\n",
       "      <td>6919.15</td>\n",
       "      <td>7.0</td>\n",
       "      <td>Mickey</td>\n",
       "      <td>Wilkerson</td>\n",
       "      <td>28</td>\n",
       "      <td>Seattle-Tacoma-Bellevue, WA MSA</td>\n",
       "      <td>2018-08-13</td>\n",
       "      <td>surf</td>\n",
       "      <td>2019-01-01</td>\n",
       "      <td>0</td>\n",
       "    </tr>\n",
       "    <tr>\n",
       "      <th>2</th>\n",
       "      <td>1001</td>\n",
       "      <td>9.0</td>\n",
       "      <td>315.0</td>\n",
       "      <td>44.0</td>\n",
       "      <td>44.0</td>\n",
       "      <td>13314.82</td>\n",
       "      <td>14.0</td>\n",
       "      <td>Mickey</td>\n",
       "      <td>Wilkerson</td>\n",
       "      <td>28</td>\n",
       "      <td>Seattle-Tacoma-Bellevue, WA MSA</td>\n",
       "      <td>2018-08-13</td>\n",
       "      <td>surf</td>\n",
       "      <td>2019-01-01</td>\n",
       "      <td>0</td>\n",
       "    </tr>\n",
       "    <tr>\n",
       "      <th>3</th>\n",
       "      <td>1001</td>\n",
       "      <td>10.0</td>\n",
       "      <td>393.0</td>\n",
       "      <td>53.0</td>\n",
       "      <td>53.0</td>\n",
       "      <td>22330.49</td>\n",
       "      <td>22.0</td>\n",
       "      <td>Mickey</td>\n",
       "      <td>Wilkerson</td>\n",
       "      <td>28</td>\n",
       "      <td>Seattle-Tacoma-Bellevue, WA MSA</td>\n",
       "      <td>2018-08-13</td>\n",
       "      <td>surf</td>\n",
       "      <td>2019-01-01</td>\n",
       "      <td>0</td>\n",
       "    </tr>\n",
       "    <tr>\n",
       "      <th>4</th>\n",
       "      <td>1001</td>\n",
       "      <td>11.0</td>\n",
       "      <td>426.0</td>\n",
       "      <td>36.0</td>\n",
       "      <td>36.0</td>\n",
       "      <td>18504.30</td>\n",
       "      <td>19.0</td>\n",
       "      <td>Mickey</td>\n",
       "      <td>Wilkerson</td>\n",
       "      <td>28</td>\n",
       "      <td>Seattle-Tacoma-Bellevue, WA MSA</td>\n",
       "      <td>2018-08-13</td>\n",
       "      <td>surf</td>\n",
       "      <td>2019-01-01</td>\n",
       "      <td>0</td>\n",
       "    </tr>\n",
       "    <tr>\n",
       "      <th>...</th>\n",
       "      <td>...</td>\n",
       "      <td>...</td>\n",
       "      <td>...</td>\n",
       "      <td>...</td>\n",
       "      <td>...</td>\n",
       "      <td>...</td>\n",
       "      <td>...</td>\n",
       "      <td>...</td>\n",
       "      <td>...</td>\n",
       "      <td>...</td>\n",
       "      <td>...</td>\n",
       "      <td>...</td>\n",
       "      <td>...</td>\n",
       "      <td>...</td>\n",
       "      <td>...</td>\n",
       "    </tr>\n",
       "    <tr>\n",
       "      <th>2298</th>\n",
       "      <td>1307</td>\n",
       "      <td>0.0</td>\n",
       "      <td>0.0</td>\n",
       "      <td>0.0</td>\n",
       "      <td>0.0</td>\n",
       "      <td>0.00</td>\n",
       "      <td>0.0</td>\n",
       "      <td>Kristopher</td>\n",
       "      <td>Lang</td>\n",
       "      <td>28</td>\n",
       "      <td>Boston-Cambridge-Newton, MA-NH MSA</td>\n",
       "      <td>2018-12-31</td>\n",
       "      <td>surf</td>\n",
       "      <td>2019-01-01</td>\n",
       "      <td>0</td>\n",
       "    </tr>\n",
       "    <tr>\n",
       "      <th>2299</th>\n",
       "      <td>1319</td>\n",
       "      <td>0.0</td>\n",
       "      <td>0.0</td>\n",
       "      <td>0.0</td>\n",
       "      <td>0.0</td>\n",
       "      <td>0.00</td>\n",
       "      <td>0.0</td>\n",
       "      <td>Eliseo</td>\n",
       "      <td>Carson</td>\n",
       "      <td>21</td>\n",
       "      <td>Colorado Springs, CO MSA</td>\n",
       "      <td>2018-06-17</td>\n",
       "      <td>surf</td>\n",
       "      <td>2019-01-01</td>\n",
       "      <td>0</td>\n",
       "    </tr>\n",
       "    <tr>\n",
       "      <th>2300</th>\n",
       "      <td>1378</td>\n",
       "      <td>0.0</td>\n",
       "      <td>0.0</td>\n",
       "      <td>0.0</td>\n",
       "      <td>0.0</td>\n",
       "      <td>0.00</td>\n",
       "      <td>0.0</td>\n",
       "      <td>Mckinley</td>\n",
       "      <td>Clayton</td>\n",
       "      <td>22</td>\n",
       "      <td>Denver-Aurora-Lakewood, CO MSA</td>\n",
       "      <td>2018-12-17</td>\n",
       "      <td>surf</td>\n",
       "      <td>2019-01-01</td>\n",
       "      <td>0</td>\n",
       "    </tr>\n",
       "    <tr>\n",
       "      <th>2301</th>\n",
       "      <td>1463</td>\n",
       "      <td>0.0</td>\n",
       "      <td>0.0</td>\n",
       "      <td>0.0</td>\n",
       "      <td>0.0</td>\n",
       "      <td>0.00</td>\n",
       "      <td>0.0</td>\n",
       "      <td>Dinorah</td>\n",
       "      <td>Simmons</td>\n",
       "      <td>30</td>\n",
       "      <td>Atlanta-Sandy Springs-Roswell, GA MSA</td>\n",
       "      <td>2018-11-27</td>\n",
       "      <td>ultimate</td>\n",
       "      <td>2019-01-01</td>\n",
       "      <td>1</td>\n",
       "    </tr>\n",
       "    <tr>\n",
       "      <th>2302</th>\n",
       "      <td>1473</td>\n",
       "      <td>0.0</td>\n",
       "      <td>0.0</td>\n",
       "      <td>0.0</td>\n",
       "      <td>0.0</td>\n",
       "      <td>0.00</td>\n",
       "      <td>0.0</td>\n",
       "      <td>Kirk</td>\n",
       "      <td>Velez</td>\n",
       "      <td>61</td>\n",
       "      <td>Louisville/Jefferson County, KY-IN MSA</td>\n",
       "      <td>2018-12-31</td>\n",
       "      <td>surf</td>\n",
       "      <td>2019-01-01</td>\n",
       "      <td>0</td>\n",
       "    </tr>\n",
       "  </tbody>\n",
       "</table>\n",
       "<p>2303 rows × 15 columns</p>\n",
       "</div>"
      ],
      "text/plain": [
       "      user_id  month  duration    id  messegess   mb_used  gb_used  \\\n",
       "0        1000   12.0     124.0  11.0       11.0   1901.47      2.0   \n",
       "1        1001    8.0     182.0  30.0       30.0   6919.15      7.0   \n",
       "2        1001    9.0     315.0  44.0       44.0  13314.82     14.0   \n",
       "3        1001   10.0     393.0  53.0       53.0  22330.49     22.0   \n",
       "4        1001   11.0     426.0  36.0       36.0  18504.30     19.0   \n",
       "...       ...    ...       ...   ...        ...       ...      ...   \n",
       "2298     1307    0.0       0.0   0.0        0.0      0.00      0.0   \n",
       "2299     1319    0.0       0.0   0.0        0.0      0.00      0.0   \n",
       "2300     1378    0.0       0.0   0.0        0.0      0.00      0.0   \n",
       "2301     1463    0.0       0.0   0.0        0.0      0.00      0.0   \n",
       "2302     1473    0.0       0.0   0.0        0.0      0.00      0.0   \n",
       "\n",
       "      first_name  last_name  age                                    city  \\\n",
       "0       Anamaria      Bauer   45   Atlanta-Sandy Springs-Roswell, GA MSA   \n",
       "1         Mickey  Wilkerson   28         Seattle-Tacoma-Bellevue, WA MSA   \n",
       "2         Mickey  Wilkerson   28         Seattle-Tacoma-Bellevue, WA MSA   \n",
       "3         Mickey  Wilkerson   28         Seattle-Tacoma-Bellevue, WA MSA   \n",
       "4         Mickey  Wilkerson   28         Seattle-Tacoma-Bellevue, WA MSA   \n",
       "...          ...        ...  ...                                     ...   \n",
       "2298  Kristopher       Lang   28      Boston-Cambridge-Newton, MA-NH MSA   \n",
       "2299      Eliseo     Carson   21                Colorado Springs, CO MSA   \n",
       "2300    Mckinley    Clayton   22          Denver-Aurora-Lakewood, CO MSA   \n",
       "2301     Dinorah    Simmons   30   Atlanta-Sandy Springs-Roswell, GA MSA   \n",
       "2302        Kirk      Velez   61  Louisville/Jefferson County, KY-IN MSA   \n",
       "\n",
       "       reg_date      plan churn_date  plan_name_id  \n",
       "0    2018-12-24  ultimate 2019-01-01             1  \n",
       "1    2018-08-13      surf 2019-01-01             0  \n",
       "2    2018-08-13      surf 2019-01-01             0  \n",
       "3    2018-08-13      surf 2019-01-01             0  \n",
       "4    2018-08-13      surf 2019-01-01             0  \n",
       "...         ...       ...        ...           ...  \n",
       "2298 2018-12-31      surf 2019-01-01             0  \n",
       "2299 2018-06-17      surf 2019-01-01             0  \n",
       "2300 2018-12-17      surf 2019-01-01             0  \n",
       "2301 2018-11-27  ultimate 2019-01-01             1  \n",
       "2302 2018-12-31      surf 2019-01-01             0  \n",
       "\n",
       "[2303 rows x 15 columns]"
      ]
     },
     "execution_count": 38,
     "metadata": {},
     "output_type": "execute_result"
    }
   ],
   "source": [
    "user_usege = user_usege.fillna(value=0)\n",
    "user_usege"
   ]
  },
  {
   "cell_type": "markdown",
   "id": "b5d65311",
   "metadata": {},
   "source": [
    "#### The final dataset"
   ]
  },
  {
   "cell_type": "markdown",
   "id": "8ff7735f",
   "metadata": {},
   "source": [
    "To calculate the total monthly revenue from each user we desided to create function **'cost'**:"
   ]
  },
  {
   "cell_type": "code",
   "execution_count": 39,
   "id": "1322749b",
   "metadata": {},
   "outputs": [],
   "source": [
    "def cost(row):\n",
    "    duration = row['duration']\n",
    "    messegess = row['messegess']\n",
    "    mb_used = row['mb_used']\n",
    "    gb_used = row['gb_used']\n",
    "    plan = row['plan']\n",
    "    plan_cost = 0\n",
    "    messages_cost = 0\n",
    "    calls_cost = 0\n",
    "    gb_cost = 0\n",
    "    gb_ulti = 30\n",
    "    gb_surf = 15\n",
    " \n",
    "    \n",
    "   \n",
    "    if plan =='ultimate':\n",
    "        plan_cost = plans['usd_monthly_pay'].max()\n",
    "    if duration > plans['minutes_included'].max():\n",
    "        calls_cost = (duration - plans['minutes_included'].max()) * plans['usd_per_minute'].min()\n",
    "    if messegess > plans['messages_included'].max():\n",
    "        messages_cost = (messegess - plans['messages_included'].max()) * plans['usd_per_message'].min()\n",
    "    if mb_used > plans['mb_per_month_included'].max():\n",
    "        gb_cost = (gb_used - gb_surf) * plans['usd_per_gb'].min()\n",
    "        \n",
    "        \n",
    "        \n",
    "        \n",
    "    elif plan =='surf':\n",
    "        plan_cost = plans['usd_monthly_pay'].min()\n",
    "    if duration > plans['minutes_included'].max():\n",
    "        calls_cost = (duration - plans['minutes_included'].min()) * plans['usd_per_minute'].max()\n",
    "    if messegess > plans['messages_included'].min():\n",
    "                messages_cost = (messegess - plans['messages_included'].min()) * plans['usd_per_message'].max()\n",
    "    if mb_used > plans['mb_per_month_included'].min():\n",
    "                gb_cost = (gb_used - gb_surf) * plans['usd_per_gb'].min()   \n",
    "    total_cost =  plan_cost + messages_cost +  calls_cost +  gb_cost\n",
    "    return total_cost"
   ]
  },
  {
   "cell_type": "markdown",
   "id": "36f74198",
   "metadata": {},
   "source": [
    "#### Now we have to apply our 'cost' function to user_usages_final dataset and create new column 'total_cost':"
   ]
  },
  {
   "cell_type": "code",
   "execution_count": 40,
   "id": "fab8813e",
   "metadata": {},
   "outputs": [],
   "source": [
    "user_usege['total_cost'] = user_usege.apply(cost , axis=1)"
   ]
  },
  {
   "cell_type": "code",
   "execution_count": 41,
   "id": "0ce40304",
   "metadata": {},
   "outputs": [
    {
     "data": {
      "text/html": [
       "<div>\n",
       "<style scoped>\n",
       "    .dataframe tbody tr th:only-of-type {\n",
       "        vertical-align: middle;\n",
       "    }\n",
       "\n",
       "    .dataframe tbody tr th {\n",
       "        vertical-align: top;\n",
       "    }\n",
       "\n",
       "    .dataframe thead th {\n",
       "        text-align: right;\n",
       "    }\n",
       "</style>\n",
       "<table border=\"1\" class=\"dataframe\">\n",
       "  <thead>\n",
       "    <tr style=\"text-align: right;\">\n",
       "      <th></th>\n",
       "      <th>index</th>\n",
       "      <th>user_id</th>\n",
       "      <th>month</th>\n",
       "      <th>duration</th>\n",
       "      <th>id</th>\n",
       "      <th>messegess</th>\n",
       "      <th>mb_used</th>\n",
       "      <th>gb_used</th>\n",
       "      <th>first_name</th>\n",
       "      <th>last_name</th>\n",
       "      <th>age</th>\n",
       "      <th>city</th>\n",
       "      <th>reg_date</th>\n",
       "      <th>plan</th>\n",
       "      <th>churn_date</th>\n",
       "      <th>plan_name_id</th>\n",
       "      <th>total_cost</th>\n",
       "    </tr>\n",
       "  </thead>\n",
       "  <tbody>\n",
       "    <tr>\n",
       "      <th>0</th>\n",
       "      <td>0</td>\n",
       "      <td>1000</td>\n",
       "      <td>12.0</td>\n",
       "      <td>124.0</td>\n",
       "      <td>11.0</td>\n",
       "      <td>11.0</td>\n",
       "      <td>1901.47</td>\n",
       "      <td>2.0</td>\n",
       "      <td>Anamaria</td>\n",
       "      <td>Bauer</td>\n",
       "      <td>45</td>\n",
       "      <td>Atlanta-Sandy Springs-Roswell, GA MSA</td>\n",
       "      <td>2018-12-24</td>\n",
       "      <td>ultimate</td>\n",
       "      <td>2019-01-01</td>\n",
       "      <td>1</td>\n",
       "      <td>70.00</td>\n",
       "    </tr>\n",
       "    <tr>\n",
       "      <th>1</th>\n",
       "      <td>1</td>\n",
       "      <td>1001</td>\n",
       "      <td>8.0</td>\n",
       "      <td>182.0</td>\n",
       "      <td>30.0</td>\n",
       "      <td>30.0</td>\n",
       "      <td>6919.15</td>\n",
       "      <td>7.0</td>\n",
       "      <td>Mickey</td>\n",
       "      <td>Wilkerson</td>\n",
       "      <td>28</td>\n",
       "      <td>Seattle-Tacoma-Bellevue, WA MSA</td>\n",
       "      <td>2018-08-13</td>\n",
       "      <td>surf</td>\n",
       "      <td>2019-01-01</td>\n",
       "      <td>0</td>\n",
       "      <td>20.00</td>\n",
       "    </tr>\n",
       "    <tr>\n",
       "      <th>2</th>\n",
       "      <td>2</td>\n",
       "      <td>1001</td>\n",
       "      <td>9.0</td>\n",
       "      <td>315.0</td>\n",
       "      <td>44.0</td>\n",
       "      <td>44.0</td>\n",
       "      <td>13314.82</td>\n",
       "      <td>14.0</td>\n",
       "      <td>Mickey</td>\n",
       "      <td>Wilkerson</td>\n",
       "      <td>28</td>\n",
       "      <td>Seattle-Tacoma-Bellevue, WA MSA</td>\n",
       "      <td>2018-08-13</td>\n",
       "      <td>surf</td>\n",
       "      <td>2019-01-01</td>\n",
       "      <td>0</td>\n",
       "      <td>20.00</td>\n",
       "    </tr>\n",
       "    <tr>\n",
       "      <th>3</th>\n",
       "      <td>3</td>\n",
       "      <td>1001</td>\n",
       "      <td>10.0</td>\n",
       "      <td>393.0</td>\n",
       "      <td>53.0</td>\n",
       "      <td>53.0</td>\n",
       "      <td>22330.49</td>\n",
       "      <td>22.0</td>\n",
       "      <td>Mickey</td>\n",
       "      <td>Wilkerson</td>\n",
       "      <td>28</td>\n",
       "      <td>Seattle-Tacoma-Bellevue, WA MSA</td>\n",
       "      <td>2018-08-13</td>\n",
       "      <td>surf</td>\n",
       "      <td>2019-01-01</td>\n",
       "      <td>0</td>\n",
       "      <td>69.09</td>\n",
       "    </tr>\n",
       "    <tr>\n",
       "      <th>4</th>\n",
       "      <td>4</td>\n",
       "      <td>1001</td>\n",
       "      <td>11.0</td>\n",
       "      <td>426.0</td>\n",
       "      <td>36.0</td>\n",
       "      <td>36.0</td>\n",
       "      <td>18504.30</td>\n",
       "      <td>19.0</td>\n",
       "      <td>Mickey</td>\n",
       "      <td>Wilkerson</td>\n",
       "      <td>28</td>\n",
       "      <td>Seattle-Tacoma-Bellevue, WA MSA</td>\n",
       "      <td>2018-08-13</td>\n",
       "      <td>surf</td>\n",
       "      <td>2019-01-01</td>\n",
       "      <td>0</td>\n",
       "      <td>48.00</td>\n",
       "    </tr>\n",
       "    <tr>\n",
       "      <th>...</th>\n",
       "      <td>...</td>\n",
       "      <td>...</td>\n",
       "      <td>...</td>\n",
       "      <td>...</td>\n",
       "      <td>...</td>\n",
       "      <td>...</td>\n",
       "      <td>...</td>\n",
       "      <td>...</td>\n",
       "      <td>...</td>\n",
       "      <td>...</td>\n",
       "      <td>...</td>\n",
       "      <td>...</td>\n",
       "      <td>...</td>\n",
       "      <td>...</td>\n",
       "      <td>...</td>\n",
       "      <td>...</td>\n",
       "      <td>...</td>\n",
       "    </tr>\n",
       "    <tr>\n",
       "      <th>2298</th>\n",
       "      <td>2298</td>\n",
       "      <td>1307</td>\n",
       "      <td>0.0</td>\n",
       "      <td>0.0</td>\n",
       "      <td>0.0</td>\n",
       "      <td>0.0</td>\n",
       "      <td>0.00</td>\n",
       "      <td>0.0</td>\n",
       "      <td>Kristopher</td>\n",
       "      <td>Lang</td>\n",
       "      <td>28</td>\n",
       "      <td>Boston-Cambridge-Newton, MA-NH MSA</td>\n",
       "      <td>2018-12-31</td>\n",
       "      <td>surf</td>\n",
       "      <td>2019-01-01</td>\n",
       "      <td>0</td>\n",
       "      <td>20.00</td>\n",
       "    </tr>\n",
       "    <tr>\n",
       "      <th>2299</th>\n",
       "      <td>2299</td>\n",
       "      <td>1319</td>\n",
       "      <td>0.0</td>\n",
       "      <td>0.0</td>\n",
       "      <td>0.0</td>\n",
       "      <td>0.0</td>\n",
       "      <td>0.00</td>\n",
       "      <td>0.0</td>\n",
       "      <td>Eliseo</td>\n",
       "      <td>Carson</td>\n",
       "      <td>21</td>\n",
       "      <td>Colorado Springs, CO MSA</td>\n",
       "      <td>2018-06-17</td>\n",
       "      <td>surf</td>\n",
       "      <td>2019-01-01</td>\n",
       "      <td>0</td>\n",
       "      <td>20.00</td>\n",
       "    </tr>\n",
       "    <tr>\n",
       "      <th>2300</th>\n",
       "      <td>2300</td>\n",
       "      <td>1378</td>\n",
       "      <td>0.0</td>\n",
       "      <td>0.0</td>\n",
       "      <td>0.0</td>\n",
       "      <td>0.0</td>\n",
       "      <td>0.00</td>\n",
       "      <td>0.0</td>\n",
       "      <td>Mckinley</td>\n",
       "      <td>Clayton</td>\n",
       "      <td>22</td>\n",
       "      <td>Denver-Aurora-Lakewood, CO MSA</td>\n",
       "      <td>2018-12-17</td>\n",
       "      <td>surf</td>\n",
       "      <td>2019-01-01</td>\n",
       "      <td>0</td>\n",
       "      <td>20.00</td>\n",
       "    </tr>\n",
       "    <tr>\n",
       "      <th>2301</th>\n",
       "      <td>2301</td>\n",
       "      <td>1463</td>\n",
       "      <td>0.0</td>\n",
       "      <td>0.0</td>\n",
       "      <td>0.0</td>\n",
       "      <td>0.0</td>\n",
       "      <td>0.00</td>\n",
       "      <td>0.0</td>\n",
       "      <td>Dinorah</td>\n",
       "      <td>Simmons</td>\n",
       "      <td>30</td>\n",
       "      <td>Atlanta-Sandy Springs-Roswell, GA MSA</td>\n",
       "      <td>2018-11-27</td>\n",
       "      <td>ultimate</td>\n",
       "      <td>2019-01-01</td>\n",
       "      <td>1</td>\n",
       "      <td>70.00</td>\n",
       "    </tr>\n",
       "    <tr>\n",
       "      <th>2302</th>\n",
       "      <td>2302</td>\n",
       "      <td>1473</td>\n",
       "      <td>0.0</td>\n",
       "      <td>0.0</td>\n",
       "      <td>0.0</td>\n",
       "      <td>0.0</td>\n",
       "      <td>0.00</td>\n",
       "      <td>0.0</td>\n",
       "      <td>Kirk</td>\n",
       "      <td>Velez</td>\n",
       "      <td>61</td>\n",
       "      <td>Louisville/Jefferson County, KY-IN MSA</td>\n",
       "      <td>2018-12-31</td>\n",
       "      <td>surf</td>\n",
       "      <td>2019-01-01</td>\n",
       "      <td>0</td>\n",
       "      <td>20.00</td>\n",
       "    </tr>\n",
       "  </tbody>\n",
       "</table>\n",
       "<p>2303 rows × 17 columns</p>\n",
       "</div>"
      ],
      "text/plain": [
       "      index  user_id  month  duration    id  messegess   mb_used  gb_used  \\\n",
       "0         0     1000   12.0     124.0  11.0       11.0   1901.47      2.0   \n",
       "1         1     1001    8.0     182.0  30.0       30.0   6919.15      7.0   \n",
       "2         2     1001    9.0     315.0  44.0       44.0  13314.82     14.0   \n",
       "3         3     1001   10.0     393.0  53.0       53.0  22330.49     22.0   \n",
       "4         4     1001   11.0     426.0  36.0       36.0  18504.30     19.0   \n",
       "...     ...      ...    ...       ...   ...        ...       ...      ...   \n",
       "2298   2298     1307    0.0       0.0   0.0        0.0      0.00      0.0   \n",
       "2299   2299     1319    0.0       0.0   0.0        0.0      0.00      0.0   \n",
       "2300   2300     1378    0.0       0.0   0.0        0.0      0.00      0.0   \n",
       "2301   2301     1463    0.0       0.0   0.0        0.0      0.00      0.0   \n",
       "2302   2302     1473    0.0       0.0   0.0        0.0      0.00      0.0   \n",
       "\n",
       "      first_name  last_name  age                                    city  \\\n",
       "0       Anamaria      Bauer   45   Atlanta-Sandy Springs-Roswell, GA MSA   \n",
       "1         Mickey  Wilkerson   28         Seattle-Tacoma-Bellevue, WA MSA   \n",
       "2         Mickey  Wilkerson   28         Seattle-Tacoma-Bellevue, WA MSA   \n",
       "3         Mickey  Wilkerson   28         Seattle-Tacoma-Bellevue, WA MSA   \n",
       "4         Mickey  Wilkerson   28         Seattle-Tacoma-Bellevue, WA MSA   \n",
       "...          ...        ...  ...                                     ...   \n",
       "2298  Kristopher       Lang   28      Boston-Cambridge-Newton, MA-NH MSA   \n",
       "2299      Eliseo     Carson   21                Colorado Springs, CO MSA   \n",
       "2300    Mckinley    Clayton   22          Denver-Aurora-Lakewood, CO MSA   \n",
       "2301     Dinorah    Simmons   30   Atlanta-Sandy Springs-Roswell, GA MSA   \n",
       "2302        Kirk      Velez   61  Louisville/Jefferson County, KY-IN MSA   \n",
       "\n",
       "       reg_date      plan churn_date  plan_name_id  total_cost  \n",
       "0    2018-12-24  ultimate 2019-01-01             1       70.00  \n",
       "1    2018-08-13      surf 2019-01-01             0       20.00  \n",
       "2    2018-08-13      surf 2019-01-01             0       20.00  \n",
       "3    2018-08-13      surf 2019-01-01             0       69.09  \n",
       "4    2018-08-13      surf 2019-01-01             0       48.00  \n",
       "...         ...       ...        ...           ...         ...  \n",
       "2298 2018-12-31      surf 2019-01-01             0       20.00  \n",
       "2299 2018-06-17      surf 2019-01-01             0       20.00  \n",
       "2300 2018-12-17      surf 2019-01-01             0       20.00  \n",
       "2301 2018-11-27  ultimate 2019-01-01             1       70.00  \n",
       "2302 2018-12-31      surf 2019-01-01             0       20.00  \n",
       "\n",
       "[2303 rows x 17 columns]"
      ]
     },
     "execution_count": 41,
     "metadata": {},
     "output_type": "execute_result"
    }
   ],
   "source": [
    "user_usege.reset_index()"
   ]
  },
  {
   "cell_type": "markdown",
   "id": "ebe9778a",
   "metadata": {},
   "source": [
    "####  3. Analyzing the data"
   ]
  },
  {
   "cell_type": "markdown",
   "id": "911e2f52",
   "metadata": {},
   "source": [
    "#### \"Ultimate\" Plan:"
   ]
  },
  {
   "cell_type": "code",
   "execution_count": 42,
   "id": "5edb9f19",
   "metadata": {},
   "outputs": [],
   "source": [
    "ultimate_users = user_usege.query('plan == \"ultimate\"')"
   ]
  },
  {
   "cell_type": "markdown",
   "id": "120db6bb",
   "metadata": {},
   "source": [
    "Minutes:"
   ]
  },
  {
   "cell_type": "code",
   "execution_count": 43,
   "id": "a0ad7856",
   "metadata": {
    "scrolled": false
   },
   "outputs": [
    {
     "data": {
      "text/plain": [
       "<function matplotlib.pyplot.show(close=None, block=None)>"
      ]
     },
     "execution_count": 43,
     "metadata": {},
     "output_type": "execute_result"
    },
    {
     "data": {
      "image/png": "[encoded data removed]",
      "text/plain": [
       "<Figure size 432x288 with 1 Axes>"
      ]
     },
     "metadata": {
      "needs_background": "light"
     },
     "output_type": "display_data"
    }
   ],
   "source": [
    "ultimate_minutes_mean = ultimate_users['duration'].mean()\n",
    "ultimate_minutes_median = ultimate_users['duration'].median()\n",
    "ultimate_minutes_varience = np.var(ultimate_users['duration'])\n",
    "ultimate_minutes_st_deviation = np.sqrt(ultimate_minutes_varience)\n",
    "ultimate_users.hist('duration', density= True)\n",
    "plt.xlabel('duration')\n",
    "plt.ylabel('Dencity / Frequency')\n",
    "plt.show           "
   ]
  },
  {
   "cell_type": "markdown",
   "id": "f025862b",
   "metadata": {},
   "source": [
    "<div class=\"alert alert-block alert-info\">\n",
    "<b>Student answer.</b> <a class=\"tocSkip\"></a>\n",
    "\n",
    "***I dont relly now what to write down here...Can you give me an example?***\n",
    "</div>"
   ]
  },
  {
   "cell_type": "code",
   "execution_count": 44,
   "id": "a061364a",
   "metadata": {
    "scrolled": true
   },
   "outputs": [
    {
     "data": {
      "text/plain": [
       "<AxesSubplot:xlabel='duration'>"
      ]
     },
     "execution_count": 44,
     "metadata": {},
     "output_type": "execute_result"
    },
    {
     "data": {
      "image/png": "[encoded data removed]",
      "text/plain": [
       "<Figure size 432x288 with 1 Axes>"
      ]
     },
     "metadata": {
      "needs_background": "light"
     },
     "output_type": "display_data"
    }
   ],
   "source": [
    "sns.boxplot(x = 'duration',data = ultimate_users, showfliers = False )"
   ]
  },
  {
   "cell_type": "markdown",
   "id": "cd047a16",
   "metadata": {},
   "source": [
    "### Range of standart deviationg:    (μ−3σ,μ+3σ)"
   ]
  },
  {
   "cell_type": "code",
   "execution_count": 45,
   "id": "6c8dbb6d",
   "metadata": {
    "scrolled": true
   },
   "outputs": [
    {
     "name": "stdout",
     "output_type": "stream",
     "text": [
      "Ultimate minutes mean:  428.0718232044199\n",
      "Ultimate minutes median:  421.5\n",
      "Ultimate minutes varience:  58463.01694087476\n",
      "Ultimate minutes deviation:  241.79126729655636\n",
      "Almost all values (99.7%) can be found within the range:  -297.30197868524914 1153.4456250940889\n"
     ]
    }
   ],
   "source": [
    "print('Ultimate minutes mean: ',ultimate_minutes_mean)\n",
    "print('Ultimate minutes median: ',ultimate_minutes_median)\n",
    "print('Ultimate minutes varience: ',ultimate_minutes_varience)\n",
    "print('Ultimate minutes deviation: ',ultimate_minutes_st_deviation)\n",
    "print('Almost all values (99.7%) can be found within the range: '\n",
    "      ,ultimate_minutes_mean - 3* ultimate_minutes_st_deviation ,ultimate_minutes_mean + 3* ultimate_minutes_st_deviation )"
   ]
  },
  {
   "cell_type": "markdown",
   "id": "75108579",
   "metadata": {},
   "source": [
    "Messeges:\n",
    "    "
   ]
  },
  {
   "cell_type": "code",
   "execution_count": 46,
   "id": "5abc9d9a",
   "metadata": {
    "scrolled": true
   },
   "outputs": [
    {
     "data": {
      "text/plain": [
       "<function matplotlib.pyplot.show(close=None, block=None)>"
      ]
     },
     "execution_count": 46,
     "metadata": {},
     "output_type": "execute_result"
    },
    {
     "data": {
      "image/png": "[encoded data removed]",
      "text/plain": [
       "<Figure size 432x288 with 1 Axes>"
      ]
     },
     "metadata": {
      "needs_background": "light"
     },
     "output_type": "display_data"
    }
   ],
   "source": [
    "ultimate_messeges_mean = ultimate_users['messegess'].mean()\n",
    "ultimate_messeges_median = ultimate_users['messegess'].median()\n",
    "ultimate_messeges_varience = np.var(ultimate_users['messegess'])\n",
    "ultimate_messeges_st_deviation = np.sqrt(ultimate_messeges_varience)\n",
    "ultimate_users.hist('messegess', density= True)\n",
    "plt.xlabel('duration')\n",
    "plt.ylabel('Dencity / Frequency')\n",
    "plt.show           "
   ]
  },
  {
   "cell_type": "code",
   "execution_count": 47,
   "id": "49c3c3bb",
   "metadata": {},
   "outputs": [
    {
     "data": {
      "text/plain": [
       "<AxesSubplot:xlabel='messegess'>"
      ]
     },
     "execution_count": 47,
     "metadata": {},
     "output_type": "execute_result"
    },
    {
     "data": {
      "image/png": "[encoded data removed]",
      "text/plain": [
       "<Figure size 432x288 with 1 Axes>"
      ]
     },
     "metadata": {
      "needs_background": "light"
     },
     "output_type": "display_data"
    }
   ],
   "source": [
    "sns.boxplot(x = 'messegess',data = ultimate_users, showfliers = False )"
   ]
  },
  {
   "cell_type": "code",
   "execution_count": 48,
   "id": "f3b96adb",
   "metadata": {},
   "outputs": [
    {
     "name": "stdout",
     "output_type": "stream",
     "text": [
      "Ultimate messeges mean:  37.3439226519337\n",
      "Ultimate messeges median:  30.0\n",
      "Ultimate  messeges varience:  1208.1565790879347\n",
      "Ultimate  messeges standart deviation:  34.75854684948631\n",
      "Almost all values (99.7%) can be found within the range:  -66.93171789652521 141.61956320039263\n"
     ]
    }
   ],
   "source": [
    "print('Ultimate messeges mean: ',ultimate_messeges_mean)\n",
    "print('Ultimate messeges median: ',ultimate_messeges_median)\n",
    "print('Ultimate  messeges varience: ',ultimate_messeges_varience)\n",
    "print('Ultimate  messeges standart deviation: ',ultimate_messeges_st_deviation)\n",
    "print('Almost all values (99.7%) can be found within the range: '\n",
    "      ,ultimate_messeges_mean - 3* ultimate_messeges_st_deviation ,ultimate_messeges_mean + 3* ultimate_messeges_st_deviation )"
   ]
  },
  {
   "cell_type": "markdown",
   "id": "3221a99f",
   "metadata": {},
   "source": [
    "Voolumes of data:"
   ]
  },
  {
   "cell_type": "code",
   "execution_count": 49,
   "id": "21137a26",
   "metadata": {},
   "outputs": [
    {
     "data": {
      "text/plain": [
       "<function matplotlib.pyplot.show(close=None, block=None)>"
      ]
     },
     "execution_count": 49,
     "metadata": {},
     "output_type": "execute_result"
    },
    {
     "data": {
      "image/png": "[encoded data removed]",
      "text/plain": [
       "<Figure size 432x288 with 1 Axes>"
      ]
     },
     "metadata": {
      "needs_background": "light"
     },
     "output_type": "display_data"
    }
   ],
   "source": [
    "ultimate_surf_mean = ultimate_users['gb_used'].mean()\n",
    "ultimate_surf_median = ultimate_users['gb_used'].median()\n",
    "ultimate_surf_varience = np.var(ultimate_users['gb_used'])\n",
    "ultimate_surf_st_deviation = np.sqrt(ultimate_messeges_varience)\n",
    "ultimate_users.hist('gb_used', density= True)\n",
    "plt.xlabel('gb_used')\n",
    "plt.ylabel('Dencity / Frequency')\n",
    "plt.show           "
   ]
  },
  {
   "cell_type": "code",
   "execution_count": 50,
   "id": "9525dc89",
   "metadata": {
    "scrolled": true
   },
   "outputs": [
    {
     "name": "stdout",
     "output_type": "stream",
     "text": [
      "Ultimate surf mean:  17.21132596685083\n",
      "Ultimate surf median:  17.0\n",
      "Ultimate  surf varience:  60.06998221971227\n",
      "Ultimate  surf standart deviation:  34.75854684948631\n",
      "Almost all values (99.7%) can be found within the range:  -87.0643145816081 121.48696651530975\n"
     ]
    }
   ],
   "source": [
    "print('Ultimate surf mean: ',ultimate_surf_mean)\n",
    "print('Ultimate surf median: ',ultimate_surf_median)\n",
    "print('Ultimate  surf varience: ',ultimate_surf_varience)\n",
    "print('Ultimate  surf standart deviation: ',ultimate_surf_st_deviation)\n",
    "print('Almost all values (99.7%) can be found within the range: '\n",
    "      ,ultimate_surf_mean - 3* ultimate_surf_st_deviation ,ultimate_surf_mean + 3* ultimate_surf_st_deviation)"
   ]
  },
  {
   "cell_type": "code",
   "execution_count": 51,
   "id": "46409f28",
   "metadata": {},
   "outputs": [
    {
     "data": {
      "text/plain": [
       "<AxesSubplot:xlabel='gb_used'>"
      ]
     },
     "execution_count": 51,
     "metadata": {},
     "output_type": "execute_result"
    },
    {
     "data": {
      "image/png": "[encoded data removed]",
      "text/plain": [
       "<Figure size 432x288 with 1 Axes>"
      ]
     },
     "metadata": {
      "needs_background": "light"
     },
     "output_type": "display_data"
    }
   ],
   "source": [
    "sns.boxplot(x = 'gb_used',data = ultimate_users, showfliers = False )"
   ]
  },
  {
   "cell_type": "markdown",
   "id": "8f7a0203",
   "metadata": {},
   "source": [
    "#### \"Surf\" Plan:"
   ]
  },
  {
   "cell_type": "markdown",
   "id": "2ac2f615",
   "metadata": {},
   "source": [
    "Minutes:"
   ]
  },
  {
   "cell_type": "code",
   "execution_count": 52,
   "id": "52b0e1ef",
   "metadata": {},
   "outputs": [
    {
     "data": {
      "text/html": [
       "<div>\n",
       "<style scoped>\n",
       "    .dataframe tbody tr th:only-of-type {\n",
       "        vertical-align: middle;\n",
       "    }\n",
       "\n",
       "    .dataframe tbody tr th {\n",
       "        vertical-align: top;\n",
       "    }\n",
       "\n",
       "    .dataframe thead th {\n",
       "        text-align: right;\n",
       "    }\n",
       "</style>\n",
       "<table border=\"1\" class=\"dataframe\">\n",
       "  <thead>\n",
       "    <tr style=\"text-align: right;\">\n",
       "      <th></th>\n",
       "      <th>user_id</th>\n",
       "      <th>month</th>\n",
       "      <th>duration</th>\n",
       "      <th>id</th>\n",
       "      <th>messegess</th>\n",
       "      <th>mb_used</th>\n",
       "      <th>gb_used</th>\n",
       "      <th>first_name</th>\n",
       "      <th>last_name</th>\n",
       "      <th>age</th>\n",
       "      <th>city</th>\n",
       "      <th>reg_date</th>\n",
       "      <th>plan</th>\n",
       "      <th>churn_date</th>\n",
       "      <th>plan_name_id</th>\n",
       "      <th>total_cost</th>\n",
       "    </tr>\n",
       "  </thead>\n",
       "  <tbody>\n",
       "    <tr>\n",
       "      <th>1</th>\n",
       "      <td>1001</td>\n",
       "      <td>8.0</td>\n",
       "      <td>182.0</td>\n",
       "      <td>30.0</td>\n",
       "      <td>30.0</td>\n",
       "      <td>6919.15</td>\n",
       "      <td>7.0</td>\n",
       "      <td>Mickey</td>\n",
       "      <td>Wilkerson</td>\n",
       "      <td>28</td>\n",
       "      <td>Seattle-Tacoma-Bellevue, WA MSA</td>\n",
       "      <td>2018-08-13</td>\n",
       "      <td>surf</td>\n",
       "      <td>2019-01-01</td>\n",
       "      <td>0</td>\n",
       "      <td>20.00</td>\n",
       "    </tr>\n",
       "    <tr>\n",
       "      <th>2</th>\n",
       "      <td>1001</td>\n",
       "      <td>9.0</td>\n",
       "      <td>315.0</td>\n",
       "      <td>44.0</td>\n",
       "      <td>44.0</td>\n",
       "      <td>13314.82</td>\n",
       "      <td>14.0</td>\n",
       "      <td>Mickey</td>\n",
       "      <td>Wilkerson</td>\n",
       "      <td>28</td>\n",
       "      <td>Seattle-Tacoma-Bellevue, WA MSA</td>\n",
       "      <td>2018-08-13</td>\n",
       "      <td>surf</td>\n",
       "      <td>2019-01-01</td>\n",
       "      <td>0</td>\n",
       "      <td>20.00</td>\n",
       "    </tr>\n",
       "    <tr>\n",
       "      <th>3</th>\n",
       "      <td>1001</td>\n",
       "      <td>10.0</td>\n",
       "      <td>393.0</td>\n",
       "      <td>53.0</td>\n",
       "      <td>53.0</td>\n",
       "      <td>22330.49</td>\n",
       "      <td>22.0</td>\n",
       "      <td>Mickey</td>\n",
       "      <td>Wilkerson</td>\n",
       "      <td>28</td>\n",
       "      <td>Seattle-Tacoma-Bellevue, WA MSA</td>\n",
       "      <td>2018-08-13</td>\n",
       "      <td>surf</td>\n",
       "      <td>2019-01-01</td>\n",
       "      <td>0</td>\n",
       "      <td>69.09</td>\n",
       "    </tr>\n",
       "  </tbody>\n",
       "</table>\n",
       "</div>"
      ],
      "text/plain": [
       "   user_id  month  duration    id  messegess   mb_used  gb_used first_name  \\\n",
       "1     1001    8.0     182.0  30.0       30.0   6919.15      7.0     Mickey   \n",
       "2     1001    9.0     315.0  44.0       44.0  13314.82     14.0     Mickey   \n",
       "3     1001   10.0     393.0  53.0       53.0  22330.49     22.0     Mickey   \n",
       "\n",
       "   last_name  age                             city   reg_date  plan  \\\n",
       "1  Wilkerson   28  Seattle-Tacoma-Bellevue, WA MSA 2018-08-13  surf   \n",
       "2  Wilkerson   28  Seattle-Tacoma-Bellevue, WA MSA 2018-08-13  surf   \n",
       "3  Wilkerson   28  Seattle-Tacoma-Bellevue, WA MSA 2018-08-13  surf   \n",
       "\n",
       "  churn_date  plan_name_id  total_cost  \n",
       "1 2019-01-01             0       20.00  \n",
       "2 2019-01-01             0       20.00  \n",
       "3 2019-01-01             0       69.09  "
      ]
     },
     "execution_count": 52,
     "metadata": {},
     "output_type": "execute_result"
    }
   ],
   "source": [
    "surf_users = user_usege.query('plan == \"surf\"')\n",
    "surf_users.head(3)"
   ]
  },
  {
   "cell_type": "code",
   "execution_count": 53,
   "id": "01f0a2eb",
   "metadata": {},
   "outputs": [
    {
     "data": {
      "text/plain": [
       "<function matplotlib.pyplot.show(close=None, block=None)>"
      ]
     },
     "execution_count": 53,
     "metadata": {},
     "output_type": "execute_result"
    },
    {
     "data": {
      "image/png": "[encoded data removed]",
      "text/plain": [
       "<Figure size 432x288 with 1 Axes>"
      ]
     },
     "metadata": {
      "needs_background": "light"
     },
     "output_type": "display_data"
    }
   ],
   "source": [
    "surf_minutes_mean = surf_users['duration'].mean()\n",
    "surf_minutes_median = surf_users['duration'].median()\n",
    "surf_minutes_varience = np.var(surf_users['duration'])\n",
    "surf_minutes_st_deviation = np.sqrt(surf_minutes_varience)\n",
    "surf_users.hist('duration', density= True)\n",
    "plt.xlabel('duration')\n",
    "plt.ylabel('Dencity / Frequency')\n",
    "plt.show           "
   ]
  },
  {
   "cell_type": "code",
   "execution_count": 54,
   "id": "01074641",
   "metadata": {},
   "outputs": [
    {
     "name": "stdout",
     "output_type": "stream",
     "text": [
      "Surf minutes mean:  427.12032932235593\n",
      "Surf minutes median:  424.0\n",
      "Surf minutes varience:  55420.45670514796\n",
      "Surf minutes standart deviation:  235.41549801393273\n",
      "Almost all values (99.7%) can be found within the range:  -279.1261647194423 1133.3668233641542\n"
     ]
    }
   ],
   "source": [
    "print('Surf minutes mean: ',surf_minutes_mean)\n",
    "print('Surf minutes median: ',surf_minutes_median)\n",
    "print('Surf minutes varience: ',surf_minutes_varience)\n",
    "print('Surf minutes standart deviation: ',surf_minutes_st_deviation)\n",
    "print('Almost all values (99.7%) can be found within the range: '\n",
    "      ,surf_minutes_mean - 3* surf_minutes_st_deviation ,surf_minutes_mean + 3* surf_minutes_st_deviation )"
   ]
  },
  {
   "cell_type": "code",
   "execution_count": 55,
   "id": "1ca538db",
   "metadata": {},
   "outputs": [
    {
     "data": {
      "text/plain": [
       "<AxesSubplot:xlabel='duration'>"
      ]
     },
     "execution_count": 55,
     "metadata": {},
     "output_type": "execute_result"
    },
    {
     "data": {
      "image/png": "[encoded data removed]",
      "text/plain": [
       "<Figure size 432x288 with 1 Axes>"
      ]
     },
     "metadata": {
      "needs_background": "light"
     },
     "output_type": "display_data"
    }
   ],
   "source": [
    "sns.boxplot(x = 'duration',data = surf_users, showfliers = False )"
   ]
  },
  {
   "cell_type": "markdown",
   "id": "5072f597",
   "metadata": {},
   "source": [
    "Messeges:"
   ]
  },
  {
   "cell_type": "code",
   "execution_count": 56,
   "id": "a2287d67",
   "metadata": {},
   "outputs": [
    {
     "data": {
      "text/plain": [
       "<function matplotlib.pyplot.show(close=None, block=None)>"
      ]
     },
     "execution_count": 56,
     "metadata": {},
     "output_type": "execute_result"
    },
    {
     "data": {
      "image/png": "[encoded data removed]",
      "text/plain": [
       "<Figure size 432x288 with 1 Axes>"
      ]
     },
     "metadata": {
      "needs_background": "light"
     },
     "output_type": "display_data"
    }
   ],
   "source": [
    "surf_messeges_mean = surf_users['messegess'].mean()\n",
    "surf_messeges_median = surf_users['messegess'].median()\n",
    "surf_messeges_varience = np.var(surf_users['messegess'])\n",
    "surf_messeges_st_deviation = np.sqrt(surf_messeges_varience)\n",
    "surf_users.hist('messegess', density= True)\n",
    "plt.xlabel('messegess')\n",
    "plt.ylabel('Dencity / Frequency')\n",
    "plt.show           "
   ]
  },
  {
   "cell_type": "code",
   "execution_count": 57,
   "id": "7321f390",
   "metadata": {},
   "outputs": [
    {
     "name": "stdout",
     "output_type": "stream",
     "text": [
      "Surf messeges mean:  31.041165294490185\n",
      "Surf messeges median:  24.0\n",
      "Surf messeges varience:  1125.4048918656451\n",
      "Surf messeges standart deviation:  33.54705489108761\n",
      "Almost all values (99.7%) can be found within the range:  -69.59999937877265 131.68232996775302\n"
     ]
    }
   ],
   "source": [
    "print('Surf messeges mean: ',surf_messeges_mean)\n",
    "print('Surf messeges median: ',surf_messeges_median)\n",
    "print('Surf messeges varience: ',surf_messeges_varience)\n",
    "print('Surf messeges standart deviation: ',surf_messeges_st_deviation)\n",
    "print('Almost all values (99.7%) can be found within the range: '\n",
    "      ,surf_messeges_mean - 3* surf_messeges_st_deviation ,surf_messeges_mean + 3* surf_messeges_st_deviation )"
   ]
  },
  {
   "cell_type": "code",
   "execution_count": 58,
   "id": "3f526b33",
   "metadata": {},
   "outputs": [
    {
     "data": {
      "text/plain": [
       "<AxesSubplot:xlabel='messegess'>"
      ]
     },
     "execution_count": 58,
     "metadata": {},
     "output_type": "execute_result"
    },
    {
     "data": {
      "image/png": "[encoded data removed]",
      "text/plain": [
       "<Figure size 432x288 with 1 Axes>"
      ]
     },
     "metadata": {
      "needs_background": "light"
     },
     "output_type": "display_data"
    }
   ],
   "source": [
    "sns.boxplot(x = 'messegess',data = surf_users, showfliers = False )"
   ]
  },
  {
   "cell_type": "markdown",
   "id": "6990b530",
   "metadata": {},
   "source": [
    "Voolumes of data:"
   ]
  },
  {
   "cell_type": "code",
   "execution_count": 59,
   "id": "3e79e134",
   "metadata": {},
   "outputs": [
    {
     "data": {
      "text/plain": [
       "<function matplotlib.pyplot.show(close=None, block=None)>"
      ]
     },
     "execution_count": 59,
     "metadata": {},
     "output_type": "execute_result"
    },
    {
     "data": {
      "image/png": "[encoded data removed]",
      "text/plain": [
       "<Figure size 432x288 with 1 Axes>"
      ]
     },
     "metadata": {
      "needs_background": "light"
     },
     "output_type": "display_data"
    }
   ],
   "source": [
    "surf_surf_mean = surf_users['gb_used'].mean()\n",
    "surf_surf_median = surf_users['gb_used'].median()\n",
    "surf_surf_varience = np.var(surf_users['gb_used'])\n",
    "surf_surf_st_deviation = np.sqrt(surf_surf_varience)\n",
    "surf_users.hist('gb_used', density= True)\n",
    "plt.xlabel('gb_used')\n",
    "plt.ylabel('Dencity / Frequency')\n",
    "plt.show           "
   ]
  },
  {
   "cell_type": "code",
   "execution_count": 60,
   "id": "c0fad534",
   "metadata": {},
   "outputs": [
    {
     "data": {
      "text/plain": [
       "<AxesSubplot:xlabel='gb_used'>"
      ]
     },
     "execution_count": 60,
     "metadata": {},
     "output_type": "execute_result"
    },
    {
     "data": {
      "image/png": "[encoded data removed]",
      "text/plain": [
       "<Figure size 432x288 with 1 Axes>"
      ]
     },
     "metadata": {
      "needs_background": "light"
     },
     "output_type": "display_data"
    }
   ],
   "source": [
    "sns.boxplot(x = 'gb_used',data = surf_users, showfliers = False )"
   ]
  },
  {
   "cell_type": "code",
   "execution_count": 61,
   "id": "0cfbe0f8",
   "metadata": {
    "scrolled": true
   },
   "outputs": [
    {
     "name": "stdout",
     "output_type": "stream",
     "text": [
      "Surf surf mean:  16.60734642178594\n",
      "Surf surf median:  17.0\n",
      "Surf surf varience:  62.36260594142332\n",
      "Surf surf standart deviation:  7.896999806345655\n",
      "Almost all values (99.7%) can be found within the range:  -7.083652997251026 40.298345840822904\n"
     ]
    }
   ],
   "source": [
    "print('Surf surf mean: ',surf_surf_mean)\n",
    "print('Surf surf median: ',surf_surf_median)\n",
    "print('Surf surf varience: ',surf_surf_varience)\n",
    "print('Surf surf standart deviation: ',surf_surf_st_deviation)\n",
    "print('Almost all values (99.7%) can be found within the range: '\n",
    "      ,surf_surf_mean - 3* surf_surf_st_deviation ,surf_surf_mean + 3* surf_surf_st_deviation )"
   ]
  },
  {
   "cell_type": "markdown",
   "id": "13f09975",
   "metadata": {},
   "source": [
    "### We can cee that in both our plans \"Gb usage\" affects ours plans most, than after that \"Calls Duration\" and the last \"Messegess\" - have minor effect."
   ]
  },
  {
   "cell_type": "markdown",
   "id": "917273ea",
   "metadata": {},
   "source": [
    "### Comparing of two plans:"
   ]
  },
  {
   "cell_type": "code",
   "execution_count": 62,
   "id": "ee02ca06",
   "metadata": {
    "scrolled": false
   },
   "outputs": [
    {
     "data": {
      "text/plain": [
       "<matplotlib.legend.Legend at 0x1313db39610>"
      ]
     },
     "execution_count": 62,
     "metadata": {},
     "output_type": "execute_result"
    },
    {
     "data": {
      "image/png": "[encoded data removed]",
      "text/plain": [
       "<Figure size 432x288 with 1 Axes>"
      ]
     },
     "metadata": {
      "needs_background": "light"
     },
     "output_type": "display_data"
    }
   ],
   "source": [
    "surf_users['gb_used'].plot(kind = 'hist')\n",
    "ultimate_users['gb_used'].plot(kind = 'hist')\n",
    "plt.title('Ult Surf Gb Compare')\n",
    "plt.xlabel('gb_used')\n",
    "plt.ylabel('Dencity / Frequency')\n",
    "plt.legend(['surf_users','ultimate_users'])"
   ]
  },
  {
   "cell_type": "code",
   "execution_count": 63,
   "id": "7029a5e1",
   "metadata": {},
   "outputs": [
    {
     "data": {
      "text/plain": [
       "<matplotlib.legend.Legend at 0x1313dab6190>"
      ]
     },
     "execution_count": 63,
     "metadata": {},
     "output_type": "execute_result"
    },
    {
     "data": {
      "image/png": "[encoded data removed]",
      "text/plain": [
       "<Figure size 432x288 with 1 Axes>"
      ]
     },
     "metadata": {
      "needs_background": "light"
     },
     "output_type": "display_data"
    }
   ],
   "source": [
    "surf_users['messegess'].plot(kind = 'hist')\n",
    "ultimate_users['messegess'].plot(kind = 'hist')\n",
    "plt.title('Ult Surf Masseges Compare')\n",
    "plt.xlabel('messegess')\n",
    "plt.ylabel('Dencity / Frequency')\n",
    "plt.legend(['surf_users','ultimate_users'])"
   ]
  },
  {
   "cell_type": "code",
   "execution_count": 64,
   "id": "6db4ff1b",
   "metadata": {},
   "outputs": [
    {
     "data": {
      "text/plain": [
       "<matplotlib.legend.Legend at 0x1313dac4ca0>"
      ]
     },
     "execution_count": 64,
     "metadata": {},
     "output_type": "execute_result"
    },
    {
     "data": {
      "image/png": "[encoded data removed]",
      "text/plain": [
       "<Figure size 432x288 with 1 Axes>"
      ]
     },
     "metadata": {
      "needs_background": "light"
     },
     "output_type": "display_data"
    }
   ],
   "source": [
    "surf_users['duration'].plot(kind = 'hist')\n",
    "ultimate_users['duration'].plot(kind = 'hist')\n",
    "plt.title('Ult Surf Duration Compare')\n",
    "plt.xlabel('durations')\n",
    "plt.ylabel('Dencity / Frequency')\n",
    "plt.legend(['surf_users','ultimate_users'])"
   ]
  },
  {
   "cell_type": "code",
   "execution_count": 65,
   "id": "1742c6c5",
   "metadata": {
    "scrolled": true
   },
   "outputs": [
    {
     "data": {
      "text/plain": [
       "Text(0, 0.5, 'Total Cost')"
      ]
     },
     "execution_count": 65,
     "metadata": {},
     "output_type": "execute_result"
    },
    {
     "data": {
      "image/png": "[encoded data removed]",
      "text/plain": [
       "<Figure size 432x288 with 1 Axes>"
      ]
     },
     "metadata": {
      "needs_background": "light"
     },
     "output_type": "display_data"
    }
   ],
   "source": [
    "user_usages_compare=user_usege.groupby(['plan'])['total_cost'].agg('mean').reset_index()\n",
    "plt.figure()\n",
    "sns.barplot(x=\"plan\", y=\"total_cost\", data=user_usages_compare)\n",
    "plt.xlabel('Plan Name')\n",
    "plt.ylabel('Total Cost')"
   ]
  },
  {
   "cell_type": "markdown",
   "id": "2d288dfa",
   "metadata": {},
   "source": [
    "#### From our analysation we can cee that \"Ultimate\" plan shold be more profitable for Megaline than \"Surf\" plan"
   ]
  },
  {
   "cell_type": "markdown",
   "id": "cd04615a",
   "metadata": {},
   "source": [
    "#### 4. Testing the hypotheses H0 and H1"
   ]
  },
  {
   "cell_type": "markdown",
   "id": "2930a275",
   "metadata": {},
   "source": [
    "**Null hypothesis:**"
   ]
  },
  {
   "cell_type": "markdown",
   "id": "f182a29f",
   "metadata": {},
   "source": [
    "1.The average revenue from users of Ultimate and Surf calling plans are **equal**.\n",
    "<br>\n",
    "2.The average revenue from users in NY-NJ area is **equal** to the users from other regions.\n",
    "\n",
    "    "
   ]
  },
  {
   "cell_type": "markdown",
   "id": "e8fe4d6c",
   "metadata": {},
   "source": [
    "**Alternative hypothesis:**"
   ]
  },
  {
   "cell_type": "markdown",
   "id": "e953268b",
   "metadata": {},
   "source": [
    "1.The average revenue from users of Ultimate and Surf calling plans are **different**.\n",
    "<br>\n",
    "2.The average revenue from users in NY-NJ area is **different** from the users from other regions.\n",
    "\n",
    "    "
   ]
  },
  {
   "cell_type": "markdown",
   "id": "7f007051",
   "metadata": {},
   "source": [
    "#### Testing first hypothes:"
   ]
  },
  {
   "cell_type": "markdown",
   "id": "8930ec4d",
   "metadata": {},
   "source": [
    "****The average revenue from users of Ultimate and Surf calling plans are equal.****"
   ]
  },
  {
   "cell_type": "markdown",
   "id": "3a9e85fa",
   "metadata": {},
   "source": [
    "At firt we running **Levene test** to deside if our **equal_var** will be **True** ore **False**"
   ]
  },
  {
   "cell_type": "code",
   "execution_count": 66,
   "id": "accdb1c5",
   "metadata": {},
   "outputs": [
    {
     "data": {
      "text/plain": [
       "LeveneResult(statistic=8.873772024345191, pvalue=0.002923221260587695)"
      ]
     },
     "execution_count": 66,
     "metadata": {},
     "output_type": "execute_result"
    }
   ],
   "source": [
    "st.levene(surf_users['total_cost'],ultimate_users['total_cost'], center = 'mean' )"
   ]
  },
  {
   "cell_type": "markdown",
   "id": "c53c9cf6",
   "metadata": {},
   "source": [
    "**pvalue** is very small so **equal_var = False**"
   ]
  },
  {
   "cell_type": "code",
   "execution_count": 67,
   "id": "e7ab0fc6",
   "metadata": {},
   "outputs": [
    {
     "name": "stdout",
     "output_type": "stream",
     "text": [
      "p-value:  7.184633029177272e-154\n",
      "We reject the null hypothesis\n"
     ]
    }
   ],
   "source": [
    "alpha = 0.005\n",
    "results = st.ttest_ind(surf_users['total_cost'], ultimate_users['total_cost'], equal_var = False)\n",
    "\n",
    "print('p-value: ', results.pvalue)\n",
    "\n",
    "if results.pvalue < alpha:\n",
    "    print('We reject the null hypothesis')\n",
    "else:\n",
    "    print(\"We can't reject the null hypothesis\") "
   ]
  },
  {
   "cell_type": "markdown",
   "id": "b6141d57",
   "metadata": {},
   "source": [
    "As we cee the datasets are **not equal**"
   ]
  },
  {
   "cell_type": "markdown",
   "id": "ffb779cc",
   "metadata": {},
   "source": [
    "#### Testing second hypothes:"
   ]
  },
  {
   "cell_type": "markdown",
   "id": "35982904",
   "metadata": {},
   "source": [
    "****The average revenue from users of Ultimate and Surf calling plans are equal.****"
   ]
  },
  {
   "cell_type": "code",
   "execution_count": 68,
   "id": "aca49742",
   "metadata": {
    "scrolled": true
   },
   "outputs": [
    {
     "data": {
      "text/html": [
       "<div>\n",
       "<style scoped>\n",
       "    .dataframe tbody tr th:only-of-type {\n",
       "        vertical-align: middle;\n",
       "    }\n",
       "\n",
       "    .dataframe tbody tr th {\n",
       "        vertical-align: top;\n",
       "    }\n",
       "\n",
       "    .dataframe thead th {\n",
       "        text-align: right;\n",
       "    }\n",
       "</style>\n",
       "<table border=\"1\" class=\"dataframe\">\n",
       "  <thead>\n",
       "    <tr style=\"text-align: right;\">\n",
       "      <th></th>\n",
       "      <th>user_id</th>\n",
       "      <th>month</th>\n",
       "      <th>duration</th>\n",
       "      <th>id</th>\n",
       "      <th>messegess</th>\n",
       "      <th>mb_used</th>\n",
       "      <th>gb_used</th>\n",
       "      <th>first_name</th>\n",
       "      <th>last_name</th>\n",
       "      <th>age</th>\n",
       "      <th>city</th>\n",
       "      <th>reg_date</th>\n",
       "      <th>plan</th>\n",
       "      <th>churn_date</th>\n",
       "      <th>plan_name_id</th>\n",
       "      <th>total_cost</th>\n",
       "    </tr>\n",
       "  </thead>\n",
       "  <tbody>\n",
       "    <tr>\n",
       "      <th>56</th>\n",
       "      <td>1014</td>\n",
       "      <td>11.0</td>\n",
       "      <td>163.0</td>\n",
       "      <td>9.0</td>\n",
       "      <td>9.0</td>\n",
       "      <td>1175.59</td>\n",
       "      <td>2.0</td>\n",
       "      <td>Edmundo</td>\n",
       "      <td>Simon</td>\n",
       "      <td>61</td>\n",
       "      <td>New York-Newark-Jersey City, NY-NJ-PA MSA</td>\n",
       "      <td>2018-11-25</td>\n",
       "      <td>surf</td>\n",
       "      <td>2019-01-01</td>\n",
       "      <td>0</td>\n",
       "      <td>20.00</td>\n",
       "    </tr>\n",
       "    <tr>\n",
       "      <th>57</th>\n",
       "      <td>1014</td>\n",
       "      <td>12.0</td>\n",
       "      <td>1114.0</td>\n",
       "      <td>64.0</td>\n",
       "      <td>64.0</td>\n",
       "      <td>7792.41</td>\n",
       "      <td>8.0</td>\n",
       "      <td>Edmundo</td>\n",
       "      <td>Simon</td>\n",
       "      <td>61</td>\n",
       "      <td>New York-Newark-Jersey City, NY-NJ-PA MSA</td>\n",
       "      <td>2018-11-25</td>\n",
       "      <td>surf</td>\n",
       "      <td>2019-01-01</td>\n",
       "      <td>0</td>\n",
       "      <td>20.42</td>\n",
       "    </tr>\n",
       "    <tr>\n",
       "      <th>75</th>\n",
       "      <td>1022</td>\n",
       "      <td>5.0</td>\n",
       "      <td>302.0</td>\n",
       "      <td>0.0</td>\n",
       "      <td>0.0</td>\n",
       "      <td>4908.08</td>\n",
       "      <td>5.0</td>\n",
       "      <td>Bo</td>\n",
       "      <td>Snow</td>\n",
       "      <td>73</td>\n",
       "      <td>New York-Newark-Jersey City, NY-NJ-PA MSA</td>\n",
       "      <td>2018-04-20</td>\n",
       "      <td>surf</td>\n",
       "      <td>2018-09-07</td>\n",
       "      <td>0</td>\n",
       "      <td>20.00</td>\n",
       "    </tr>\n",
       "    <tr>\n",
       "      <th>76</th>\n",
       "      <td>1022</td>\n",
       "      <td>6.0</td>\n",
       "      <td>490.0</td>\n",
       "      <td>0.0</td>\n",
       "      <td>0.0</td>\n",
       "      <td>23436.48</td>\n",
       "      <td>23.0</td>\n",
       "      <td>Bo</td>\n",
       "      <td>Snow</td>\n",
       "      <td>73</td>\n",
       "      <td>New York-Newark-Jersey City, NY-NJ-PA MSA</td>\n",
       "      <td>2018-04-20</td>\n",
       "      <td>surf</td>\n",
       "      <td>2018-09-07</td>\n",
       "      <td>0</td>\n",
       "      <td>76.00</td>\n",
       "    </tr>\n",
       "    <tr>\n",
       "      <th>77</th>\n",
       "      <td>1022</td>\n",
       "      <td>7.0</td>\n",
       "      <td>475.0</td>\n",
       "      <td>0.0</td>\n",
       "      <td>0.0</td>\n",
       "      <td>9933.15</td>\n",
       "      <td>10.0</td>\n",
       "      <td>Bo</td>\n",
       "      <td>Snow</td>\n",
       "      <td>73</td>\n",
       "      <td>New York-Newark-Jersey City, NY-NJ-PA MSA</td>\n",
       "      <td>2018-04-20</td>\n",
       "      <td>surf</td>\n",
       "      <td>2018-09-07</td>\n",
       "      <td>0</td>\n",
       "      <td>20.00</td>\n",
       "    </tr>\n",
       "  </tbody>\n",
       "</table>\n",
       "</div>"
      ],
      "text/plain": [
       "    user_id  month  duration    id  messegess   mb_used  gb_used first_name  \\\n",
       "56     1014   11.0     163.0   9.0        9.0   1175.59      2.0    Edmundo   \n",
       "57     1014   12.0    1114.0  64.0       64.0   7792.41      8.0    Edmundo   \n",
       "75     1022    5.0     302.0   0.0        0.0   4908.08      5.0         Bo   \n",
       "76     1022    6.0     490.0   0.0        0.0  23436.48     23.0         Bo   \n",
       "77     1022    7.0     475.0   0.0        0.0   9933.15     10.0         Bo   \n",
       "\n",
       "   last_name  age                                       city   reg_date  plan  \\\n",
       "56     Simon   61  New York-Newark-Jersey City, NY-NJ-PA MSA 2018-11-25  surf   \n",
       "57     Simon   61  New York-Newark-Jersey City, NY-NJ-PA MSA 2018-11-25  surf   \n",
       "75      Snow   73  New York-Newark-Jersey City, NY-NJ-PA MSA 2018-04-20  surf   \n",
       "76      Snow   73  New York-Newark-Jersey City, NY-NJ-PA MSA 2018-04-20  surf   \n",
       "77      Snow   73  New York-Newark-Jersey City, NY-NJ-PA MSA 2018-04-20  surf   \n",
       "\n",
       "   churn_date  plan_name_id  total_cost  \n",
       "56 2019-01-01             0       20.00  \n",
       "57 2019-01-01             0       20.42  \n",
       "75 2018-09-07             0       20.00  \n",
       "76 2018-09-07             0       76.00  \n",
       "77 2018-09-07             0       20.00  "
      ]
     },
     "execution_count": 68,
     "metadata": {},
     "output_type": "execute_result"
    }
   ],
   "source": [
    "ny_nj_users = user_usege[user_usege['city'].str.contains(\"NY-NJ\")]\n",
    "ny_nj_users.head()\n"
   ]
  },
  {
   "cell_type": "code",
   "execution_count": 69,
   "id": "5e76a237",
   "metadata": {},
   "outputs": [
    {
     "data": {
      "text/html": [
       "<div>\n",
       "<style scoped>\n",
       "    .dataframe tbody tr th:only-of-type {\n",
       "        vertical-align: middle;\n",
       "    }\n",
       "\n",
       "    .dataframe tbody tr th {\n",
       "        vertical-align: top;\n",
       "    }\n",
       "\n",
       "    .dataframe thead th {\n",
       "        text-align: right;\n",
       "    }\n",
       "</style>\n",
       "<table border=\"1\" class=\"dataframe\">\n",
       "  <thead>\n",
       "    <tr style=\"text-align: right;\">\n",
       "      <th></th>\n",
       "      <th>user_id</th>\n",
       "      <th>month</th>\n",
       "      <th>duration</th>\n",
       "      <th>id</th>\n",
       "      <th>messegess</th>\n",
       "      <th>mb_used</th>\n",
       "      <th>gb_used</th>\n",
       "      <th>first_name</th>\n",
       "      <th>last_name</th>\n",
       "      <th>age</th>\n",
       "      <th>city</th>\n",
       "      <th>reg_date</th>\n",
       "      <th>plan</th>\n",
       "      <th>churn_date</th>\n",
       "      <th>plan_name_id</th>\n",
       "      <th>total_cost</th>\n",
       "    </tr>\n",
       "  </thead>\n",
       "  <tbody>\n",
       "    <tr>\n",
       "      <th>0</th>\n",
       "      <td>1000</td>\n",
       "      <td>12.0</td>\n",
       "      <td>124.0</td>\n",
       "      <td>11.0</td>\n",
       "      <td>11.0</td>\n",
       "      <td>1901.47</td>\n",
       "      <td>2.0</td>\n",
       "      <td>Anamaria</td>\n",
       "      <td>Bauer</td>\n",
       "      <td>45</td>\n",
       "      <td>Atlanta-Sandy Springs-Roswell, GA MSA</td>\n",
       "      <td>2018-12-24</td>\n",
       "      <td>ultimate</td>\n",
       "      <td>2019-01-01</td>\n",
       "      <td>1</td>\n",
       "      <td>70.00</td>\n",
       "    </tr>\n",
       "    <tr>\n",
       "      <th>1</th>\n",
       "      <td>1001</td>\n",
       "      <td>8.0</td>\n",
       "      <td>182.0</td>\n",
       "      <td>30.0</td>\n",
       "      <td>30.0</td>\n",
       "      <td>6919.15</td>\n",
       "      <td>7.0</td>\n",
       "      <td>Mickey</td>\n",
       "      <td>Wilkerson</td>\n",
       "      <td>28</td>\n",
       "      <td>Seattle-Tacoma-Bellevue, WA MSA</td>\n",
       "      <td>2018-08-13</td>\n",
       "      <td>surf</td>\n",
       "      <td>2019-01-01</td>\n",
       "      <td>0</td>\n",
       "      <td>20.00</td>\n",
       "    </tr>\n",
       "    <tr>\n",
       "      <th>2</th>\n",
       "      <td>1001</td>\n",
       "      <td>9.0</td>\n",
       "      <td>315.0</td>\n",
       "      <td>44.0</td>\n",
       "      <td>44.0</td>\n",
       "      <td>13314.82</td>\n",
       "      <td>14.0</td>\n",
       "      <td>Mickey</td>\n",
       "      <td>Wilkerson</td>\n",
       "      <td>28</td>\n",
       "      <td>Seattle-Tacoma-Bellevue, WA MSA</td>\n",
       "      <td>2018-08-13</td>\n",
       "      <td>surf</td>\n",
       "      <td>2019-01-01</td>\n",
       "      <td>0</td>\n",
       "      <td>20.00</td>\n",
       "    </tr>\n",
       "    <tr>\n",
       "      <th>3</th>\n",
       "      <td>1001</td>\n",
       "      <td>10.0</td>\n",
       "      <td>393.0</td>\n",
       "      <td>53.0</td>\n",
       "      <td>53.0</td>\n",
       "      <td>22330.49</td>\n",
       "      <td>22.0</td>\n",
       "      <td>Mickey</td>\n",
       "      <td>Wilkerson</td>\n",
       "      <td>28</td>\n",
       "      <td>Seattle-Tacoma-Bellevue, WA MSA</td>\n",
       "      <td>2018-08-13</td>\n",
       "      <td>surf</td>\n",
       "      <td>2019-01-01</td>\n",
       "      <td>0</td>\n",
       "      <td>69.09</td>\n",
       "    </tr>\n",
       "    <tr>\n",
       "      <th>4</th>\n",
       "      <td>1001</td>\n",
       "      <td>11.0</td>\n",
       "      <td>426.0</td>\n",
       "      <td>36.0</td>\n",
       "      <td>36.0</td>\n",
       "      <td>18504.30</td>\n",
       "      <td>19.0</td>\n",
       "      <td>Mickey</td>\n",
       "      <td>Wilkerson</td>\n",
       "      <td>28</td>\n",
       "      <td>Seattle-Tacoma-Bellevue, WA MSA</td>\n",
       "      <td>2018-08-13</td>\n",
       "      <td>surf</td>\n",
       "      <td>2019-01-01</td>\n",
       "      <td>0</td>\n",
       "      <td>48.00</td>\n",
       "    </tr>\n",
       "  </tbody>\n",
       "</table>\n",
       "</div>"
      ],
      "text/plain": [
       "   user_id  month  duration    id  messegess   mb_used  gb_used first_name  \\\n",
       "0     1000   12.0     124.0  11.0       11.0   1901.47      2.0   Anamaria   \n",
       "1     1001    8.0     182.0  30.0       30.0   6919.15      7.0     Mickey   \n",
       "2     1001    9.0     315.0  44.0       44.0  13314.82     14.0     Mickey   \n",
       "3     1001   10.0     393.0  53.0       53.0  22330.49     22.0     Mickey   \n",
       "4     1001   11.0     426.0  36.0       36.0  18504.30     19.0     Mickey   \n",
       "\n",
       "   last_name  age                                   city   reg_date      plan  \\\n",
       "0      Bauer   45  Atlanta-Sandy Springs-Roswell, GA MSA 2018-12-24  ultimate   \n",
       "1  Wilkerson   28        Seattle-Tacoma-Bellevue, WA MSA 2018-08-13      surf   \n",
       "2  Wilkerson   28        Seattle-Tacoma-Bellevue, WA MSA 2018-08-13      surf   \n",
       "3  Wilkerson   28        Seattle-Tacoma-Bellevue, WA MSA 2018-08-13      surf   \n",
       "4  Wilkerson   28        Seattle-Tacoma-Bellevue, WA MSA 2018-08-13      surf   \n",
       "\n",
       "  churn_date  plan_name_id  total_cost  \n",
       "0 2019-01-01             1       70.00  \n",
       "1 2019-01-01             0       20.00  \n",
       "2 2019-01-01             0       20.00  \n",
       "3 2019-01-01             0       69.09  \n",
       "4 2019-01-01             0       48.00  "
      ]
     },
     "execution_count": 69,
     "metadata": {},
     "output_type": "execute_result"
    }
   ],
   "source": [
    "other_regions = user_usege[-user_usege['city'].str.contains(\"NY-NJ\")]\n",
    "other_regions.head()\n"
   ]
  },
  {
   "cell_type": "code",
   "execution_count": 70,
   "id": "3f69c7ca",
   "metadata": {},
   "outputs": [
    {
     "data": {
      "text/plain": [
       "LeveneResult(statistic=1.5603030691068207, pvalue=0.21174790608959174)"
      ]
     },
     "execution_count": 70,
     "metadata": {},
     "output_type": "execute_result"
    }
   ],
   "source": [
    "st.levene(ny_nj_users['total_cost'],other_regions['total_cost'], center = 'mean' )"
   ]
  },
  {
   "cell_type": "markdown",
   "id": "034f8958",
   "metadata": {},
   "source": [
    "**pvalue** is relatively  big so **equal_var = True**"
   ]
  },
  {
   "cell_type": "code",
   "execution_count": 71,
   "id": "062b98c0",
   "metadata": {},
   "outputs": [
    {
     "name": "stdout",
     "output_type": "stream",
     "text": [
      "p-value:  0.00013122452625262358\n",
      "We reject the null hypothesis\n"
     ]
    }
   ],
   "source": [
    "alpha = 0.005\n",
    "\n",
    "results = st.ttest_ind(ny_nj_users['total_cost'], other_regions['total_cost'], equal_var = True)\n",
    "\n",
    "print('p-value: ', results.pvalue)\n",
    "\n",
    "if results.pvalue < alpha:\n",
    "    print('We reject the null hypothesis')\n",
    "else:\n",
    "    print(\"We can't reject the null hypothesis\") "
   ]
  },
  {
   "cell_type": "markdown",
   "id": "40f3ca7f",
   "metadata": {},
   "source": [
    "As we cee the NY_NJ and Other user are **not equal**"
   ]
  },
  {
   "cell_type": "markdown",
   "id": "dc6d9d03",
   "metadata": {},
   "source": [
    "### 5. Overall conclusion"
   ]
  },
  {
   "cell_type": "markdown",
   "id": "83d35381",
   "metadata": {},
   "source": [
    "#### Step 1. Opening the data file and studying the general informationH\n",
    "In the first step we opened our datasets and examinated them. We descovered that we should convert the dates in our datasets from **object** to **datetime** format. And also we have to convert **float** to **int** datatype in few datasets."
   ]
  },
  {
   "cell_type": "markdown",
   "id": "d8de2ae2",
   "metadata": {},
   "source": [
    "#### Step 2. Preparing the data"
   ]
  },
  {
   "cell_type": "markdown",
   "id": "678ed0f1",
   "metadata": {},
   "source": [
    "\n",
    "We converting **call_date** to **datetime** and **call_duration** from **float** to **int** data type\n",
    "<br>\n",
    "We converting **session_date** column to **datetime** and adding **month**, **year** columns to the **internet** dataset\n",
    "<br>    \n",
    "We shold check if we talking about one year period\n",
    "<br> \n",
    "We making new dataset named **how_gb_used**, converting **Mb to Gb** and **rounding** up the gigabytes\n",
    "<br> \n",
    "We converting **message_date** to **datetime** fotmat\n",
    "<br> \n",
    "We adding new column **plan_name_id** there we define **Surf plan = 0** and **Ultimate plan = 1**\n",
    "<br> \n",
    "We converting **reg_date** colump to **datetime** format, adding **plan_name_id** column to users dataset and filling missing values in the **churn_date column** with **01/01/2019**(users contract mast be longer, but for this project its ok to be this way), and also converting **churn_date** to **datetime**.\n",
    "<br>\n",
    "**We chaked few more fings but cant cee anyfing that needs to be fixed right now**"
   ]
  },
  {
   "cell_type": "markdown",
   "id": "31461974",
   "metadata": {},
   "source": [
    "#### For each user we finding:\n",
    "\n",
    "####     1. The number of calls made and minutes used per month\n",
    "\n",
    "####     2.  The number of text messages sent per month\n",
    "\n",
    "####     3. The volume of data per month\n",
    "\n",
    "We merged all datasets into one in case to calculate the monthly revenue from each user and as the resolt we have got the final dataset **user_usages_final**\n"
   ]
  },
  {
   "cell_type": "markdown",
   "id": "ee4946d1",
   "metadata": {},
   "source": [
    "To calculate the total monthly revenue from each user we desided to create function **'cost'**:\n",
    "####  We  applyed our 'cost' function to user_usages_final dataset and create new column 'total_cost':"
   ]
  },
  {
   "cell_type": "markdown",
   "id": "bb0d4e5e",
   "metadata": {},
   "source": [
    "#### Step 3. Analyzing the data\n",
    "We analysed our data and discovered that that **\"Ultimate\" plan shold be more profitable for Megaline than \"Surf\" plan**"
   ]
  },
  {
   "cell_type": "markdown",
   "id": "28207ff1",
   "metadata": {},
   "source": [
    "#### Step 4. Testing the hypotheses\n",
    "Null hypothesis:\n",
    "<b/>\n",
    "1.The average revenue from users of Ultimate and Surf calling plans are equal.\n",
    "2.The average revenue from users in NY-NJ area is equal to the users from other regions.\n",
    "\n",
    "**Testing first hypothes:\n",
    "The average revenue from users of Ultimate and Surf calling plans are equal.**\n",
    "\n",
    "At firt we running Levene test to deside if our equal_var will be True ore False\n",
    "**pvalue** is very small so equal_var = False\n",
    "\n",
    "\n",
    "As we cee the datasets are **not equal**\n",
    "\n",
    "**Testing second hypothes:\n",
    "The average revenue from users of Ultimate and Surf calling plans are equal.**\n",
    "\n",
    "**pvalue** is relatively big so equal_var = True\n",
    "\n",
    "As we cee the NY_NJ and Other user **are not equal**"
   ]
  }
 ],
 "metadata": {
  "ExecuteTimeLog": [
   {
    "duration": 1237,
    "start_time": "2022-02-12T13:20:40.659Z"
   },
   {
    "duration": 580,
    "start_time": "2022-02-12T13:20:41.898Z"
   },
   {
    "duration": 17,
    "start_time": "2022-02-12T13:20:42.481Z"
   },
   {
    "duration": 11,
    "start_time": "2022-02-12T13:20:42.501Z"
   },
   {
    "duration": 16,
    "start_time": "2022-02-12T13:20:42.514Z"
   },
   {
    "duration": 10,
    "start_time": "2022-02-12T13:20:42.532Z"
   },
   {
    "duration": 13,
    "start_time": "2022-02-12T13:20:42.544Z"
   },
   {
    "duration": 8,
    "start_time": "2022-02-12T13:20:42.561Z"
   },
   {
    "duration": 7,
    "start_time": "2022-02-12T13:20:42.607Z"
   },
   {
    "duration": 14,
    "start_time": "2022-02-12T13:20:42.616Z"
   },
   {
    "duration": 11,
    "start_time": "2022-02-12T13:20:42.632Z"
   },
   {
    "duration": 13,
    "start_time": "2022-02-12T13:20:42.645Z"
   },
   {
    "duration": 126,
    "start_time": "2022-02-12T13:20:42.660Z"
   },
   {
    "duration": 6,
    "start_time": "2022-02-12T13:20:42.788Z"
   },
   {
    "duration": 44,
    "start_time": "2022-02-12T13:20:42.808Z"
   },
   {
    "duration": 10,
    "start_time": "2022-02-12T13:20:42.854Z"
   },
   {
    "duration": 9,
    "start_time": "2022-02-12T13:20:42.866Z"
   },
   {
    "duration": 64,
    "start_time": "2022-02-12T13:20:42.877Z"
   },
   {
    "duration": 7,
    "start_time": "2022-02-12T13:20:42.943Z"
   },
   {
    "duration": 26,
    "start_time": "2022-02-12T13:20:42.952Z"
   },
   {
    "duration": 27,
    "start_time": "2022-02-12T13:20:42.981Z"
   },
   {
    "duration": 8,
    "start_time": "2022-02-12T13:20:43.011Z"
   },
   {
    "duration": 30,
    "start_time": "2022-02-12T13:20:43.023Z"
   },
   {
    "duration": 8,
    "start_time": "2022-02-12T13:20:43.055Z"
   },
   {
    "duration": 10,
    "start_time": "2022-02-12T13:20:43.064Z"
   },
   {
    "duration": 40,
    "start_time": "2022-02-12T13:20:43.076Z"
   },
   {
    "duration": 6,
    "start_time": "2022-02-12T13:20:43.118Z"
   },
   {
    "duration": 16,
    "start_time": "2022-02-12T13:20:43.126Z"
   },
   {
    "duration": 17,
    "start_time": "2022-02-12T13:20:43.144Z"
   },
   {
    "duration": 73,
    "start_time": "2022-02-12T13:20:43.163Z"
   },
   {
    "duration": 20,
    "start_time": "2022-02-12T13:20:43.239Z"
   },
   {
    "duration": 59,
    "start_time": "2022-02-12T13:20:43.261Z"
   },
   {
    "duration": 12,
    "start_time": "2022-02-12T13:20:43.322Z"
   },
   {
    "duration": 20,
    "start_time": "2022-02-12T13:20:43.336Z"
   },
   {
    "duration": 22,
    "start_time": "2022-02-12T13:20:43.357Z"
   },
   {
    "duration": 19,
    "start_time": "2022-02-12T13:20:43.407Z"
   },
   {
    "duration": 16,
    "start_time": "2022-02-12T13:20:43.428Z"
   },
   {
    "duration": 27,
    "start_time": "2022-02-12T13:20:43.446Z"
   },
   {
    "duration": 36,
    "start_time": "2022-02-12T13:20:43.476Z"
   },
   {
    "duration": 1083,
    "start_time": "2022-02-12T13:20:43.514Z"
   },
   {
    "duration": 36,
    "start_time": "2022-02-12T13:20:44.599Z"
   },
   {
    "duration": 8,
    "start_time": "2022-02-12T13:20:44.637Z"
   },
   {
    "duration": 243,
    "start_time": "2022-02-12T13:20:44.647Z"
   },
   {
    "duration": 5,
    "start_time": "2022-02-12T13:20:44.892Z"
   },
   {
    "duration": 308,
    "start_time": "2022-02-12T13:20:44.907Z"
   },
   {
    "duration": 6,
    "start_time": "2022-02-12T13:20:45.217Z"
   },
   {
    "duration": 225,
    "start_time": "2022-02-12T13:20:45.224Z"
   },
   {
    "duration": 5,
    "start_time": "2022-02-12T13:20:45.451Z"
   },
   {
    "duration": 32,
    "start_time": "2022-02-12T13:20:45.458Z"
   },
   {
    "duration": 248,
    "start_time": "2022-02-12T13:20:45.492Z"
   },
   {
    "duration": 5,
    "start_time": "2022-02-12T13:20:45.742Z"
   },
   {
    "duration": 238,
    "start_time": "2022-02-12T13:20:45.749Z"
   },
   {
    "duration": 5,
    "start_time": "2022-02-12T13:20:45.988Z"
   },
   {
    "duration": 277,
    "start_time": "2022-02-12T13:20:46.007Z"
   },
   {
    "duration": 5,
    "start_time": "2022-02-12T13:20:46.286Z"
   },
   {
    "duration": 256,
    "start_time": "2022-02-12T13:20:46.308Z"
   },
   {
    "duration": 275,
    "start_time": "2022-02-12T13:20:46.566Z"
   },
   {
    "duration": 281,
    "start_time": "2022-02-12T13:20:46.843Z"
   },
   {
    "duration": 161,
    "start_time": "2022-02-12T13:20:47.127Z"
   },
   {
    "duration": 7,
    "start_time": "2022-02-12T13:20:47.290Z"
   },
   {
    "duration": 12,
    "start_time": "2022-02-12T13:20:47.299Z"
   },
   {
    "duration": 23,
    "start_time": "2022-02-12T13:20:47.313Z"
   },
   {
    "duration": 21,
    "start_time": "2022-02-12T13:20:47.338Z"
   },
   {
    "duration": 13,
    "start_time": "2022-02-12T13:20:47.361Z"
   },
   {
    "duration": 35,
    "start_time": "2022-02-12T13:20:47.376Z"
   },
   {
    "duration": 84,
    "start_time": "2022-02-12T13:27:43.493Z"
   },
   {
    "duration": 81,
    "start_time": "2022-02-12T13:33:19.855Z"
   },
   {
    "duration": 83,
    "start_time": "2022-02-12T13:38:35.928Z"
   },
   {
    "duration": 7,
    "start_time": "2022-02-12T13:56:40.668Z"
   },
   {
    "duration": 82,
    "start_time": "2022-02-12T14:14:16.728Z"
   },
   {
    "duration": 6,
    "start_time": "2022-02-12T14:27:39.403Z"
   },
   {
    "duration": 79,
    "start_time": "2022-02-12T14:28:46.364Z"
   },
   {
    "duration": 83,
    "start_time": "2022-02-12T14:31:00.141Z"
   },
   {
    "duration": 87,
    "start_time": "2022-02-12T14:45:08.811Z"
   },
   {
    "duration": 1216,
    "start_time": "2022-02-12T14:49:28.764Z"
   },
   {
    "duration": 450,
    "start_time": "2022-02-12T14:49:29.983Z"
   },
   {
    "duration": 19,
    "start_time": "2022-02-12T14:49:30.436Z"
   },
   {
    "duration": 22,
    "start_time": "2022-02-12T14:49:30.456Z"
   },
   {
    "duration": 24,
    "start_time": "2022-02-12T14:49:30.479Z"
   },
   {
    "duration": 15,
    "start_time": "2022-02-12T14:49:30.506Z"
   },
   {
    "duration": 26,
    "start_time": "2022-02-12T14:49:30.523Z"
   },
   {
    "duration": 21,
    "start_time": "2022-02-12T14:49:30.553Z"
   },
   {
    "duration": 11,
    "start_time": "2022-02-12T14:49:30.577Z"
   },
   {
    "duration": 16,
    "start_time": "2022-02-12T14:49:30.590Z"
   },
   {
    "duration": 23,
    "start_time": "2022-02-12T14:49:30.609Z"
   },
   {
    "duration": 21,
    "start_time": "2022-02-12T14:49:30.634Z"
   },
   {
    "duration": 110,
    "start_time": "2022-02-12T14:49:30.657Z"
   },
   {
    "duration": 6,
    "start_time": "2022-02-12T14:49:30.769Z"
   },
   {
    "duration": 56,
    "start_time": "2022-02-12T14:49:30.776Z"
   },
   {
    "duration": 11,
    "start_time": "2022-02-12T14:49:30.834Z"
   },
   {
    "duration": 21,
    "start_time": "2022-02-12T14:49:30.847Z"
   },
   {
    "duration": 89,
    "start_time": "2022-02-12T14:49:30.870Z"
   },
   {
    "duration": 20,
    "start_time": "2022-02-12T14:49:30.961Z"
   },
   {
    "duration": 27,
    "start_time": "2022-02-12T14:49:30.983Z"
   },
   {
    "duration": 13,
    "start_time": "2022-02-12T14:49:31.012Z"
   },
   {
    "duration": 38,
    "start_time": "2022-02-12T14:49:31.029Z"
   },
   {
    "duration": 40,
    "start_time": "2022-02-12T14:49:31.073Z"
   },
   {
    "duration": 12,
    "start_time": "2022-02-12T14:49:31.117Z"
   },
   {
    "duration": 19,
    "start_time": "2022-02-12T14:49:31.131Z"
   },
   {
    "duration": 19,
    "start_time": "2022-02-12T14:49:31.152Z"
   },
   {
    "duration": 13,
    "start_time": "2022-02-12T14:49:31.173Z"
   },
   {
    "duration": 22,
    "start_time": "2022-02-12T14:49:31.188Z"
   },
   {
    "duration": 21,
    "start_time": "2022-02-12T14:49:31.212Z"
   },
   {
    "duration": 45,
    "start_time": "2022-02-12T14:49:31.235Z"
   },
   {
    "duration": 44,
    "start_time": "2022-02-12T14:49:31.282Z"
   },
   {
    "duration": 36,
    "start_time": "2022-02-12T14:49:31.328Z"
   },
   {
    "duration": 14,
    "start_time": "2022-02-12T14:49:31.366Z"
   },
   {
    "duration": 41,
    "start_time": "2022-02-12T14:49:31.382Z"
   },
   {
    "duration": 83,
    "start_time": "2022-02-12T14:49:31.425Z"
   },
   {
    "duration": 41,
    "start_time": "2022-02-12T14:49:31.511Z"
   },
   {
    "duration": 27,
    "start_time": "2022-02-12T14:49:31.554Z"
   },
   {
    "duration": 45,
    "start_time": "2022-02-12T14:49:31.582Z"
   },
   {
    "duration": 8,
    "start_time": "2022-02-12T14:49:31.629Z"
   },
   {
    "duration": 1251,
    "start_time": "2022-02-12T14:49:31.639Z"
   },
   {
    "duration": 45,
    "start_time": "2022-02-12T14:49:32.892Z"
   },
   {
    "duration": 7,
    "start_time": "2022-02-12T14:49:32.939Z"
   },
   {
    "duration": 250,
    "start_time": "2022-02-12T14:49:32.948Z"
   },
   {
    "duration": 6,
    "start_time": "2022-02-12T14:49:33.207Z"
   },
   {
    "duration": 221,
    "start_time": "2022-02-12T14:49:33.215Z"
   },
   {
    "duration": 5,
    "start_time": "2022-02-12T14:49:33.438Z"
   },
   {
    "duration": 242,
    "start_time": "2022-02-12T14:49:33.444Z"
   },
   {
    "duration": 4,
    "start_time": "2022-02-12T14:49:33.688Z"
   },
   {
    "duration": 36,
    "start_time": "2022-02-12T14:49:33.694Z"
   },
   {
    "duration": 245,
    "start_time": "2022-02-12T14:49:33.732Z"
   },
   {
    "duration": 4,
    "start_time": "2022-02-12T14:49:33.979Z"
   },
   {
    "duration": 254,
    "start_time": "2022-02-12T14:49:33.984Z"
   },
   {
    "duration": 5,
    "start_time": "2022-02-12T14:49:34.240Z"
   },
   {
    "duration": 282,
    "start_time": "2022-02-12T14:49:34.247Z"
   },
   {
    "duration": 5,
    "start_time": "2022-02-12T14:49:34.532Z"
   },
   {
    "duration": 296,
    "start_time": "2022-02-12T14:49:34.539Z"
   },
   {
    "duration": 289,
    "start_time": "2022-02-12T14:49:34.837Z"
   },
   {
    "duration": 286,
    "start_time": "2022-02-12T14:49:35.129Z"
   },
   {
    "duration": 157,
    "start_time": "2022-02-12T14:49:35.417Z"
   },
   {
    "duration": 6,
    "start_time": "2022-02-12T14:49:35.576Z"
   },
   {
    "duration": 41,
    "start_time": "2022-02-12T14:49:35.584Z"
   },
   {
    "duration": 30,
    "start_time": "2022-02-12T14:49:35.627Z"
   },
   {
    "duration": 25,
    "start_time": "2022-02-12T14:49:35.659Z"
   },
   {
    "duration": 6,
    "start_time": "2022-02-12T14:49:35.687Z"
   },
   {
    "duration": 15,
    "start_time": "2022-02-12T14:49:35.695Z"
   },
   {
    "duration": 1257,
    "start_time": "2022-02-12T14:51:13.922Z"
   },
   {
    "duration": 450,
    "start_time": "2022-02-12T14:51:15.182Z"
   },
   {
    "duration": 19,
    "start_time": "2022-02-12T14:51:15.634Z"
   },
   {
    "duration": 14,
    "start_time": "2022-02-12T14:51:15.655Z"
   },
   {
    "duration": 21,
    "start_time": "2022-02-12T14:51:15.671Z"
   },
   {
    "duration": 8,
    "start_time": "2022-02-12T14:51:15.694Z"
   },
   {
    "duration": 25,
    "start_time": "2022-02-12T14:51:15.704Z"
   },
   {
    "duration": 17,
    "start_time": "2022-02-12T14:51:15.732Z"
   },
   {
    "duration": 10,
    "start_time": "2022-02-12T14:51:15.751Z"
   },
   {
    "duration": 21,
    "start_time": "2022-02-12T14:51:15.763Z"
   },
   {
    "duration": 13,
    "start_time": "2022-02-12T14:51:15.785Z"
   },
   {
    "duration": 28,
    "start_time": "2022-02-12T14:51:15.799Z"
   },
   {
    "duration": 102,
    "start_time": "2022-02-12T14:51:15.829Z"
   },
   {
    "duration": 6,
    "start_time": "2022-02-12T14:51:15.933Z"
   },
   {
    "duration": 47,
    "start_time": "2022-02-12T14:51:15.941Z"
   },
   {
    "duration": 27,
    "start_time": "2022-02-12T14:51:15.990Z"
   },
   {
    "duration": 16,
    "start_time": "2022-02-12T14:51:16.020Z"
   },
   {
    "duration": 44,
    "start_time": "2022-02-12T14:51:16.039Z"
   },
   {
    "duration": 7,
    "start_time": "2022-02-12T14:51:16.085Z"
   },
   {
    "duration": 25,
    "start_time": "2022-02-12T14:51:16.094Z"
   },
   {
    "duration": 13,
    "start_time": "2022-02-12T14:51:16.121Z"
   },
   {
    "duration": 10,
    "start_time": "2022-02-12T14:51:16.135Z"
   },
   {
    "duration": 28,
    "start_time": "2022-02-12T14:51:16.150Z"
   },
   {
    "duration": 33,
    "start_time": "2022-02-12T14:51:16.180Z"
   },
   {
    "duration": 8,
    "start_time": "2022-02-12T14:51:16.214Z"
   },
   {
    "duration": 15,
    "start_time": "2022-02-12T14:51:16.224Z"
   },
   {
    "duration": 9,
    "start_time": "2022-02-12T14:51:16.241Z"
   },
   {
    "duration": 22,
    "start_time": "2022-02-12T14:51:16.252Z"
   },
   {
    "duration": 37,
    "start_time": "2022-02-12T14:51:16.276Z"
   },
   {
    "duration": 41,
    "start_time": "2022-02-12T14:51:16.315Z"
   },
   {
    "duration": 21,
    "start_time": "2022-02-12T14:51:16.358Z"
   },
   {
    "duration": 59,
    "start_time": "2022-02-12T14:51:16.381Z"
   },
   {
    "duration": 11,
    "start_time": "2022-02-12T14:51:16.442Z"
   },
   {
    "duration": 20,
    "start_time": "2022-02-12T14:51:16.455Z"
   },
   {
    "duration": 43,
    "start_time": "2022-02-12T14:51:16.477Z"
   },
   {
    "duration": 19,
    "start_time": "2022-02-12T14:51:16.522Z"
   },
   {
    "duration": 14,
    "start_time": "2022-02-12T14:51:16.543Z"
   },
   {
    "duration": 59,
    "start_time": "2022-02-12T14:51:16.559Z"
   },
   {
    "duration": 8,
    "start_time": "2022-02-12T14:51:16.620Z"
   },
   {
    "duration": 1189,
    "start_time": "2022-02-12T14:51:16.630Z"
   },
   {
    "duration": 33,
    "start_time": "2022-02-12T14:51:17.821Z"
   },
   {
    "duration": 8,
    "start_time": "2022-02-12T14:51:17.856Z"
   },
   {
    "duration": 259,
    "start_time": "2022-02-12T14:51:17.865Z"
   },
   {
    "duration": 5,
    "start_time": "2022-02-12T14:51:18.126Z"
   },
   {
    "duration": 228,
    "start_time": "2022-02-12T14:51:18.133Z"
   },
   {
    "duration": 4,
    "start_time": "2022-02-12T14:51:18.363Z"
   },
   {
    "duration": 231,
    "start_time": "2022-02-12T14:51:18.369Z"
   },
   {
    "duration": 9,
    "start_time": "2022-02-12T14:51:18.602Z"
   },
   {
    "duration": 33,
    "start_time": "2022-02-12T14:51:18.612Z"
   },
   {
    "duration": 251,
    "start_time": "2022-02-12T14:51:18.647Z"
   },
   {
    "duration": 10,
    "start_time": "2022-02-12T14:51:18.900Z"
   },
   {
    "duration": 261,
    "start_time": "2022-02-12T14:51:18.913Z"
   },
   {
    "duration": 4,
    "start_time": "2022-02-12T14:51:19.176Z"
   },
   {
    "duration": 314,
    "start_time": "2022-02-12T14:51:19.182Z"
   },
   {
    "duration": 12,
    "start_time": "2022-02-12T14:51:19.498Z"
   },
   {
    "duration": 286,
    "start_time": "2022-02-12T14:51:19.513Z"
   },
   {
    "duration": 278,
    "start_time": "2022-02-12T14:51:19.801Z"
   },
   {
    "duration": 280,
    "start_time": "2022-02-12T14:51:20.081Z"
   },
   {
    "duration": 154,
    "start_time": "2022-02-12T14:51:20.364Z"
   },
   {
    "duration": 6,
    "start_time": "2022-02-12T14:51:20.521Z"
   },
   {
    "duration": 27,
    "start_time": "2022-02-12T14:51:20.529Z"
   },
   {
    "duration": 24,
    "start_time": "2022-02-12T14:51:20.558Z"
   },
   {
    "duration": 34,
    "start_time": "2022-02-12T14:51:20.584Z"
   },
   {
    "duration": 7,
    "start_time": "2022-02-12T14:51:20.620Z"
   },
   {
    "duration": 13,
    "start_time": "2022-02-12T14:51:20.629Z"
   },
   {
    "duration": 91,
    "start_time": "2022-02-12T16:00:28.421Z"
   },
   {
    "duration": 119,
    "start_time": "2022-02-12T16:08:21.785Z"
   },
   {
    "duration": 135,
    "start_time": "2022-02-12T16:12:35.604Z"
   },
   {
    "duration": 299,
    "start_time": "2022-02-12T17:02:49.721Z"
   },
   {
    "duration": 1265,
    "start_time": "2022-02-12T17:03:03.618Z"
   },
   {
    "duration": 506,
    "start_time": "2022-02-12T17:03:04.885Z"
   },
   {
    "duration": 20,
    "start_time": "2022-02-12T17:03:05.393Z"
   },
   {
    "duration": 16,
    "start_time": "2022-02-12T17:03:05.415Z"
   },
   {
    "duration": 19,
    "start_time": "2022-02-12T17:03:05.432Z"
   },
   {
    "duration": 12,
    "start_time": "2022-02-12T17:03:05.453Z"
   },
   {
    "duration": 23,
    "start_time": "2022-02-12T17:03:05.467Z"
   },
   {
    "duration": 16,
    "start_time": "2022-02-12T17:03:05.493Z"
   },
   {
    "duration": 13,
    "start_time": "2022-02-12T17:03:05.511Z"
   },
   {
    "duration": 26,
    "start_time": "2022-02-12T17:03:05.525Z"
   },
   {
    "duration": 19,
    "start_time": "2022-02-12T17:03:05.553Z"
   },
   {
    "duration": 19,
    "start_time": "2022-02-12T17:03:05.574Z"
   },
   {
    "duration": 106,
    "start_time": "2022-02-12T17:03:05.595Z"
   },
   {
    "duration": 5,
    "start_time": "2022-02-12T17:03:05.702Z"
   },
   {
    "duration": 48,
    "start_time": "2022-02-12T17:03:05.709Z"
   },
   {
    "duration": 11,
    "start_time": "2022-02-12T17:03:05.759Z"
   },
   {
    "duration": 24,
    "start_time": "2022-02-12T17:03:05.771Z"
   },
   {
    "duration": 46,
    "start_time": "2022-02-12T17:03:05.797Z"
   },
   {
    "duration": 7,
    "start_time": "2022-02-12T17:03:05.845Z"
   },
   {
    "duration": 32,
    "start_time": "2022-02-12T17:03:05.854Z"
   },
   {
    "duration": 24,
    "start_time": "2022-02-12T17:03:05.888Z"
   },
   {
    "duration": 27,
    "start_time": "2022-02-12T17:03:05.915Z"
   },
   {
    "duration": 45,
    "start_time": "2022-02-12T17:03:05.947Z"
   },
   {
    "duration": 28,
    "start_time": "2022-02-12T17:03:05.995Z"
   },
   {
    "duration": 23,
    "start_time": "2022-02-12T17:03:06.026Z"
   },
   {
    "duration": 14,
    "start_time": "2022-02-12T17:03:06.051Z"
   },
   {
    "duration": 22,
    "start_time": "2022-02-12T17:03:06.067Z"
   },
   {
    "duration": 17,
    "start_time": "2022-02-12T17:03:06.091Z"
   },
   {
    "duration": 18,
    "start_time": "2022-02-12T17:03:06.110Z"
   },
   {
    "duration": 50,
    "start_time": "2022-02-12T17:03:06.130Z"
   },
   {
    "duration": 37,
    "start_time": "2022-02-12T17:03:06.182Z"
   },
   {
    "duration": 38,
    "start_time": "2022-02-12T17:03:06.221Z"
   },
   {
    "duration": 13,
    "start_time": "2022-02-12T17:03:06.261Z"
   },
   {
    "duration": 39,
    "start_time": "2022-02-12T17:03:06.276Z"
   },
   {
    "duration": 27,
    "start_time": "2022-02-12T17:03:06.318Z"
   },
   {
    "duration": 19,
    "start_time": "2022-02-12T17:03:06.347Z"
   },
   {
    "duration": 43,
    "start_time": "2022-02-12T17:03:06.368Z"
   },
   {
    "duration": 29,
    "start_time": "2022-02-12T17:03:06.413Z"
   },
   {
    "duration": 9,
    "start_time": "2022-02-12T17:03:06.444Z"
   },
   {
    "duration": 1143,
    "start_time": "2022-02-12T17:03:06.456Z"
   },
   {
    "duration": 31,
    "start_time": "2022-02-12T17:03:07.601Z"
   },
   {
    "duration": 26,
    "start_time": "2022-02-12T17:03:07.634Z"
   },
   {
    "duration": 260,
    "start_time": "2022-02-12T17:03:07.662Z"
   },
   {
    "duration": 6,
    "start_time": "2022-02-12T17:03:07.924Z"
   },
   {
    "duration": 241,
    "start_time": "2022-02-12T17:03:07.932Z"
   },
   {
    "duration": 5,
    "start_time": "2022-02-12T17:03:08.175Z"
   },
   {
    "duration": 259,
    "start_time": "2022-02-12T17:03:08.182Z"
   },
   {
    "duration": 6,
    "start_time": "2022-02-12T17:03:08.443Z"
   },
   {
    "duration": 25,
    "start_time": "2022-02-12T17:03:08.451Z"
   },
   {
    "duration": 279,
    "start_time": "2022-02-12T17:03:08.478Z"
   },
   {
    "duration": 5,
    "start_time": "2022-02-12T17:03:08.759Z"
   },
   {
    "duration": 248,
    "start_time": "2022-02-12T17:03:08.766Z"
   },
   {
    "duration": 5,
    "start_time": "2022-02-12T17:03:09.016Z"
   },
   {
    "duration": 320,
    "start_time": "2022-02-12T17:03:09.022Z"
   },
   {
    "duration": 5,
    "start_time": "2022-02-12T17:03:09.345Z"
   },
   {
    "duration": 302,
    "start_time": "2022-02-12T17:03:09.351Z"
   },
   {
    "duration": 301,
    "start_time": "2022-02-12T17:03:09.655Z"
   },
   {
    "duration": 297,
    "start_time": "2022-02-12T17:03:09.958Z"
   },
   {
    "duration": 159,
    "start_time": "2022-02-12T17:03:10.256Z"
   },
   {
    "duration": 7,
    "start_time": "2022-02-12T17:03:10.417Z"
   },
   {
    "duration": 6,
    "start_time": "2022-02-12T17:03:10.427Z"
   },
   {
    "duration": 28,
    "start_time": "2022-02-12T17:03:10.435Z"
   },
   {
    "duration": 52,
    "start_time": "2022-02-12T17:03:10.466Z"
   },
   {
    "duration": 8,
    "start_time": "2022-02-12T17:03:10.520Z"
   },
   {
    "duration": 15,
    "start_time": "2022-02-12T17:03:10.530Z"
   },
   {
    "duration": 35,
    "start_time": "2022-02-12T17:03:46.675Z"
   },
   {
    "duration": 36,
    "start_time": "2022-02-12T17:04:23.995Z"
   },
   {
    "duration": 38,
    "start_time": "2022-02-12T17:05:30.494Z"
   },
   {
    "duration": 37,
    "start_time": "2022-02-12T17:06:07.133Z"
   },
   {
    "duration": 37,
    "start_time": "2022-02-12T17:06:27.396Z"
   },
   {
    "duration": 34,
    "start_time": "2022-02-12T17:06:44.557Z"
   },
   {
    "duration": 37,
    "start_time": "2022-02-12T17:32:32.518Z"
   },
   {
    "duration": 38,
    "start_time": "2022-02-12T17:33:03.514Z"
   },
   {
    "duration": 85,
    "start_time": "2022-02-12T17:36:07.852Z"
   },
   {
    "duration": 36,
    "start_time": "2022-02-12T17:37:24.992Z"
   },
   {
    "duration": 33,
    "start_time": "2022-02-12T17:37:32.016Z"
   },
   {
    "duration": 343,
    "start_time": "2022-02-13T17:29:11.310Z"
   },
   {
    "duration": 1518,
    "start_time": "2022-02-13T17:29:22.202Z"
   },
   {
    "duration": 524,
    "start_time": "2022-02-13T17:29:23.722Z"
   },
   {
    "duration": 21,
    "start_time": "2022-02-13T17:29:24.250Z"
   },
   {
    "duration": 16,
    "start_time": "2022-02-13T17:29:24.274Z"
   },
   {
    "duration": 17,
    "start_time": "2022-02-13T17:29:24.293Z"
   },
   {
    "duration": 41,
    "start_time": "2022-02-13T17:29:24.312Z"
   },
   {
    "duration": 17,
    "start_time": "2022-02-13T17:29:24.356Z"
   },
   {
    "duration": 11,
    "start_time": "2022-02-13T17:29:24.376Z"
   },
   {
    "duration": 9,
    "start_time": "2022-02-13T17:29:24.390Z"
   },
   {
    "duration": 47,
    "start_time": "2022-02-13T17:29:24.402Z"
   },
   {
    "duration": 8,
    "start_time": "2022-02-13T17:29:24.452Z"
   },
   {
    "duration": 17,
    "start_time": "2022-02-13T17:29:24.463Z"
   },
   {
    "duration": 165,
    "start_time": "2022-02-13T17:29:24.482Z"
   },
   {
    "duration": 8,
    "start_time": "2022-02-13T17:29:24.650Z"
   },
   {
    "duration": 53,
    "start_time": "2022-02-13T17:29:24.660Z"
   },
   {
    "duration": 35,
    "start_time": "2022-02-13T17:29:24.715Z"
   },
   {
    "duration": 10,
    "start_time": "2022-02-13T17:29:24.753Z"
   },
   {
    "duration": 63,
    "start_time": "2022-02-13T17:29:24.766Z"
   },
   {
    "duration": 24,
    "start_time": "2022-02-13T17:29:24.832Z"
   },
   {
    "duration": 23,
    "start_time": "2022-02-13T17:29:24.859Z"
   },
   {
    "duration": 14,
    "start_time": "2022-02-13T17:29:24.885Z"
   },
   {
    "duration": 48,
    "start_time": "2022-02-13T17:29:24.902Z"
   },
   {
    "duration": 41,
    "start_time": "2022-02-13T17:29:24.957Z"
   },
   {
    "duration": 9,
    "start_time": "2022-02-13T17:29:25.002Z"
   },
   {
    "duration": 47,
    "start_time": "2022-02-13T17:29:25.013Z"
   },
   {
    "duration": 13,
    "start_time": "2022-02-13T17:29:25.063Z"
   },
   {
    "duration": 8,
    "start_time": "2022-02-13T17:29:25.079Z"
   },
   {
    "duration": 27,
    "start_time": "2022-02-13T17:29:25.089Z"
   },
   {
    "duration": 48,
    "start_time": "2022-02-13T17:29:25.118Z"
   },
   {
    "duration": 50,
    "start_time": "2022-02-13T17:29:25.169Z"
   },
   {
    "duration": 44,
    "start_time": "2022-02-13T17:29:25.222Z"
   },
   {
    "duration": 45,
    "start_time": "2022-02-13T17:29:25.269Z"
   },
   {
    "duration": 43,
    "start_time": "2022-02-13T17:29:25.316Z"
   },
   {
    "duration": 23,
    "start_time": "2022-02-13T17:29:25.362Z"
   },
   {
    "duration": 65,
    "start_time": "2022-02-13T17:29:25.387Z"
   },
   {
    "duration": 530,
    "start_time": "2022-02-13T17:29:25.454Z"
   },
   {
    "duration": 544,
    "start_time": "2022-02-13T17:29:25.444Z"
   },
   {
    "duration": 539,
    "start_time": "2022-02-13T17:29:25.450Z"
   },
   {
    "duration": 534,
    "start_time": "2022-02-13T17:29:25.456Z"
   },
   {
    "duration": 533,
    "start_time": "2022-02-13T17:29:25.459Z"
   },
   {
    "duration": 530,
    "start_time": "2022-02-13T17:29:25.464Z"
   },
   {
    "duration": 525,
    "start_time": "2022-02-13T17:29:25.470Z"
   },
   {
    "duration": 520,
    "start_time": "2022-02-13T17:29:25.476Z"
   },
   {
    "duration": 518,
    "start_time": "2022-02-13T17:29:25.480Z"
   },
   {
    "duration": 512,
    "start_time": "2022-02-13T17:29:25.487Z"
   },
   {
    "duration": 508,
    "start_time": "2022-02-13T17:29:25.492Z"
   },
   {
    "duration": 504,
    "start_time": "2022-02-13T17:29:25.497Z"
   },
   {
    "duration": 500,
    "start_time": "2022-02-13T17:29:25.503Z"
   },
   {
    "duration": 497,
    "start_time": "2022-02-13T17:29:25.508Z"
   },
   {
    "duration": 495,
    "start_time": "2022-02-13T17:29:25.512Z"
   },
   {
    "duration": 488,
    "start_time": "2022-02-13T17:29:25.520Z"
   },
   {
    "duration": 461,
    "start_time": "2022-02-13T17:29:25.549Z"
   },
   {
    "duration": 445,
    "start_time": "2022-02-13T17:29:25.567Z"
   },
   {
    "duration": 442,
    "start_time": "2022-02-13T17:29:25.572Z"
   },
   {
    "duration": 438,
    "start_time": "2022-02-13T17:29:25.577Z"
   },
   {
    "duration": 435,
    "start_time": "2022-02-13T17:29:25.581Z"
   },
   {
    "duration": 430,
    "start_time": "2022-02-13T17:29:25.587Z"
   },
   {
    "duration": 426,
    "start_time": "2022-02-13T17:29:25.593Z"
   },
   {
    "duration": 423,
    "start_time": "2022-02-13T17:29:25.597Z"
   },
   {
    "duration": 413,
    "start_time": "2022-02-13T17:29:25.609Z"
   },
   {
    "duration": 411,
    "start_time": "2022-02-13T17:29:25.613Z"
   },
   {
    "duration": 406,
    "start_time": "2022-02-13T17:29:25.619Z"
   },
   {
    "duration": 426,
    "start_time": "2022-02-13T17:29:25.624Z"
   },
   {
    "duration": 423,
    "start_time": "2022-02-13T17:29:25.629Z"
   },
   {
    "duration": 419,
    "start_time": "2022-02-13T17:29:25.635Z"
   },
   {
    "duration": 24,
    "start_time": "2022-02-13T17:30:20.139Z"
   },
   {
    "duration": 42,
    "start_time": "2022-02-13T17:30:33.126Z"
   },
   {
    "duration": 49,
    "start_time": "2022-02-13T17:31:32.066Z"
   },
   {
    "duration": 30,
    "start_time": "2022-02-13T17:33:56.963Z"
   },
   {
    "duration": 301,
    "start_time": "2022-02-13T17:34:22.677Z"
   },
   {
    "duration": 324,
    "start_time": "2022-02-13T17:35:47.707Z"
   },
   {
    "duration": 19,
    "start_time": "2022-02-13T17:37:09.952Z"
   },
   {
    "duration": 36,
    "start_time": "2022-02-13T17:38:40.506Z"
   },
   {
    "duration": 1197,
    "start_time": "2022-02-13T17:40:20.704Z"
   },
   {
    "duration": 40,
    "start_time": "2022-02-13T17:40:42.664Z"
   },
   {
    "duration": 46,
    "start_time": "2022-02-13T17:40:53.222Z"
   },
   {
    "duration": 295,
    "start_time": "2022-02-13T17:41:34.239Z"
   },
   {
    "duration": 143,
    "start_time": "2022-02-13T17:43:15.320Z"
   },
   {
    "duration": 113,
    "start_time": "2022-02-13T17:43:24.223Z"
   },
   {
    "duration": 94,
    "start_time": "2022-02-13T17:43:57.857Z"
   },
   {
    "duration": 380,
    "start_time": "2022-02-13T17:44:16.825Z"
   },
   {
    "duration": 382,
    "start_time": "2022-02-13T17:44:36.664Z"
   },
   {
    "duration": 374,
    "start_time": "2022-02-13T17:45:08.189Z"
   },
   {
    "duration": 131,
    "start_time": "2022-02-13T17:45:37.219Z"
   },
   {
    "duration": 737,
    "start_time": "2022-02-13T17:45:59.192Z"
   },
   {
    "duration": 27,
    "start_time": "2022-02-13T17:46:49.400Z"
   },
   {
    "duration": 403,
    "start_time": "2022-02-13T17:48:00.615Z"
   },
   {
    "duration": 34,
    "start_time": "2022-02-13T17:49:05.366Z"
   },
   {
    "duration": 15,
    "start_time": "2022-02-13T17:50:13.968Z"
   },
   {
    "duration": 21,
    "start_time": "2022-02-13T17:50:48.050Z"
   },
   {
    "duration": 13,
    "start_time": "2022-02-13T17:51:26.535Z"
   },
   {
    "duration": 17,
    "start_time": "2022-02-13T17:53:00.052Z"
   },
   {
    "duration": 13,
    "start_time": "2022-02-13T17:54:52.417Z"
   },
   {
    "duration": 16,
    "start_time": "2022-02-13T17:56:10.380Z"
   },
   {
    "duration": 30,
    "start_time": "2022-02-13T17:56:53.895Z"
   },
   {
    "duration": 9,
    "start_time": "2022-02-13T17:57:27.956Z"
   },
   {
    "duration": 818,
    "start_time": "2022-02-13T17:59:14.477Z"
   },
   {
    "duration": 1617,
    "start_time": "2022-02-13T17:59:58.934Z"
   },
   {
    "duration": 834,
    "start_time": "2022-02-13T18:00:00.554Z"
   },
   {
    "duration": 25,
    "start_time": "2022-02-13T18:00:01.392Z"
   },
   {
    "duration": 35,
    "start_time": "2022-02-13T18:00:01.420Z"
   },
   {
    "duration": 24,
    "start_time": "2022-02-13T18:00:01.458Z"
   },
   {
    "duration": 12,
    "start_time": "2022-02-13T18:00:01.484Z"
   },
   {
    "duration": 43,
    "start_time": "2022-02-13T18:00:01.499Z"
   },
   {
    "duration": 22,
    "start_time": "2022-02-13T18:00:01.546Z"
   },
   {
    "duration": 36,
    "start_time": "2022-02-13T18:00:01.571Z"
   },
   {
    "duration": 23,
    "start_time": "2022-02-13T18:00:01.610Z"
   },
   {
    "duration": 47,
    "start_time": "2022-02-13T18:00:01.636Z"
   },
   {
    "duration": 47,
    "start_time": "2022-02-13T18:00:01.685Z"
   },
   {
    "duration": 879,
    "start_time": "2022-02-13T18:00:01.735Z"
   },
   {
    "duration": 6,
    "start_time": "2022-02-13T18:00:02.617Z"
   },
   {
    "duration": 91,
    "start_time": "2022-02-13T18:00:02.626Z"
   },
   {
    "duration": 14,
    "start_time": "2022-02-13T18:00:02.720Z"
   },
   {
    "duration": 15,
    "start_time": "2022-02-13T18:00:02.736Z"
   },
   {
    "duration": 68,
    "start_time": "2022-02-13T18:00:02.753Z"
   },
   {
    "duration": 11,
    "start_time": "2022-02-13T18:00:02.824Z"
   },
   {
    "duration": 17,
    "start_time": "2022-02-13T18:00:02.849Z"
   },
   {
    "duration": 23,
    "start_time": "2022-02-13T18:00:02.868Z"
   },
   {
    "duration": 13,
    "start_time": "2022-02-13T18:00:02.894Z"
   },
   {
    "duration": 59,
    "start_time": "2022-02-13T18:00:02.914Z"
   },
   {
    "duration": 31,
    "start_time": "2022-02-13T18:00:02.978Z"
   },
   {
    "duration": 16,
    "start_time": "2022-02-13T18:00:03.013Z"
   },
   {
    "duration": 40,
    "start_time": "2022-02-13T18:00:03.032Z"
   },
   {
    "duration": 13,
    "start_time": "2022-02-13T18:00:03.075Z"
   },
   {
    "duration": 16,
    "start_time": "2022-02-13T18:00:03.092Z"
   },
   {
    "duration": 9,
    "start_time": "2022-02-13T18:00:03.110Z"
   },
   {
    "duration": 44,
    "start_time": "2022-02-13T18:00:03.122Z"
   },
   {
    "duration": 21,
    "start_time": "2022-02-13T18:00:03.168Z"
   },
   {
    "duration": 746,
    "start_time": "2022-02-13T18:00:03.192Z"
   },
   {
    "duration": 467,
    "start_time": "2022-02-13T18:00:03.475Z"
   },
   {
    "duration": 464,
    "start_time": "2022-02-13T18:00:03.480Z"
   },
   {
    "duration": 458,
    "start_time": "2022-02-13T18:00:03.488Z"
   },
   {
    "duration": 455,
    "start_time": "2022-02-13T18:00:03.493Z"
   },
   {
    "duration": 453,
    "start_time": "2022-02-13T18:00:03.497Z"
   },
   {
    "duration": 448,
    "start_time": "2022-02-13T18:00:03.504Z"
   },
   {
    "duration": 445,
    "start_time": "2022-02-13T18:00:03.509Z"
   },
   {
    "duration": 443,
    "start_time": "2022-02-13T18:00:03.513Z"
   },
   {
    "duration": 436,
    "start_time": "2022-02-13T18:00:03.521Z"
   },
   {
    "duration": 434,
    "start_time": "2022-02-13T18:00:03.525Z"
   },
   {
    "duration": 432,
    "start_time": "2022-02-13T18:00:03.529Z"
   },
   {
    "duration": 428,
    "start_time": "2022-02-13T18:00:03.534Z"
   },
   {
    "duration": 423,
    "start_time": "2022-02-13T18:00:03.541Z"
   },
   {
    "duration": 420,
    "start_time": "2022-02-13T18:00:03.546Z"
   },
   {
    "duration": 418,
    "start_time": "2022-02-13T18:00:03.550Z"
   },
   {
    "duration": 369,
    "start_time": "2022-02-13T18:00:03.600Z"
   },
   {
    "duration": 362,
    "start_time": "2022-02-13T18:00:03.608Z"
   },
   {
    "duration": 360,
    "start_time": "2022-02-13T18:00:03.612Z"
   },
   {
    "duration": 356,
    "start_time": "2022-02-13T18:00:03.617Z"
   },
   {
    "duration": 350,
    "start_time": "2022-02-13T18:00:03.625Z"
   },
   {
    "duration": 346,
    "start_time": "2022-02-13T18:00:03.630Z"
   },
   {
    "duration": 344,
    "start_time": "2022-02-13T18:00:03.634Z"
   },
   {
    "duration": 337,
    "start_time": "2022-02-13T18:00:03.642Z"
   },
   {
    "duration": 335,
    "start_time": "2022-02-13T18:00:03.646Z"
   },
   {
    "duration": 329,
    "start_time": "2022-02-13T18:00:03.654Z"
   },
   {
    "duration": 325,
    "start_time": "2022-02-13T18:00:03.659Z"
   },
   {
    "duration": 323,
    "start_time": "2022-02-13T18:00:03.663Z"
   },
   {
    "duration": 317,
    "start_time": "2022-02-13T18:00:03.671Z"
   },
   {
    "duration": 314,
    "start_time": "2022-02-13T18:00:03.676Z"
   },
   {
    "duration": 368,
    "start_time": "2022-02-13T18:00:03.681Z"
   },
   {
    "duration": 361,
    "start_time": "2022-02-13T18:00:03.689Z"
   },
   {
    "duration": 343,
    "start_time": "2022-02-13T18:00:03.709Z"
   },
   {
    "duration": 63,
    "start_time": "2022-02-13T18:00:03.990Z"
   },
   {
    "duration": 60,
    "start_time": "2022-02-13T18:00:03.995Z"
   },
   {
    "duration": 56,
    "start_time": "2022-02-13T18:00:04.000Z"
   },
   {
    "duration": 312,
    "start_time": "2022-02-13T18:01:25.118Z"
   },
   {
    "duration": 297,
    "start_time": "2022-02-13T18:02:01.095Z"
   },
   {
    "duration": 330,
    "start_time": "2022-02-13T18:02:34.736Z"
   },
   {
    "duration": 787,
    "start_time": "2022-02-13T18:03:15.943Z"
   },
   {
    "duration": 9,
    "start_time": "2022-02-13T18:03:32.054Z"
   },
   {
    "duration": 42,
    "start_time": "2022-02-13T18:03:34.584Z"
   },
   {
    "duration": 13,
    "start_time": "2022-02-13T18:03:37.476Z"
   },
   {
    "duration": 6,
    "start_time": "2022-02-13T18:03:39.758Z"
   },
   {
    "duration": 40,
    "start_time": "2022-02-13T18:03:42.377Z"
   },
   {
    "duration": 11,
    "start_time": "2022-02-13T18:03:50.133Z"
   },
   {
    "duration": 17,
    "start_time": "2022-02-13T18:03:57.944Z"
   },
   {
    "duration": 12,
    "start_time": "2022-02-13T18:04:01.560Z"
   },
   {
    "duration": 15,
    "start_time": "2022-02-13T18:04:06.254Z"
   },
   {
    "duration": 15,
    "start_time": "2022-02-13T18:04:07.191Z"
   },
   {
    "duration": 14,
    "start_time": "2022-02-13T18:04:10.882Z"
   },
   {
    "duration": 9,
    "start_time": "2022-02-13T18:04:16.819Z"
   },
   {
    "duration": 10,
    "start_time": "2022-02-13T18:04:27.493Z"
   },
   {
    "duration": 10,
    "start_time": "2022-02-13T18:04:30.276Z"
   },
   {
    "duration": 412,
    "start_time": "2022-02-13T18:05:13.080Z"
   },
   {
    "duration": 1666,
    "start_time": "2022-02-13T18:05:54.407Z"
   },
   {
    "duration": 851,
    "start_time": "2022-02-13T18:05:56.076Z"
   },
   {
    "duration": 24,
    "start_time": "2022-02-13T18:05:56.931Z"
   },
   {
    "duration": 18,
    "start_time": "2022-02-13T18:05:56.958Z"
   },
   {
    "duration": 20,
    "start_time": "2022-02-13T18:05:56.979Z"
   },
   {
    "duration": 12,
    "start_time": "2022-02-13T18:05:57.002Z"
   },
   {
    "duration": 22,
    "start_time": "2022-02-13T18:05:57.049Z"
   },
   {
    "duration": 11,
    "start_time": "2022-02-13T18:05:57.076Z"
   },
   {
    "duration": 21,
    "start_time": "2022-02-13T18:05:57.091Z"
   },
   {
    "duration": 21,
    "start_time": "2022-02-13T18:05:57.149Z"
   },
   {
    "duration": 42,
    "start_time": "2022-02-13T18:05:57.172Z"
   },
   {
    "duration": 25,
    "start_time": "2022-02-13T18:05:57.218Z"
   },
   {
    "duration": 885,
    "start_time": "2022-02-13T18:05:57.246Z"
   },
   {
    "duration": 16,
    "start_time": "2022-02-13T18:05:58.133Z"
   },
   {
    "duration": 52,
    "start_time": "2022-02-13T18:05:58.152Z"
   },
   {
    "duration": 44,
    "start_time": "2022-02-13T18:05:58.206Z"
   },
   {
    "duration": 16,
    "start_time": "2022-02-13T18:05:58.252Z"
   },
   {
    "duration": 68,
    "start_time": "2022-02-13T18:05:58.271Z"
   },
   {
    "duration": 15,
    "start_time": "2022-02-13T18:05:58.341Z"
   },
   {
    "duration": 17,
    "start_time": "2022-02-13T18:05:58.359Z"
   },
   {
    "duration": 23,
    "start_time": "2022-02-13T18:05:58.378Z"
   },
   {
    "duration": 54,
    "start_time": "2022-02-13T18:05:58.404Z"
   },
   {
    "duration": 17,
    "start_time": "2022-02-13T18:05:58.465Z"
   },
   {
    "duration": 18,
    "start_time": "2022-02-13T18:05:58.487Z"
   },
   {
    "duration": 47,
    "start_time": "2022-02-13T18:05:58.508Z"
   },
   {
    "duration": 9,
    "start_time": "2022-02-13T18:05:58.558Z"
   },
   {
    "duration": 11,
    "start_time": "2022-02-13T18:05:58.571Z"
   },
   {
    "duration": 16,
    "start_time": "2022-02-13T18:05:58.585Z"
   },
   {
    "duration": 48,
    "start_time": "2022-02-13T18:05:58.604Z"
   },
   {
    "duration": 26,
    "start_time": "2022-02-13T18:05:58.655Z"
   },
   {
    "duration": 28,
    "start_time": "2022-02-13T18:05:58.684Z"
   },
   {
    "duration": 990,
    "start_time": "2022-02-13T18:05:58.715Z"
   },
   {
    "duration": 603,
    "start_time": "2022-02-13T18:05:59.105Z"
   },
   {
    "duration": 594,
    "start_time": "2022-02-13T18:05:59.116Z"
   },
   {
    "duration": 591,
    "start_time": "2022-02-13T18:05:59.121Z"
   },
   {
    "duration": 482,
    "start_time": "2022-02-13T18:05:59.232Z"
   },
   {
    "duration": 478,
    "start_time": "2022-02-13T18:05:59.238Z"
   },
   {
    "duration": 471,
    "start_time": "2022-02-13T18:05:59.246Z"
   },
   {
    "duration": 468,
    "start_time": "2022-02-13T18:05:59.251Z"
   },
   {
    "duration": 464,
    "start_time": "2022-02-13T18:05:59.256Z"
   },
   {
    "duration": 457,
    "start_time": "2022-02-13T18:05:59.265Z"
   },
   {
    "duration": 453,
    "start_time": "2022-02-13T18:05:59.270Z"
   },
   {
    "duration": 447,
    "start_time": "2022-02-13T18:05:59.278Z"
   },
   {
    "duration": 443,
    "start_time": "2022-02-13T18:05:59.283Z"
   },
   {
    "duration": 440,
    "start_time": "2022-02-13T18:05:59.288Z"
   },
   {
    "duration": 416,
    "start_time": "2022-02-13T18:05:59.313Z"
   },
   {
    "duration": 414,
    "start_time": "2022-02-13T18:05:59.317Z"
   },
   {
    "duration": 410,
    "start_time": "2022-02-13T18:05:59.323Z"
   },
   {
    "duration": 403,
    "start_time": "2022-02-13T18:05:59.331Z"
   },
   {
    "duration": 400,
    "start_time": "2022-02-13T18:05:59.336Z"
   },
   {
    "duration": 397,
    "start_time": "2022-02-13T18:05:59.341Z"
   },
   {
    "duration": 390,
    "start_time": "2022-02-13T18:05:59.350Z"
   },
   {
    "duration": 387,
    "start_time": "2022-02-13T18:05:59.355Z"
   },
   {
    "duration": 381,
    "start_time": "2022-02-13T18:05:59.363Z"
   },
   {
    "duration": 381,
    "start_time": "2022-02-13T18:05:59.368Z"
   },
   {
    "duration": 377,
    "start_time": "2022-02-13T18:05:59.373Z"
   },
   {
    "duration": 371,
    "start_time": "2022-02-13T18:05:59.381Z"
   },
   {
    "duration": 366,
    "start_time": "2022-02-13T18:05:59.387Z"
   },
   {
    "duration": 362,
    "start_time": "2022-02-13T18:05:59.392Z"
   },
   {
    "duration": 355,
    "start_time": "2022-02-13T18:05:59.401Z"
   },
   {
    "duration": 352,
    "start_time": "2022-02-13T18:05:59.406Z"
   },
   {
    "duration": 346,
    "start_time": "2022-02-13T18:05:59.414Z"
   },
   {
    "duration": 344,
    "start_time": "2022-02-13T18:05:59.418Z"
   },
   {
    "duration": 340,
    "start_time": "2022-02-13T18:05:59.423Z"
   },
   {
    "duration": 333,
    "start_time": "2022-02-13T18:05:59.432Z"
   },
   {
    "duration": 330,
    "start_time": "2022-02-13T18:05:59.437Z"
   },
   {
    "duration": 327,
    "start_time": "2022-02-13T18:05:59.442Z"
   },
   {
    "duration": 320,
    "start_time": "2022-02-13T18:05:59.451Z"
   },
   {
    "duration": 317,
    "start_time": "2022-02-13T18:05:59.455Z"
   },
   {
    "duration": 59,
    "start_time": "2022-02-14T04:07:50.665Z"
   },
   {
    "duration": 60,
    "start_time": "2022-02-14T04:14:26.345Z"
   },
   {
    "duration": 325,
    "start_time": "2022-02-14T18:38:08.105Z"
   },
   {
    "duration": 1667,
    "start_time": "2022-02-14T18:38:16.898Z"
   },
   {
    "duration": 609,
    "start_time": "2022-02-14T18:38:18.568Z"
   },
   {
    "duration": 25,
    "start_time": "2022-02-14T18:38:19.180Z"
   },
   {
    "duration": 312,
    "start_time": "2022-02-14T18:38:19.209Z"
   },
   {
    "duration": 235,
    "start_time": "2022-02-14T18:38:19.524Z"
   },
   {
    "duration": 255,
    "start_time": "2022-02-14T18:38:19.762Z"
   },
   {
    "duration": 261,
    "start_time": "2022-02-14T18:38:20.020Z"
   },
   {
    "duration": 230,
    "start_time": "2022-02-14T18:38:20.285Z"
   },
   {
    "duration": 236,
    "start_time": "2022-02-14T18:38:20.519Z"
   },
   {
    "duration": 255,
    "start_time": "2022-02-14T18:38:20.757Z"
   },
   {
    "duration": 309,
    "start_time": "2022-02-14T18:38:21.015Z"
   },
   {
    "duration": 258,
    "start_time": "2022-02-14T18:38:21.326Z"
   },
   {
    "duration": 520,
    "start_time": "2022-02-14T18:38:21.586Z"
   },
   {
    "duration": 7,
    "start_time": "2022-02-14T18:38:22.108Z"
   },
   {
    "duration": 618,
    "start_time": "2022-02-14T18:38:22.117Z"
   },
   {
    "duration": 314,
    "start_time": "2022-02-14T18:38:22.737Z"
   },
   {
    "duration": 330,
    "start_time": "2022-02-14T18:38:23.054Z"
   },
   {
    "duration": 279,
    "start_time": "2022-02-14T18:38:23.386Z"
   },
   {
    "duration": 413,
    "start_time": "2022-02-14T18:38:23.667Z"
   },
   {
    "duration": 171,
    "start_time": "2022-02-14T18:38:24.083Z"
   },
   {
    "duration": 250,
    "start_time": "2022-02-14T18:38:24.257Z"
   },
   {
    "duration": 208,
    "start_time": "2022-02-14T18:38:24.509Z"
   },
   {
    "duration": 162,
    "start_time": "2022-02-14T18:38:24.726Z"
   },
   {
    "duration": 223,
    "start_time": "2022-02-14T18:38:24.892Z"
   },
   {
    "duration": 367,
    "start_time": "2022-02-14T18:38:25.118Z"
   },
   {
    "duration": 194,
    "start_time": "2022-02-14T18:38:25.487Z"
   },
   {
    "duration": 213,
    "start_time": "2022-02-14T18:38:25.683Z"
   },
   {
    "duration": 229,
    "start_time": "2022-02-14T18:38:25.898Z"
   },
   {
    "duration": 191,
    "start_time": "2022-02-14T18:38:26.129Z"
   },
   {
    "duration": 161,
    "start_time": "2022-02-14T18:38:26.323Z"
   },
   {
    "duration": 211,
    "start_time": "2022-02-14T18:38:26.487Z"
   },
   {
    "duration": 265,
    "start_time": "2022-02-14T18:38:26.701Z"
   },
   {
    "duration": 221,
    "start_time": "2022-02-14T18:38:26.968Z"
   },
   {
    "duration": 236,
    "start_time": "2022-02-14T18:38:27.192Z"
   },
   {
    "duration": 195,
    "start_time": "2022-02-14T18:38:27.430Z"
   },
   {
    "duration": 189,
    "start_time": "2022-02-14T18:38:27.628Z"
   },
   {
    "duration": 413,
    "start_time": "2022-02-14T18:38:27.819Z"
   },
   {
    "duration": 284,
    "start_time": "2022-02-14T18:38:28.235Z"
   },
   {
    "duration": 260,
    "start_time": "2022-02-14T18:38:28.522Z"
   },
   {
    "duration": 2678,
    "start_time": "2022-02-14T18:38:28.785Z"
   },
   {
    "duration": 45,
    "start_time": "2022-02-14T18:38:31.465Z"
   },
   {
    "duration": 257,
    "start_time": "2022-02-14T18:38:31.513Z"
   },
   {
    "duration": 691,
    "start_time": "2022-02-14T18:38:31.773Z"
   },
   {
    "duration": 225,
    "start_time": "2022-02-14T18:38:32.470Z"
   },
   {
    "duration": 236,
    "start_time": "2022-02-14T18:38:32.698Z"
   },
   {
    "duration": 580,
    "start_time": "2022-02-14T18:38:32.937Z"
   },
   {
    "duration": 254,
    "start_time": "2022-02-14T18:38:33.519Z"
   },
   {
    "duration": 46,
    "start_time": "2022-02-14T18:38:33.775Z"
   },
   {
    "duration": 579,
    "start_time": "2022-02-14T18:38:33.823Z"
   },
   {
    "duration": 73,
    "start_time": "2022-02-14T18:38:34.405Z"
   },
   {
    "duration": 719,
    "start_time": "2022-02-14T18:38:34.481Z"
   },
   {
    "duration": 216,
    "start_time": "2022-02-14T18:38:35.203Z"
   },
   {
    "duration": 640,
    "start_time": "2022-02-14T18:38:35.422Z"
   },
   {
    "duration": 9,
    "start_time": "2022-02-14T18:38:36.064Z"
   },
   {
    "duration": 423,
    "start_time": "2022-02-14T18:38:36.075Z"
   },
   {
    "duration": 375,
    "start_time": "2022-02-14T18:38:36.500Z"
   },
   {
    "duration": 52,
    "start_time": "2022-02-14T18:38:36.878Z"
   },
   {
    "duration": 553,
    "start_time": "2022-02-14T18:38:36.932Z"
   },
   {
    "duration": 400,
    "start_time": "2022-02-14T18:38:37.488Z"
   },
   {
    "duration": 243,
    "start_time": "2022-02-14T18:38:37.891Z"
   },
   {
    "duration": 45,
    "start_time": "2022-02-14T18:38:38.137Z"
   },
   {
    "duration": 648,
    "start_time": "2022-02-14T18:38:38.185Z"
   },
   {
    "duration": 436,
    "start_time": "2022-02-14T18:38:38.836Z"
   },
   {
    "duration": 443,
    "start_time": "2022-02-14T18:38:39.275Z"
   },
   {
    "duration": 284,
    "start_time": "2022-02-14T18:38:39.721Z"
   },
   {
    "duration": 227,
    "start_time": "2022-02-14T18:38:40.007Z"
   },
   {
    "duration": 425,
    "start_time": "2022-02-14T18:38:40.236Z"
   },
   {
    "duration": 388,
    "start_time": "2022-02-14T18:38:40.669Z"
   },
   {
    "duration": 371,
    "start_time": "2022-02-14T18:38:41.060Z"
   },
   {
    "duration": 322,
    "start_time": "2022-02-14T18:38:41.433Z"
   },
   {
    "duration": 370,
    "start_time": "2022-02-14T18:38:41.758Z"
   }
  ],
  "kernelspec": {
   "display_name": "Python 3 (ipykernel)",
   "language": "python",
   "name": "python3"
  },
  "language_info": {
   "codemirror_mode": {
    "name": "ipython",
    "version": 3
   },
   "file_extension": ".py",
   "mimetype": "text/x-python",
   "name": "python",
   "nbconvert_exporter": "python",
   "pygments_lexer": "ipython3",
   "version": "3.9.7"
  },
  "toc": {
   "base_numbering": 1,
   "nav_menu": {},
   "number_sections": true,
   "sideBar": true,
   "skip_h1_title": true,
   "title_cell": "Table of Contents",
   "title_sidebar": "Contents",
   "toc_cell": false,
   "toc_position": {},
   "toc_section_display": true,
   "toc_window_display": false
  }
 },
 "nbformat": 4,
 "nbformat_minor": 5
}
